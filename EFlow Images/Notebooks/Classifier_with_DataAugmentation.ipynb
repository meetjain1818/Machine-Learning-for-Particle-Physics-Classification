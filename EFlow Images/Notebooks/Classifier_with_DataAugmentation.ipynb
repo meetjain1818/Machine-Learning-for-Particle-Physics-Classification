{
 "cells": [
  {
   "cell_type": "code",
   "execution_count": 1,
   "id": "5a1f60d5-e872-44b5-a51c-ca5487b5bf63",
   "metadata": {},
   "outputs": [
    {
     "name": "stderr",
     "output_type": "stream",
     "text": [
      "2024-08-02 09:28:42.816005: I tensorflow/core/util/port.cc:113] oneDNN custom operations are on. You may see slightly different numerical results due to floating-point round-off errors from different computation orders. To turn them off, set the environment variable `TF_ENABLE_ONEDNN_OPTS=0`.\n",
      "2024-08-02 09:28:43.177570: I tensorflow/core/platform/cpu_feature_guard.cc:210] This TensorFlow binary is optimized to use available CPU instructions in performance-critical operations.\n",
      "To enable the following instructions: AVX2 AVX512F AVX512_VNNI FMA, in other operations, rebuild TensorFlow with the appropriate compiler flags.\n",
      "2024-08-02 09:28:44.311158: W tensorflow/compiler/tf2tensorrt/utils/py_utils.cc:38] TF-TRT Warning: Could not find TensorRT\n"
     ]
    }
   ],
   "source": [
    "import tensorflow as tf\n",
    "import os\n",
    "import matplotlib.pyplot as plt\n",
    "import numpy as np\n",
    "import cv2\n",
    "import zipfile\n",
    "import shutil\n",
    "import warnings\n",
    "from typing import List\n",
    "from typing import Tuple\n",
    "\n",
    "warnings.filterwarnings('ignore')\n",
    "\n",
    "from tensorflow.keras.models import Sequential\n",
    "from tensorflow.keras.layers import Conv2D, MaxPooling2D, Dense, Flatten, Dropout, AveragePooling2D,RandomFlip,RandomRotation, Rescaling\n",
    "\n",
    "from tensorflow.keras.models import load_model"
   ]
  },
  {
   "cell_type": "code",
   "execution_count": null,
   "id": "ccf5e6c7-73d6-429d-a424-cf1f4f57231d",
   "metadata": {},
   "outputs": [],
   "source": [
    "# Avoid OOM errors by setting GPU Memory Consumption Growth when using GPU\n",
    "gpus = tf.config.experimental.list_physical_devices('GPU')\n",
    "for gpu in gpus:\n",
    "    tf.config.experimental.set_memory_growth(gpu, True)"
   ]
  },
  {
   "cell_type": "code",
   "execution_count": 2,
   "id": "b14731c9-760f-42e6-9001-f0667d2465ef",
   "metadata": {},
   "outputs": [],
   "source": [
    "seed = 345\n",
    "tf.random.set_seed(seed)"
   ]
  },
  {
   "cell_type": "code",
   "execution_count": 3,
   "id": "83164f3e-fdb0-4e20-92b3-5aadc5be1c57",
   "metadata": {},
   "outputs": [
    {
     "name": "stdout",
     "output_type": "stream",
     "text": [
      "Found 19675 files belonging to 2 classes.\n"
     ]
    },
    {
     "name": "stderr",
     "output_type": "stream",
     "text": [
      "2024-08-02 09:28:48.083942: I external/local_xla/xla/stream_executor/cuda/cuda_executor.cc:998] successful NUMA node read from SysFS had negative value (-1), but there must be at least one NUMA node, so returning NUMA node zero. See more at https://github.com/torvalds/linux/blob/v6.0/Documentation/ABI/testing/sysfs-bus-pci#L344-L355\n",
      "2024-08-02 09:28:48.947631: I external/local_xla/xla/stream_executor/cuda/cuda_executor.cc:998] successful NUMA node read from SysFS had negative value (-1), but there must be at least one NUMA node, so returning NUMA node zero. See more at https://github.com/torvalds/linux/blob/v6.0/Documentation/ABI/testing/sysfs-bus-pci#L344-L355\n",
      "2024-08-02 09:28:48.947996: I external/local_xla/xla/stream_executor/cuda/cuda_executor.cc:998] successful NUMA node read from SysFS had negative value (-1), but there must be at least one NUMA node, so returning NUMA node zero. See more at https://github.com/torvalds/linux/blob/v6.0/Documentation/ABI/testing/sysfs-bus-pci#L344-L355\n",
      "2024-08-02 09:28:48.951463: I external/local_xla/xla/stream_executor/cuda/cuda_executor.cc:998] successful NUMA node read from SysFS had negative value (-1), but there must be at least one NUMA node, so returning NUMA node zero. See more at https://github.com/torvalds/linux/blob/v6.0/Documentation/ABI/testing/sysfs-bus-pci#L344-L355\n",
      "2024-08-02 09:28:48.951646: I external/local_xla/xla/stream_executor/cuda/cuda_executor.cc:998] successful NUMA node read from SysFS had negative value (-1), but there must be at least one NUMA node, so returning NUMA node zero. See more at https://github.com/torvalds/linux/blob/v6.0/Documentation/ABI/testing/sysfs-bus-pci#L344-L355\n",
      "2024-08-02 09:28:48.951798: I external/local_xla/xla/stream_executor/cuda/cuda_executor.cc:998] successful NUMA node read from SysFS had negative value (-1), but there must be at least one NUMA node, so returning NUMA node zero. See more at https://github.com/torvalds/linux/blob/v6.0/Documentation/ABI/testing/sysfs-bus-pci#L344-L355\n",
      "2024-08-02 09:28:49.111073: I external/local_xla/xla/stream_executor/cuda/cuda_executor.cc:998] successful NUMA node read from SysFS had negative value (-1), but there must be at least one NUMA node, so returning NUMA node zero. See more at https://github.com/torvalds/linux/blob/v6.0/Documentation/ABI/testing/sysfs-bus-pci#L344-L355\n",
      "2024-08-02 09:28:49.111600: I external/local_xla/xla/stream_executor/cuda/cuda_executor.cc:998] successful NUMA node read from SysFS had negative value (-1), but there must be at least one NUMA node, so returning NUMA node zero. See more at https://github.com/torvalds/linux/blob/v6.0/Documentation/ABI/testing/sysfs-bus-pci#L344-L355\n",
      "2024-08-02 09:28:49.111822: I external/local_xla/xla/stream_executor/cuda/cuda_executor.cc:998] successful NUMA node read from SysFS had negative value (-1), but there must be at least one NUMA node, so returning NUMA node zero. See more at https://github.com/torvalds/linux/blob/v6.0/Documentation/ABI/testing/sysfs-bus-pci#L344-L355\n",
      "2024-08-02 09:28:49.112360: I tensorflow/core/common_runtime/gpu/gpu_device.cc:1928] Created device /job:localhost/replica:0/task:0/device:GPU:0 with 13949 MB memory:  -> device: 0, name: Tesla T4, pci bus id: 0000:00:1e.0, compute capability: 7.5\n"
     ]
    }
   ],
   "source": [
    "data_dir = 'EFlow Images/data'\n",
    "\n",
    "data = tf.keras.utils.image_dataset_from_directory(data_dir,\n",
    "                                                   seed=seed,\n",
    "                                                   batch_size = 100,\n",
    "                                                   image_size = (50,50))"
   ]
  },
  {
   "cell_type": "code",
   "execution_count": 4,
   "id": "768793c2-8ad2-4cc7-a697-6841d4b285e2",
   "metadata": {},
   "outputs": [],
   "source": [
    "train_size = int(len(data)*.7) #70% of total batches as training data\n",
    "val_size = int(len(data)*.2)\n",
    "test_size = int(len(data)*.1)\n",
    "\n",
    "train = data.take(train_size)\n",
    "val = data.skip(train_size).take(val_size)\n",
    "test = data.skip(train_size+val_size).take(test_size)"
   ]
  },
  {
   "cell_type": "code",
   "execution_count": 5,
   "id": "ef97814e-b4c5-4331-8bfd-40ea66f7d27c",
   "metadata": {},
   "outputs": [],
   "source": [
    "#Defining data augmentation layers\n",
    "data_augmentation = tf.keras.Sequential([\n",
    "    Rescaling(1./255),\n",
    "    RandomFlip(\"horizontal_and_vertical\"),\n",
    "    RandomRotation(0.2),\n",
    "])"
   ]
  },
  {
   "cell_type": "code",
   "execution_count": 6,
   "id": "d06a2239-9d7e-4305-992d-63fe27e7abb6",
   "metadata": {},
   "outputs": [],
   "source": [
    "def prepare(ds, shuffle=False, augment=False):\n",
    "    '''\n",
    "    Performs preprocessing steps on the passed dataset.\n",
    "    '''\n",
    "    if shuffle:\n",
    "        ds = ds.shuffle(1000)\n",
    "    # Use data augmentation only on the training set.\n",
    "    if augment:\n",
    "        ds = ds.map(lambda x, y: (data_augmentation(x, training=True), y), num_parallel_calls=tf.data.AUTOTUNE)\n",
    "            \n",
    "    # Use buffered prefetching on all datasets.\n",
    "    return ds.prefetch(buffer_size=tf.data.AUTOTUNE)"
   ]
  },
  {
   "cell_type": "code",
   "execution_count": 7,
   "id": "11c07632-2b32-48f5-8487-247ce94ec45d",
   "metadata": {},
   "outputs": [],
   "source": [
    "train = prepare(train, augment = True)\n",
    "val = prepare(val)\n",
    "test = prepare(test)"
   ]
  },
  {
   "cell_type": "code",
   "execution_count": 8,
   "id": "7ff5b83e-d2f0-47a8-a585-1611ba1f350f",
   "metadata": {},
   "outputs": [],
   "source": [
    "train_data = train.as_numpy_iterator()\n",
    "batch = train_data.next()"
   ]
  },
  {
   "cell_type": "code",
   "execution_count": 9,
   "id": "1bba48d7-0ad8-4f9d-aa12-35184e6338c9",
   "metadata": {},
   "outputs": [
    {
     "data": {
      "image/png": "[encoded data removed]",
      "text/plain": [
       "<Figure size 2000x2000 with 4 Axes>"
      ]
     },
     "metadata": {},
     "output_type": "display_data"
    }
   ],
   "source": [
    "fig, ax = plt.subplots(ncols=4, figsize=(20,20))\n",
    "for idx, img in enumerate(batch[0][:4]):\n",
    "    ax[idx].imshow(img)\n",
    "    ax[idx].title.set_text(batch[1][idx])"
   ]
  },
  {
   "cell_type": "code",
   "execution_count": 10,
   "id": "1ee72fe1-b9c9-4e28-bb89-18ee4a3c189e",
   "metadata": {},
   "outputs": [
    {
     "name": "stderr",
     "output_type": "stream",
     "text": [
      "Clipping input data to the valid range for imshow with RGB data ([0..1] for floats or [0..255] for integers).\n"
     ]
    },
    {
     "data": {
      "image/png": "[encoded data removed]",
      "text/plain": [
       "<Figure size 640x480 with 1 Axes>"
      ]
     },
     "metadata": {},
     "output_type": "display_data"
    }
   ],
   "source": [
    "data_batch = data.as_numpy_iterator().next()\n",
    "sample_img =data_batch[0][4]\n",
    "plt.imshow(sample_img)\n",
    "plt.show()"
   ]
  },
  {
   "cell_type": "code",
   "execution_count": 12,
   "id": "214a41f0-7711-48dc-8eda-a4c23f11343d",
   "metadata": {},
   "outputs": [
    {
     "data": {
      "image/png": "[encoded data removed]",
      "text/plain": [
       "<Figure size 1000x1000 with 9 Axes>"
      ]
     },
     "metadata": {},
     "output_type": "display_data"
    }
   ],
   "source": [
    "#Augmented sample_img\n",
    "image = tf.cast(tf.expand_dims(sample_img, 0), tf.float32)\n",
    "plt.figure(figsize=(10, 10))\n",
    "for i in range(9):\n",
    "  augmented_image = data_augmentation(image)\n",
    "  ax = plt.subplot(3, 3, i + 1)\n",
    "  plt.imshow(augmented_image[0])\n",
    "  plt.axis(\"off\")"
   ]
  },
  {
   "cell_type": "markdown",
   "id": "7a571a69-0e3f-4174-a853-5b711024cc6b",
   "metadata": {},
   "source": [
    "# Model"
   ]
  },
  {
   "cell_type": "code",
   "execution_count": 13,
   "id": "2d730f75-1708-4ca4-b749-a6e4fc9e1183",
   "metadata": {},
   "outputs": [],
   "source": [
    "AugData_model = Sequential()\n",
    "\n",
    "AugData_model.add(Conv2D(128, (5,5), 1, padding = 'same', activation='relu', input_shape=(50,50,3)))\n",
    "AugData_model.add(AveragePooling2D(pool_size = (2,2),strides=1)) #2x2 filter\n",
    "\n",
    "AugData_model.add(Conv2D(256, (3,3), 1, activation='relu'))\n",
    "AugData_model.add(AveragePooling2D(pool_size = (2,2)))\n",
    "\n",
    "AugData_model.add(Conv2D(64, (3,3), 1, activation='relu'))\n",
    "AugData_model.add(AveragePooling2D(pool_size = (2,2), strides=1,\n",
    "                        padding='same'))\n",
    "\n",
    "AugData_model.add(Conv2D(16, (2,2), 1, activation='relu'))\n",
    "AugData_model.add(AveragePooling2D(pool_size = (2,2)))\n",
    "\n",
    "AugData_model.add(Conv2D(8, (2,2), 1, activation='relu'))\n",
    "AugData_model.add(AveragePooling2D(pool_size = (2,2)))\n",
    "\n",
    "AugData_model.add(Flatten())\n",
    "\n",
    "AugData_model.add(Dense(256, activation='relu'))\n",
    "AugData_model.add(Dense(512, activation='relu'))\n",
    "AugData_model.add(Dense(1, activation='sigmoid'))"
   ]
  },
  {
   "cell_type": "code",
   "execution_count": 14,
   "id": "93de614f-e1bb-4c4f-bb61-cee0ea9c7385",
   "metadata": {},
   "outputs": [
    {
     "data": {
      "text/html": [
       "<pre style=\"white-space:pre;overflow-x:auto;line-height:normal;font-family:Menlo,'DejaVu Sans Mono',consolas,'Courier New',monospace\"><span style=\"font-weight: bold\">Model: \"sequential_1\"</span>\n",
       "</pre>\n"
      ],
      "text/plain": [
       "\u001b[1mModel: \"sequential_1\"\u001b[0m\n"
      ]
     },
     "metadata": {},
     "output_type": "display_data"
    },
    {
     "data": {
      "text/html": [
       "<pre style=\"white-space:pre;overflow-x:auto;line-height:normal;font-family:Menlo,'DejaVu Sans Mono',consolas,'Courier New',monospace\">┏━━━━━━━━━━━━━━━━━━━━━━━━━━━━━━━━━┳━━━━━━━━━━━━━━━━━━━━━━━━┳━━━━━━━━━━━━━━━┓\n",
       "┃<span style=\"font-weight: bold\"> Layer (type)                    </span>┃<span style=\"font-weight: bold\"> Output Shape           </span>┃<span style=\"font-weight: bold\">       Param # </span>┃\n",
       "┡━━━━━━━━━━━━━━━━━━━━━━━━━━━━━━━━━╇━━━━━━━━━━━━━━━━━━━━━━━━╇━━━━━━━━━━━━━━━┩\n",
       "│ conv2d (<span style=\"color: #0087ff; text-decoration-color: #0087ff\">Conv2D</span>)                 │ (<span style=\"color: #00d7ff; text-decoration-color: #00d7ff\">None</span>, <span style=\"color: #00af00; text-decoration-color: #00af00\">50</span>, <span style=\"color: #00af00; text-decoration-color: #00af00\">50</span>, <span style=\"color: #00af00; text-decoration-color: #00af00\">128</span>)    │         <span style=\"color: #00af00; text-decoration-color: #00af00\">9,728</span> │\n",
       "├─────────────────────────────────┼────────────────────────┼───────────────┤\n",
       "│ average_pooling2d               │ (<span style=\"color: #00d7ff; text-decoration-color: #00d7ff\">None</span>, <span style=\"color: #00af00; text-decoration-color: #00af00\">49</span>, <span style=\"color: #00af00; text-decoration-color: #00af00\">49</span>, <span style=\"color: #00af00; text-decoration-color: #00af00\">128</span>)    │             <span style=\"color: #00af00; text-decoration-color: #00af00\">0</span> │\n",
       "│ (<span style=\"color: #0087ff; text-decoration-color: #0087ff\">AveragePooling2D</span>)              │                        │               │\n",
       "├─────────────────────────────────┼────────────────────────┼───────────────┤\n",
       "│ conv2d_1 (<span style=\"color: #0087ff; text-decoration-color: #0087ff\">Conv2D</span>)               │ (<span style=\"color: #00d7ff; text-decoration-color: #00d7ff\">None</span>, <span style=\"color: #00af00; text-decoration-color: #00af00\">47</span>, <span style=\"color: #00af00; text-decoration-color: #00af00\">47</span>, <span style=\"color: #00af00; text-decoration-color: #00af00\">256</span>)    │       <span style=\"color: #00af00; text-decoration-color: #00af00\">295,168</span> │\n",
       "├─────────────────────────────────┼────────────────────────┼───────────────┤\n",
       "│ average_pooling2d_1             │ (<span style=\"color: #00d7ff; text-decoration-color: #00d7ff\">None</span>, <span style=\"color: #00af00; text-decoration-color: #00af00\">23</span>, <span style=\"color: #00af00; text-decoration-color: #00af00\">23</span>, <span style=\"color: #00af00; text-decoration-color: #00af00\">256</span>)    │             <span style=\"color: #00af00; text-decoration-color: #00af00\">0</span> │\n",
       "│ (<span style=\"color: #0087ff; text-decoration-color: #0087ff\">AveragePooling2D</span>)              │                        │               │\n",
       "├─────────────────────────────────┼────────────────────────┼───────────────┤\n",
       "│ conv2d_2 (<span style=\"color: #0087ff; text-decoration-color: #0087ff\">Conv2D</span>)               │ (<span style=\"color: #00d7ff; text-decoration-color: #00d7ff\">None</span>, <span style=\"color: #00af00; text-decoration-color: #00af00\">21</span>, <span style=\"color: #00af00; text-decoration-color: #00af00\">21</span>, <span style=\"color: #00af00; text-decoration-color: #00af00\">64</span>)     │       <span style=\"color: #00af00; text-decoration-color: #00af00\">147,520</span> │\n",
       "├─────────────────────────────────┼────────────────────────┼───────────────┤\n",
       "│ average_pooling2d_2             │ (<span style=\"color: #00d7ff; text-decoration-color: #00d7ff\">None</span>, <span style=\"color: #00af00; text-decoration-color: #00af00\">21</span>, <span style=\"color: #00af00; text-decoration-color: #00af00\">21</span>, <span style=\"color: #00af00; text-decoration-color: #00af00\">64</span>)     │             <span style=\"color: #00af00; text-decoration-color: #00af00\">0</span> │\n",
       "│ (<span style=\"color: #0087ff; text-decoration-color: #0087ff\">AveragePooling2D</span>)              │                        │               │\n",
       "├─────────────────────────────────┼────────────────────────┼───────────────┤\n",
       "│ conv2d_3 (<span style=\"color: #0087ff; text-decoration-color: #0087ff\">Conv2D</span>)               │ (<span style=\"color: #00d7ff; text-decoration-color: #00d7ff\">None</span>, <span style=\"color: #00af00; text-decoration-color: #00af00\">20</span>, <span style=\"color: #00af00; text-decoration-color: #00af00\">20</span>, <span style=\"color: #00af00; text-decoration-color: #00af00\">16</span>)     │         <span style=\"color: #00af00; text-decoration-color: #00af00\">4,112</span> │\n",
       "├─────────────────────────────────┼────────────────────────┼───────────────┤\n",
       "│ average_pooling2d_3             │ (<span style=\"color: #00d7ff; text-decoration-color: #00d7ff\">None</span>, <span style=\"color: #00af00; text-decoration-color: #00af00\">10</span>, <span style=\"color: #00af00; text-decoration-color: #00af00\">10</span>, <span style=\"color: #00af00; text-decoration-color: #00af00\">16</span>)     │             <span style=\"color: #00af00; text-decoration-color: #00af00\">0</span> │\n",
       "│ (<span style=\"color: #0087ff; text-decoration-color: #0087ff\">AveragePooling2D</span>)              │                        │               │\n",
       "├─────────────────────────────────┼────────────────────────┼───────────────┤\n",
       "│ conv2d_4 (<span style=\"color: #0087ff; text-decoration-color: #0087ff\">Conv2D</span>)               │ (<span style=\"color: #00d7ff; text-decoration-color: #00d7ff\">None</span>, <span style=\"color: #00af00; text-decoration-color: #00af00\">9</span>, <span style=\"color: #00af00; text-decoration-color: #00af00\">9</span>, <span style=\"color: #00af00; text-decoration-color: #00af00\">8</span>)        │           <span style=\"color: #00af00; text-decoration-color: #00af00\">520</span> │\n",
       "├─────────────────────────────────┼────────────────────────┼───────────────┤\n",
       "│ average_pooling2d_4             │ (<span style=\"color: #00d7ff; text-decoration-color: #00d7ff\">None</span>, <span style=\"color: #00af00; text-decoration-color: #00af00\">4</span>, <span style=\"color: #00af00; text-decoration-color: #00af00\">4</span>, <span style=\"color: #00af00; text-decoration-color: #00af00\">8</span>)        │             <span style=\"color: #00af00; text-decoration-color: #00af00\">0</span> │\n",
       "│ (<span style=\"color: #0087ff; text-decoration-color: #0087ff\">AveragePooling2D</span>)              │                        │               │\n",
       "├─────────────────────────────────┼────────────────────────┼───────────────┤\n",
       "│ flatten (<span style=\"color: #0087ff; text-decoration-color: #0087ff\">Flatten</span>)               │ (<span style=\"color: #00d7ff; text-decoration-color: #00d7ff\">None</span>, <span style=\"color: #00af00; text-decoration-color: #00af00\">128</span>)            │             <span style=\"color: #00af00; text-decoration-color: #00af00\">0</span> │\n",
       "├─────────────────────────────────┼────────────────────────┼───────────────┤\n",
       "│ dense (<span style=\"color: #0087ff; text-decoration-color: #0087ff\">Dense</span>)                   │ (<span style=\"color: #00d7ff; text-decoration-color: #00d7ff\">None</span>, <span style=\"color: #00af00; text-decoration-color: #00af00\">256</span>)            │        <span style=\"color: #00af00; text-decoration-color: #00af00\">33,024</span> │\n",
       "├─────────────────────────────────┼────────────────────────┼───────────────┤\n",
       "│ dense_1 (<span style=\"color: #0087ff; text-decoration-color: #0087ff\">Dense</span>)                 │ (<span style=\"color: #00d7ff; text-decoration-color: #00d7ff\">None</span>, <span style=\"color: #00af00; text-decoration-color: #00af00\">512</span>)            │       <span style=\"color: #00af00; text-decoration-color: #00af00\">131,584</span> │\n",
       "├─────────────────────────────────┼────────────────────────┼───────────────┤\n",
       "│ dense_2 (<span style=\"color: #0087ff; text-decoration-color: #0087ff\">Dense</span>)                 │ (<span style=\"color: #00d7ff; text-decoration-color: #00d7ff\">None</span>, <span style=\"color: #00af00; text-decoration-color: #00af00\">1</span>)              │           <span style=\"color: #00af00; text-decoration-color: #00af00\">513</span> │\n",
       "└─────────────────────────────────┴────────────────────────┴───────────────┘\n",
       "</pre>\n"
      ],
      "text/plain": [
       "┏━━━━━━━━━━━━━━━━━━━━━━━━━━━━━━━━━┳━━━━━━━━━━━━━━━━━━━━━━━━┳━━━━━━━━━━━━━━━┓\n",
       "┃\u001b[1m \u001b[0m\u001b[1mLayer (type)                   \u001b[0m\u001b[1m \u001b[0m┃\u001b[1m \u001b[0m\u001b[1mOutput Shape          \u001b[0m\u001b[1m \u001b[0m┃\u001b[1m \u001b[0m\u001b[1m      Param #\u001b[0m\u001b[1m \u001b[0m┃\n",
       "┡━━━━━━━━━━━━━━━━━━━━━━━━━━━━━━━━━╇━━━━━━━━━━━━━━━━━━━━━━━━╇━━━━━━━━━━━━━━━┩\n",
       "│ conv2d (\u001b[38;5;33mConv2D\u001b[0m)                 │ (\u001b[38;5;45mNone\u001b[0m, \u001b[38;5;34m50\u001b[0m, \u001b[38;5;34m50\u001b[0m, \u001b[38;5;34m128\u001b[0m)    │         \u001b[38;5;34m9,728\u001b[0m │\n",
       "├─────────────────────────────────┼────────────────────────┼───────────────┤\n",
       "│ average_pooling2d               │ (\u001b[38;5;45mNone\u001b[0m, \u001b[38;5;34m49\u001b[0m, \u001b[38;5;34m49\u001b[0m, \u001b[38;5;34m128\u001b[0m)    │             \u001b[38;5;34m0\u001b[0m │\n",
       "│ (\u001b[38;5;33mAveragePooling2D\u001b[0m)              │                        │               │\n",
       "├─────────────────────────────────┼────────────────────────┼───────────────┤\n",
       "│ conv2d_1 (\u001b[38;5;33mConv2D\u001b[0m)               │ (\u001b[38;5;45mNone\u001b[0m, \u001b[38;5;34m47\u001b[0m, \u001b[38;5;34m47\u001b[0m, \u001b[38;5;34m256\u001b[0m)    │       \u001b[38;5;34m295,168\u001b[0m │\n",
       "├─────────────────────────────────┼────────────────────────┼───────────────┤\n",
       "│ average_pooling2d_1             │ (\u001b[38;5;45mNone\u001b[0m, \u001b[38;5;34m23\u001b[0m, \u001b[38;5;34m23\u001b[0m, \u001b[38;5;34m256\u001b[0m)    │             \u001b[38;5;34m0\u001b[0m │\n",
       "│ (\u001b[38;5;33mAveragePooling2D\u001b[0m)              │                        │               │\n",
       "├─────────────────────────────────┼────────────────────────┼───────────────┤\n",
       "│ conv2d_2 (\u001b[38;5;33mConv2D\u001b[0m)               │ (\u001b[38;5;45mNone\u001b[0m, \u001b[38;5;34m21\u001b[0m, \u001b[38;5;34m21\u001b[0m, \u001b[38;5;34m64\u001b[0m)     │       \u001b[38;5;34m147,520\u001b[0m │\n",
       "├─────────────────────────────────┼────────────────────────┼───────────────┤\n",
       "│ average_pooling2d_2             │ (\u001b[38;5;45mNone\u001b[0m, \u001b[38;5;34m21\u001b[0m, \u001b[38;5;34m21\u001b[0m, \u001b[38;5;34m64\u001b[0m)     │             \u001b[38;5;34m0\u001b[0m │\n",
       "│ (\u001b[38;5;33mAveragePooling2D\u001b[0m)              │                        │               │\n",
       "├─────────────────────────────────┼────────────────────────┼───────────────┤\n",
       "│ conv2d_3 (\u001b[38;5;33mConv2D\u001b[0m)               │ (\u001b[38;5;45mNone\u001b[0m, \u001b[38;5;34m20\u001b[0m, \u001b[38;5;34m20\u001b[0m, \u001b[38;5;34m16\u001b[0m)     │         \u001b[38;5;34m4,112\u001b[0m │\n",
       "├─────────────────────────────────┼────────────────────────┼───────────────┤\n",
       "│ average_pooling2d_3             │ (\u001b[38;5;45mNone\u001b[0m, \u001b[38;5;34m10\u001b[0m, \u001b[38;5;34m10\u001b[0m, \u001b[38;5;34m16\u001b[0m)     │             \u001b[38;5;34m0\u001b[0m │\n",
       "│ (\u001b[38;5;33mAveragePooling2D\u001b[0m)              │                        │               │\n",
       "├─────────────────────────────────┼────────────────────────┼───────────────┤\n",
       "│ conv2d_4 (\u001b[38;5;33mConv2D\u001b[0m)               │ (\u001b[38;5;45mNone\u001b[0m, \u001b[38;5;34m9\u001b[0m, \u001b[38;5;34m9\u001b[0m, \u001b[38;5;34m8\u001b[0m)        │           \u001b[38;5;34m520\u001b[0m │\n",
       "├─────────────────────────────────┼────────────────────────┼───────────────┤\n",
       "│ average_pooling2d_4             │ (\u001b[38;5;45mNone\u001b[0m, \u001b[38;5;34m4\u001b[0m, \u001b[38;5;34m4\u001b[0m, \u001b[38;5;34m8\u001b[0m)        │             \u001b[38;5;34m0\u001b[0m │\n",
       "│ (\u001b[38;5;33mAveragePooling2D\u001b[0m)              │                        │               │\n",
       "├─────────────────────────────────┼────────────────────────┼───────────────┤\n",
       "│ flatten (\u001b[38;5;33mFlatten\u001b[0m)               │ (\u001b[38;5;45mNone\u001b[0m, \u001b[38;5;34m128\u001b[0m)            │             \u001b[38;5;34m0\u001b[0m │\n",
       "├─────────────────────────────────┼────────────────────────┼───────────────┤\n",
       "│ dense (\u001b[38;5;33mDense\u001b[0m)                   │ (\u001b[38;5;45mNone\u001b[0m, \u001b[38;5;34m256\u001b[0m)            │        \u001b[38;5;34m33,024\u001b[0m │\n",
       "├─────────────────────────────────┼────────────────────────┼───────────────┤\n",
       "│ dense_1 (\u001b[38;5;33mDense\u001b[0m)                 │ (\u001b[38;5;45mNone\u001b[0m, \u001b[38;5;34m512\u001b[0m)            │       \u001b[38;5;34m131,584\u001b[0m │\n",
       "├─────────────────────────────────┼────────────────────────┼───────────────┤\n",
       "│ dense_2 (\u001b[38;5;33mDense\u001b[0m)                 │ (\u001b[38;5;45mNone\u001b[0m, \u001b[38;5;34m1\u001b[0m)              │           \u001b[38;5;34m513\u001b[0m │\n",
       "└─────────────────────────────────┴────────────────────────┴───────────────┘\n"
      ]
     },
     "metadata": {},
     "output_type": "display_data"
    },
    {
     "data": {
      "text/html": [
       "<pre style=\"white-space:pre;overflow-x:auto;line-height:normal;font-family:Menlo,'DejaVu Sans Mono',consolas,'Courier New',monospace\"><span style=\"font-weight: bold\"> Total params: </span><span style=\"color: #00af00; text-decoration-color: #00af00\">622,169</span> (2.37 MB)\n",
       "</pre>\n"
      ],
      "text/plain": [
       "\u001b[1m Total params: \u001b[0m\u001b[38;5;34m622,169\u001b[0m (2.37 MB)\n"
      ]
     },
     "metadata": {},
     "output_type": "display_data"
    },
    {
     "data": {
      "text/html": [
       "<pre style=\"white-space:pre;overflow-x:auto;line-height:normal;font-family:Menlo,'DejaVu Sans Mono',consolas,'Courier New',monospace\"><span style=\"font-weight: bold\"> Trainable params: </span><span style=\"color: #00af00; text-decoration-color: #00af00\">622,169</span> (2.37 MB)\n",
       "</pre>\n"
      ],
      "text/plain": [
       "\u001b[1m Trainable params: \u001b[0m\u001b[38;5;34m622,169\u001b[0m (2.37 MB)\n"
      ]
     },
     "metadata": {},
     "output_type": "display_data"
    },
    {
     "data": {
      "text/html": [
       "<pre style=\"white-space:pre;overflow-x:auto;line-height:normal;font-family:Menlo,'DejaVu Sans Mono',consolas,'Courier New',monospace\"><span style=\"font-weight: bold\"> Non-trainable params: </span><span style=\"color: #00af00; text-decoration-color: #00af00\">0</span> (0.00 B)\n",
       "</pre>\n"
      ],
      "text/plain": [
       "\u001b[1m Non-trainable params: \u001b[0m\u001b[38;5;34m0\u001b[0m (0.00 B)\n"
      ]
     },
     "metadata": {},
     "output_type": "display_data"
    }
   ],
   "source": [
    "AugData_model.summary()"
   ]
  },
  {
   "cell_type": "code",
   "execution_count": 15,
   "id": "d1136f16-c5e1-400d-88c9-c4a1f718e89a",
   "metadata": {},
   "outputs": [],
   "source": [
    "AugData_model.compile('adam', \n",
    "              loss=tf.losses.BinaryCrossentropy(), \n",
    "              metrics=['accuracy',\n",
    "                       tf.keras.metrics.Precision(),\n",
    "                       tf.keras.metrics.Recall(),\n",
    "                       tf.keras.metrics.AUC(),\n",
    "                       tf.keras.metrics.TruePositives(),\n",
    "                       tf.keras.metrics.FalsePositives(),\n",
    "                       tf.keras.metrics.TrueNegatives(),\n",
    "                       tf.keras.metrics.FalseNegatives()])"
   ]
  },
  {
   "cell_type": "code",
   "execution_count": null,
   "id": "4def748a-2a8d-46a7-b9b8-accab1fc26ea",
   "metadata": {},
   "outputs": [
    {
     "name": "stdout",
     "output_type": "stream",
     "text": [
      "Epoch 1/30\n"
     ]
    },
    {
     "name": "stderr",
     "output_type": "stream",
     "text": [
      "WARNING: All log messages before absl::InitializeLog() is called are written to STDERR\n",
      "I0000 00:00:1722590957.306806    2376 service.cc:145] XLA service 0x9029e80 initialized for platform CUDA (this does not guarantee that XLA will be used). Devices:\n",
      "I0000 00:00:1722590957.307100    2376 service.cc:153]   StreamExecutor device (0): Tesla T4, Compute Capability 7.5\n",
      "2024-08-02 09:29:17.431233: I tensorflow/compiler/mlir/tensorflow/utils/dump_mlir_util.cc:268] disabling MLIR crash reproducer, set env var `MLIR_CRASH_REPRODUCER_DIRECTORY` to enable.\n",
      "2024-08-02 09:29:17.889697: I external/local_xla/xla/stream_executor/cuda/cuda_dnn.cc:465] Loaded cuDNN version 8900\n",
      "I0000 00:00:1722590969.566810    2376 device_compiler.h:188] Compiled cluster using XLA!  This line is logged at most once for the lifetime of the process.\n"
     ]
    },
    {
     "name": "stdout",
     "output_type": "stream",
     "text": [
      "\u001b[1m137/137\u001b[0m \u001b[32m━━━━━━━━━━━━━━━━━━━━\u001b[0m\u001b[37m\u001b[0m \u001b[1m59s\u001b[0m 316ms/step - accuracy: 0.5206 - auc: 0.5190 - false_negatives: 1964.2391 - false_positives: 1307.7971 - loss: 0.6889 - precision: 0.5009 - recall: 0.3450 - true_negatives: 2198.7898 - true_positives: 1478.4492 - val_accuracy: 0.5023 - val_auc: 0.5000 - val_false_negatives: 0.0000e+00 - val_false_positives: 1941.0000 - val_loss: 295.5172 - val_precision: 0.5023 - val_recall: 1.0000 - val_true_negatives: 0.0000e+00 - val_true_positives: 1959.0000\n",
      "Epoch 2/30\n",
      "\u001b[1m137/137\u001b[0m \u001b[32m━━━━━━━━━━━━━━━━━━━━\u001b[0m\u001b[37m\u001b[0m \u001b[1m11s\u001b[0m 81ms/step - accuracy: 0.6180 - auc: 0.6526 - false_negatives: 1780.7102 - false_positives: 859.4203 - loss: 0.6494 - precision: 0.6566 - recall: 0.4697 - true_negatives: 2653.4709 - true_positives: 1655.6740 - val_accuracy: 0.5023 - val_auc: 0.4998 - val_false_negatives: 24.0000 - val_false_positives: 1917.0000 - val_loss: 209.8762 - val_precision: 0.5026 - val_recall: 0.9878 - val_true_negatives: 22.0000 - val_true_positives: 1937.0000\n",
      "Epoch 3/30\n",
      "\u001b[1m137/137\u001b[0m \u001b[32m━━━━━━━━━━━━━━━━━━━━\u001b[0m\u001b[37m\u001b[0m \u001b[1m11s\u001b[0m 79ms/step - accuracy: 0.6351 - auc: 0.6769 - false_negatives: 1490.0072 - false_positives: 1021.0145 - loss: 0.6408 - precision: 0.6514 - recall: 0.5689 - true_negatives: 2486.7390 - true_positives: 1951.5145 - val_accuracy: 0.5041 - val_auc: 0.5000 - val_false_negatives: 0.0000e+00 - val_false_positives: 1934.0000 - val_loss: 264.6576 - val_precision: 0.5041 - val_recall: 1.0000 - val_true_negatives: 0.0000e+00 - val_true_positives: 1966.0000\n",
      "Epoch 4/30\n",
      "\u001b[1m137/137\u001b[0m \u001b[32m━━━━━━━━━━━━━━━━━━━━\u001b[0m\u001b[37m\u001b[0m \u001b[1m11s\u001b[0m 79ms/step - accuracy: 0.6568 - auc: 0.6978 - false_negatives: 1373.7029 - false_positives: 971.4565 - loss: 0.6302 - precision: 0.6719 - recall: 0.5983 - true_negatives: 2536.8623 - true_positives: 2067.2537 - val_accuracy: 0.4972 - val_auc: 0.5000 - val_false_negatives: 0.0000e+00 - val_false_positives: 1961.0000 - val_loss: 182.5012 - val_precision: 0.4972 - val_recall: 1.0000 - val_true_negatives: 0.0000e+00 - val_true_positives: 1939.0000\n",
      "Epoch 5/30\n",
      "\u001b[1m137/137\u001b[0m \u001b[32m━━━━━━━━━━━━━━━━━━━━\u001b[0m\u001b[37m\u001b[0m \u001b[1m11s\u001b[0m 79ms/step - accuracy: 0.6622 - auc: 0.7026 - false_negatives: 1402.8840 - false_positives: 916.8043 - loss: 0.6233 - precision: 0.6811 - recall: 0.5896 - true_negatives: 2595.7971 - true_positives: 2033.7898 - val_accuracy: 0.5003 - val_auc: 0.5000 - val_false_negatives: 0.0000e+00 - val_false_positives: 1949.0000 - val_loss: 288.4223 - val_precision: 0.5003 - val_recall: 1.0000 - val_true_negatives: 0.0000e+00 - val_true_positives: 1951.0000\n",
      "Epoch 6/30\n",
      "\u001b[1m137/137\u001b[0m \u001b[32m━━━━━━━━━━━━━━━━━━━━\u001b[0m\u001b[37m\u001b[0m \u001b[1m11s\u001b[0m 79ms/step - accuracy: 0.6670 - auc: 0.7148 - false_negatives: 1369.9492 - false_positives: 941.1594 - loss: 0.6162 - precision: 0.6854 - recall: 0.5999 - true_negatives: 2568.7898 - true_positives: 2069.3767 - val_accuracy: 0.5026 - val_auc: 0.5000 - val_false_negatives: 0.0000e+00 - val_false_positives: 1940.0000 - val_loss: 255.4402 - val_precision: 0.5026 - val_recall: 1.0000 - val_true_negatives: 0.0000e+00 - val_true_positives: 1960.0000\n",
      "Epoch 7/30\n",
      "\u001b[1m137/137\u001b[0m \u001b[32m━━━━━━━━━━━━━━━━━━━━\u001b[0m\u001b[37m\u001b[0m \u001b[1m11s\u001b[0m 79ms/step - accuracy: 0.6764 - auc: 0.7173 - false_negatives: 1347.3188 - false_positives: 888.6377 - loss: 0.6125 - precision: 0.6973 - recall: 0.6097 - true_negatives: 2626.1233 - true_positives: 2087.1956 - val_accuracy: 0.5005 - val_auc: 0.5000 - val_false_negatives: 0.0000e+00 - val_false_positives: 1948.0000 - val_loss: 323.7590 - val_precision: 0.5005 - val_recall: 1.0000 - val_true_negatives: 0.0000e+00 - val_true_positives: 1952.0000\n",
      "Epoch 8/30\n",
      "\u001b[1m137/137\u001b[0m \u001b[32m━━━━━━━━━━━━━━━━━━━━\u001b[0m\u001b[37m\u001b[0m \u001b[1m11s\u001b[0m 79ms/step - accuracy: 0.6780 - auc: 0.7228 - false_negatives: 1367.3406 - false_positives: 888.7536 - loss: 0.6097 - precision: 0.7023 - recall: 0.6022 - true_negatives: 2621.9492 - true_positives: 2071.2319 - val_accuracy: 0.5041 - val_auc: 0.5000 - val_false_negatives: 0.0000e+00 - val_false_positives: 1934.0000 - val_loss: 293.6509 - val_precision: 0.5041 - val_recall: 1.0000 - val_true_negatives: 0.0000e+00 - val_true_positives: 1966.0000\n",
      "Epoch 9/30\n",
      "\u001b[1m137/137\u001b[0m \u001b[32m━━━━━━━━━━━━━━━━━━━━\u001b[0m\u001b[37m\u001b[0m \u001b[1m11s\u001b[0m 80ms/step - accuracy: 0.6754 - auc: 0.7212 - false_negatives: 1359.0072 - false_positives: 880.1304 - loss: 0.6107 - precision: 0.7013 - recall: 0.6029 - true_negatives: 2626.8262 - true_positives: 2083.3115 - val_accuracy: 0.5082 - val_auc: 0.5000 - val_false_negatives: 0.0000e+00 - val_false_positives: 1918.0000 - val_loss: 203.7914 - val_precision: 0.5082 - val_recall: 1.0000 - val_true_negatives: 0.0000e+00 - val_true_positives: 1982.0000\n",
      "Epoch 10/30\n",
      "\u001b[1m137/137\u001b[0m \u001b[32m━━━━━━━━━━━━━━━━━━━━\u001b[0m\u001b[37m\u001b[0m \u001b[1m11s\u001b[0m 79ms/step - accuracy: 0.6777 - auc: 0.7208 - false_negatives: 1314.5363 - false_positives: 926.9058 - loss: 0.6120 - precision: 0.6955 - recall: 0.6195 - true_negatives: 2581.3984 - true_positives: 2126.4348 - val_accuracy: 0.5090 - val_auc: 0.5000 - val_false_negatives: 0.0000e+00 - val_false_positives: 1915.0000 - val_loss: 204.5744 - val_precision: 0.5090 - val_recall: 1.0000 - val_true_negatives: 0.0000e+00 - val_true_positives: 1985.0000\n",
      "Epoch 11/30\n",
      "\u001b[1m137/137\u001b[0m \u001b[32m━━━━━━━━━━━━━━━━━━━━\u001b[0m\u001b[37m\u001b[0m \u001b[1m11s\u001b[0m 79ms/step - accuracy: 0.6769 - auc: 0.7223 - false_negatives: 1307.3406 - false_positives: 932.4276 - loss: 0.6093 - precision: 0.6965 - recall: 0.6187 - true_negatives: 2573.7029 - true_positives: 2135.8044 - val_accuracy: 0.4987 - val_auc: 0.5000 - val_false_negatives: 0.0000e+00 - val_false_positives: 1955.0000 - val_loss: 264.5920 - val_precision: 0.4987 - val_recall: 1.0000 - val_true_negatives: 0.0000e+00 - val_true_positives: 1945.0000\n",
      "Epoch 12/30\n",
      "\u001b[1m137/137\u001b[0m \u001b[32m━━━━━━━━━━━━━━━━━━━━\u001b[0m\u001b[37m\u001b[0m \u001b[1m11s\u001b[0m 80ms/step - accuracy: 0.6849 - auc: 0.7272 - false_negatives: 1286.4058 - false_positives: 897.8986 - loss: 0.6053 - precision: 0.7035 - recall: 0.6274 - true_negatives: 2609.2898 - true_positives: 2155.6812 - val_accuracy: 0.4997 - val_auc: 0.5000 - val_false_negatives: 0.0000e+00 - val_false_positives: 1951.0000 - val_loss: 313.6407 - val_precision: 0.4997 - val_recall: 1.0000 - val_true_negatives: 0.0000e+00 - val_true_positives: 1949.0000\n",
      "Epoch 13/30\n",
      "\u001b[1m137/137\u001b[0m \u001b[32m━━━━━━━━━━━━━━━━━━━━\u001b[0m\u001b[37m\u001b[0m \u001b[1m11s\u001b[0m 80ms/step - accuracy: 0.6816 - auc: 0.7286 - false_negatives: 1314.5580 - false_positives: 899.8478 - loss: 0.6047 - precision: 0.7028 - recall: 0.6113 - true_negatives: 2609.7971 - true_positives: 2125.0725 - val_accuracy: 0.5046 - val_auc: 0.5000 - val_false_negatives: 0.0000e+00 - val_false_positives: 1932.0000 - val_loss: 306.5085 - val_precision: 0.5046 - val_recall: 1.0000 - val_true_negatives: 0.0000e+00 - val_true_positives: 1968.0000\n",
      "Epoch 14/30\n",
      "\u001b[1m137/137\u001b[0m \u001b[32m━━━━━━━━━━━━━━━━━━━━\u001b[0m\u001b[37m\u001b[0m \u001b[1m11s\u001b[0m 79ms/step - accuracy: 0.6902 - auc: 0.7387 - false_negatives: 1301.9058 - false_positives: 872.1594 - loss: 0.5977 - precision: 0.7134 - recall: 0.6246 - true_negatives: 2633.8696 - true_positives: 2141.3406 - val_accuracy: 0.5000 - val_auc: 0.5000 - val_false_negatives: 0.0000e+00 - val_false_positives: 1950.0000 - val_loss: 446.8104 - val_precision: 0.5000 - val_recall: 1.0000 - val_true_negatives: 0.0000e+00 - val_true_positives: 1950.0000\n",
      "Epoch 15/30\n",
      "\u001b[1m137/137\u001b[0m \u001b[32m━━━━━━━━━━━━━━━━━━━━\u001b[0m\u001b[37m\u001b[0m \u001b[1m11s\u001b[0m 81ms/step - accuracy: 0.6903 - auc: 0.7354 - false_negatives: 1306.1377 - false_positives: 871.0290 - loss: 0.5988 - precision: 0.7164 - recall: 0.6207 - true_negatives: 2638.1667 - true_positives: 2133.9421 - val_accuracy: 0.5005 - val_auc: 0.5000 - val_false_negatives: 0.0000e+00 - val_false_positives: 1948.0000 - val_loss: 441.1608 - val_precision: 0.5005 - val_recall: 1.0000 - val_true_negatives: 0.0000e+00 - val_true_positives: 1952.0000\n",
      "Epoch 16/30\n",
      "\u001b[1m137/137\u001b[0m \u001b[32m━━━━━━━━━━━━━━━━━━━━\u001b[0m\u001b[37m\u001b[0m \u001b[1m11s\u001b[0m 80ms/step - accuracy: 0.6870 - auc: 0.7317 - false_negatives: 1243.5435 - false_positives: 939.7536 - loss: 0.6041 - precision: 0.6991 - recall: 0.6438 - true_negatives: 2569.7390 - true_positives: 2196.2390 - val_accuracy: 0.5085 - val_auc: 0.5000 - val_false_negatives: 0.0000e+00 - val_false_positives: 1917.0000 - val_loss: 389.6408 - val_precision: 0.5085 - val_recall: 1.0000 - val_true_negatives: 0.0000e+00 - val_true_positives: 1983.0000\n",
      "Epoch 17/30\n",
      "\u001b[1m137/137\u001b[0m \u001b[32m━━━━━━━━━━━━━━━━━━━━\u001b[0m\u001b[37m\u001b[0m \u001b[1m11s\u001b[0m 79ms/step - accuracy: 0.6897 - auc: 0.7345 - false_negatives: 1266.2029 - false_positives: 893.4348 - loss: 0.5999 - precision: 0.7088 - recall: 0.6315 - true_negatives: 2623.1016 - true_positives: 2166.5361 - val_accuracy: 0.4990 - val_auc: 0.5000 - val_false_negatives: 0.0000e+00 - val_false_positives: 1954.0000 - val_loss: 432.6333 - val_precision: 0.4990 - val_recall: 1.0000 - val_true_negatives: 0.0000e+00 - val_true_positives: 1946.0000\n",
      "Epoch 18/30\n",
      "\u001b[1m137/137\u001b[0m \u001b[32m━━━━━━━━━━━━━━━━━━━━\u001b[0m\u001b[37m\u001b[0m \u001b[1m11s\u001b[0m 80ms/step - accuracy: 0.6882 - auc: 0.7360 - false_negatives: 1281.1377 - false_positives: 891.7464 - loss: 0.6002 - precision: 0.7104 - recall: 0.6248 - true_negatives: 2613.9783 - true_positives: 2162.4131 - val_accuracy: 0.4987 - val_auc: 0.4997 - val_false_negatives: 0.0000e+00 - val_false_positives: 1955.0000 - val_loss: 411.3209 - val_precision: 0.4987 - val_recall: 1.0000 - val_true_negatives: 0.0000e+00 - val_true_positives: 1945.0000\n",
      "Epoch 19/30\n",
      "\u001b[1m137/137\u001b[0m \u001b[32m━━━━━━━━━━━━━━━━━━━━\u001b[0m\u001b[37m\u001b[0m \u001b[1m11s\u001b[0m 79ms/step - accuracy: 0.6848 - auc: 0.7278 - false_negatives: 1290.5580 - false_positives: 890.8043 - loss: 0.6042 - precision: 0.7047 - recall: 0.6218 - true_negatives: 2616.9639 - true_positives: 2150.9492 - val_accuracy: 0.5092 - val_auc: 0.4992 - val_false_negatives: 3.0000 - val_false_positives: 1911.0000 - val_loss: 425.9633 - val_precision: 0.5096 - val_recall: 0.9985 - val_true_negatives: 0.0000e+00 - val_true_positives: 1986.0000\n",
      "Epoch 20/30\n",
      "\u001b[1m137/137\u001b[0m \u001b[32m━━━━━━━━━━━━━━━━━━━━\u001b[0m\u001b[37m\u001b[0m \u001b[1m11s\u001b[0m 79ms/step - accuracy: 0.6924 - auc: 0.7393 - false_negatives: 1237.8260 - false_positives: 899.8333 - loss: 0.5976 - precision: 0.7086 - recall: 0.6372 - true_negatives: 2611.0291 - true_positives: 2200.5869 - val_accuracy: 0.5021 - val_auc: 0.4997 - val_false_negatives: 0.0000e+00 - val_false_positives: 1942.0000 - val_loss: 449.9395 - val_precision: 0.5021 - val_recall: 1.0000 - val_true_negatives: 0.0000e+00 - val_true_positives: 1958.0000\n",
      "Epoch 21/30\n",
      "\u001b[1m137/137\u001b[0m \u001b[32m━━━━━━━━━━━━━━━━━━━━\u001b[0m\u001b[37m\u001b[0m \u001b[1m11s\u001b[0m 80ms/step - accuracy: 0.6832 - auc: 0.7345 - false_negatives: 1267.7609 - false_positives: 917.8478 - loss: 0.6015 - precision: 0.6987 - recall: 0.6319 - true_negatives: 2595.6086 - true_positives: 2168.0579 - val_accuracy: 0.5038 - val_auc: 0.4997 - val_false_negatives: 1.0000 - val_false_positives: 1934.0000 - val_loss: 335.0740 - val_precision: 0.5040 - val_recall: 0.9995 - val_true_negatives: 0.0000e+00 - val_true_positives: 1965.0000\n",
      "Epoch 22/30\n",
      "\u001b[1m137/137\u001b[0m \u001b[32m━━━━━━━━━━━━━━━━━━━━\u001b[0m\u001b[37m\u001b[0m \u001b[1m11s\u001b[0m 79ms/step - accuracy: 0.6919 - auc: 0.7454 - false_negatives: 1239.7463 - false_positives: 912.7391 - loss: 0.5937 - precision: 0.7123 - recall: 0.6350 - true_negatives: 2591.2463 - true_positives: 2205.5435 - val_accuracy: 0.5018 - val_auc: 0.5000 - val_false_negatives: 0.0000e+00 - val_false_positives: 1943.0000 - val_loss: 529.1245 - val_precision: 0.5018 - val_recall: 1.0000 - val_true_negatives: 0.0000e+00 - val_true_positives: 1957.0000\n",
      "Epoch 23/30\n",
      "\u001b[1m137/137\u001b[0m \u001b[32m━━━━━━━━━━━━━━━━━━━━\u001b[0m\u001b[37m\u001b[0m \u001b[1m11s\u001b[0m 79ms/step - accuracy: 0.6990 - auc: 0.7478 - false_negatives: 1222.7319 - false_positives: 886.2319 - loss: 0.5893 - precision: 0.7161 - recall: 0.6452 - true_negatives: 2625.5217 - true_positives: 2214.7898 - val_accuracy: 0.5005 - val_auc: 0.4995 - val_false_negatives: 2.0000 - val_false_positives: 1946.0000 - val_loss: 438.4012 - val_precision: 0.5008 - val_recall: 0.9990 - val_true_negatives: 0.0000e+00 - val_true_positives: 1952.0000\n",
      "Epoch 24/30\n",
      "\u001b[1m137/137\u001b[0m \u001b[32m━━━━━━━━━━━━━━━━━━━━\u001b[0m\u001b[37m\u001b[0m \u001b[1m11s\u001b[0m 80ms/step - accuracy: 0.6916 - auc: 0.7464 - false_negatives: 1266.3914 - false_positives: 888.0363 - loss: 0.5921 - precision: 0.7150 - recall: 0.6298 - true_negatives: 2618.4709 - true_positives: 2176.3767 - val_accuracy: 0.4941 - val_auc: 0.4995 - val_false_negatives: 3.0000 - val_false_positives: 1970.0000 - val_loss: 358.9317 - val_precision: 0.4944 - val_recall: 0.9984 - val_true_negatives: 1.0000 - val_true_positives: 1926.0000\n",
      "Epoch 25/30\n",
      "\u001b[1m137/137\u001b[0m \u001b[32m━━━━━━━━━━━━━━━━━━━━\u001b[0m\u001b[37m\u001b[0m \u001b[1m11s\u001b[0m 79ms/step - accuracy: 0.6895 - auc: 0.7441 - false_negatives: 1278.1884 - false_positives: 894.0507 - loss: 0.5938 - precision: 0.7084 - recall: 0.6247 - true_negatives: 2618.9856 - true_positives: 2158.0508 - val_accuracy: 0.5013 - val_auc: 0.4990 - val_false_negatives: 4.0000 - val_false_positives: 1941.0000 - val_loss: 446.1347 - val_precision: 0.5018 - val_recall: 0.9980 - val_true_negatives: 0.0000e+00 - val_true_positives: 1955.0000\n",
      "Epoch 26/30\n",
      "\u001b[1m137/137\u001b[0m \u001b[32m━━━━━━━━━━━━━━━━━━━━\u001b[0m\u001b[37m\u001b[0m \u001b[1m11s\u001b[0m 79ms/step - accuracy: 0.6980 - auc: 0.7489 - false_negatives: 1247.6086 - false_positives: 867.5724 - loss: 0.5897 - precision: 0.7185 - recall: 0.6382 - true_negatives: 2644.1738 - true_positives: 2189.9204 - val_accuracy: 0.5051 - val_auc: 0.4990 - val_false_negatives: 3.0000 - val_false_positives: 1927.0000 - val_loss: 520.7144 - val_precision: 0.5055 - val_recall: 0.9985 - val_true_negatives: 0.0000e+00 - val_true_positives: 1970.0000\n",
      "Epoch 27/30\n",
      "\u001b[1m137/137\u001b[0m \u001b[32m━━━━━━━━━━━━━━━━━━━━\u001b[0m\u001b[37m\u001b[0m \u001b[1m11s\u001b[0m 79ms/step - accuracy: 0.6895 - auc: 0.7441 - false_negatives: 1255.6160 - false_positives: 895.5870 - loss: 0.5942 - precision: 0.7067 - recall: 0.6403 - true_negatives: 2612.0508 - true_positives: 2186.0217 - val_accuracy: 0.4967 - val_auc: 0.4995 - val_false_negatives: 2.0000 - val_false_positives: 1961.0000 - val_loss: 568.3419 - val_precision: 0.4968 - val_recall: 0.9990 - val_true_negatives: 1.0000 - val_true_positives: 1936.0000\n",
      "Epoch 28/30\n",
      "\u001b[1m137/137\u001b[0m \u001b[32m━━━━━━━━━━━━━━━━━━━━\u001b[0m\u001b[37m\u001b[0m \u001b[1m11s\u001b[0m 79ms/step - accuracy: 0.6967 - auc: 0.7501 - false_negatives: 1238.6884 - false_positives: 880.7681 - loss: 0.5891 - precision: 0.7162 - recall: 0.6373 - true_negatives: 2629.4856 - true_positives: 2200.3333 - val_accuracy: 0.5082 - val_auc: 0.4995 - val_false_negatives: 3.0000 - val_false_positives: 1915.0000 - val_loss: 519.6485 - val_precision: 0.5085 - val_recall: 0.9985 - val_true_negatives: 1.0000 - val_true_positives: 1981.0000\n",
      "Epoch 29/30\n",
      "\u001b[1m137/137\u001b[0m \u001b[32m━━━━━━━━━━━━━━━━━━━━\u001b[0m\u001b[37m\u001b[0m \u001b[1m11s\u001b[0m 79ms/step - accuracy: 0.6928 - auc: 0.7487 - false_negatives: 1249.8188 - false_positives: 873.2464 - loss: 0.5887 - precision: 0.7097 - recall: 0.6367 - true_negatives: 2642.4927 - true_positives: 2183.7173 - val_accuracy: 0.5018 - val_auc: 0.5000 - val_false_negatives: 1.0000 - val_false_positives: 1942.0000 - val_loss: 496.0320 - val_precision: 0.5018 - val_recall: 0.9995 - val_true_negatives: 1.0000 - val_true_positives: 1956.0000\n",
      "Epoch 30/30\n",
      "\u001b[1m137/137\u001b[0m \u001b[32m━━━━━━━━━━━━━━━━━━━━\u001b[0m\u001b[37m\u001b[0m \u001b[1m0s\u001b[0m 71ms/step - accuracy: 0.7015 - auc: 0.7541 - false_negatives: 1205.1095 - false_positives: 876.2117 - loss: 0.5848 - precision: 0.7173 - recall: 0.6512 - true_negatives: 2610.3503 - true_positives: 2208.3284"
     ]
    }
   ],
   "source": [
    "logdir = 'EFlow Images/AugData_model_logs'\n",
    "\n",
    "tensorboard_callback = tf.keras.callbacks.TensorBoard(log_dir=logdir)\n",
    "\n",
    "hist_AugData_model = AugData_model.fit(train,\n",
    "                 epochs = 30,\n",
    "                 validation_data = val, \n",
    "                 callbacks = [tensorboard_callback])"
   ]
  },
  {
   "cell_type": "code",
   "execution_count": null,
   "id": "2b699577-9513-4180-96aa-a2ee2bd5afb3",
   "metadata": {},
   "outputs": [],
   "source": [
    "model = load_model(\"\")"
   ]
  }
 ],
 "metadata": {
  "kernelspec": {
   "display_name": "Python 3",
   "language": "python",
   "name": "python3"
  },
  "language_info": {
   "codemirror_mode": {
    "name": "ipython",
    "version": 3
   },
   "file_extension": ".py",
   "mimetype": "text/x-python",
   "name": "python",
   "nbconvert_exporter": "python",
   "pygments_lexer": "ipython3",
   "version": "3.10.10"
  }
 },
 "nbformat": 4,
 "nbformat_minor": 5
}
