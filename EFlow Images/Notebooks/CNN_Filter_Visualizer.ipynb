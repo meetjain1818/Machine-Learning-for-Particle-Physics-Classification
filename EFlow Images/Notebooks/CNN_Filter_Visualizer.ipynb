{
 "cells": [
  {
   "cell_type": "code",
   "execution_count": 1,
   "id": "8428cf73-4f36-44a9-9df3-c55a69452bd3",
   "metadata": {},
   "outputs": [
    {
     "name": "stderr",
     "output_type": "stream",
     "text": [
      "2024-08-03 04:32:47.488996: I tensorflow/core/util/port.cc:113] oneDNN custom operations are on. You may see slightly different numerical results due to floating-point round-off errors from different computation orders. To turn them off, set the environment variable `TF_ENABLE_ONEDNN_OPTS=0`.\n",
      "2024-08-03 04:32:47.775680: I tensorflow/core/platform/cpu_feature_guard.cc:210] This TensorFlow binary is optimized to use available CPU instructions in performance-critical operations.\n",
      "To enable the following instructions: AVX2 AVX512F AVX512_VNNI AVX512_BF16 AVX512_FP16 AVX_VNNI AMX_TILE AMX_INT8 AMX_BF16 FMA, in other operations, rebuild TensorFlow with the appropriate compiler flags.\n",
      "2024-08-03 04:32:48.582748: W tensorflow/compiler/tf2tensorrt/utils/py_utils.cc:38] TF-TRT Warning: Could not find TensorRT\n"
     ]
    }
   ],
   "source": [
    "import tensorflow as tf\n",
    "import os\n",
    "import matplotlib.pyplot as plt\n",
    "import numpy as np\n",
    "import cv2\n",
    "import zipfile\n",
    "import shutil\n",
    "import warnings\n",
    "from typing import List\n",
    "from typing import Tuple\n",
    "\n",
    "warnings.filterwarnings('ignore')\n",
    "\n",
    "from tensorflow.keras.models import Sequential\n",
    "from tensorflow.keras.layers import Conv2D, MaxPooling2D, Dense, Flatten, Dropout, AveragePooling2D\n",
    "\n",
    "from tensorflow.keras.models import load_model"
   ]
  },
  {
   "cell_type": "code",
   "execution_count": 2,
   "id": "f2692e40-55ef-43c9-a7f8-b7070c3348a4",
   "metadata": {},
   "outputs": [],
   "source": [
    "model = load_model('EFlow Images/Eflowimageclassifier3.keras')"
   ]
  },
  {
   "cell_type": "code",
   "execution_count": 4,
   "id": "462c505f-5d58-4bd5-bac4-368a205809e9",
   "metadata": {},
   "outputs": [
    {
     "name": "stdout",
     "output_type": "stream",
     "text": [
      "conv2d (5, 5, 3, 128)\n",
      "conv2d_1 (3, 3, 128, 64)\n",
      "conv2d_2 (3, 3, 64, 32)\n",
      "conv2d_3 (2, 2, 32, 16)\n",
      "conv2d_4 (2, 2, 16, 8)\n"
     ]
    }
   ],
   "source": [
    "for layer in model.layers:\n",
    "    if 'conv' not in layer.name:\n",
    "        continue\n",
    "    filters, biases = layer.get_weights()\n",
    "    print(layer.name, filters.shape)"
   ]
  },
  {
   "cell_type": "code",
   "execution_count": 20,
   "id": "ce5a307b-cab2-4dce-9aed-aa004e7629e8",
   "metadata": {},
   "outputs": [
    {
     "name": "stdout",
     "output_type": "stream",
     "text": [
      "(3, 3, 128, 64)\n"
     ]
    },
    {
     "data": {
      "image/png": "[encoded data removed]",
      "text/plain": [
       "<Figure size 2000x800 with 6 Axes>"
      ]
     },
     "metadata": {},
     "output_type": "display_data"
    }
   ],
   "source": [
    "# Function to visualize the filters of a convolutional layer\n",
    "def visualize_filters(layer_name, num_kernels=9):\n",
    "    layer = model.get_layer(name=layer_name)\n",
    "    if 'conv' not in layer_name or not isinstance(layer, tf.keras.layers.Conv2D):\n",
    "        raise ValueError(f\"Layer {layer_name} is not a Conv2D layer.\")\n",
    "    \n",
    "    # Get the kernel weights from the layer\n",
    "    kernels, biases = layer.get_weights()\n",
    "    \n",
    "    # Normalize the kernel values to 0-1 range for visualization\n",
    "    min_val = np.min(kernels)\n",
    "    max_val = np.max(kernels)\n",
    "    kernels = (kernels - min_val) / (max_val - min_val)\n",
    "    \n",
    "    # Number of filters\n",
    "    num_filters = kernels.shape\n",
    "    print(num_filters)\n",
    "    \n",
    "    filter_index = 0  # Index of the filter to visualize\n",
    "    num_channels_to_display = 6  # Number of channels to display for this filter\n",
    "\n",
    "    fig, axes = plt.subplots(1, num_channels_to_display, figsize=(20, 8))\n",
    "    for i in range(num_channels_to_display):\n",
    "        ax = axes[i]\n",
    "        im = ax.imshow(kernels[:, :, i, filter_index], cmap='viridis')\n",
    "        ax.axis('off')\n",
    "    plt.show()\n",
    "\n",
    "# Visualize filters from a specific convolutional layer by name\n",
    "visualize_filters('conv2d_1')  # Replace 'conv2d_1' with the name of your convolutional layer\n"
   ]
  },
  {
   "cell_type": "code",
   "execution_count": null,
   "id": "d2479a8a-e500-4d56-a71d-6dfddcb7016f",
   "metadata": {},
   "outputs": [],
   "source": []
  }
 ],
 "metadata": {
  "kernelspec": {
   "display_name": "Python 3",
   "language": "python",
   "name": "python3"
  },
  "language_info": {
   "codemirror_mode": {
    "name": "ipython",
    "version": 3
   },
   "file_extension": ".py",
   "mimetype": "text/x-python",
   "name": "python",
   "nbconvert_exporter": "python",
   "pygments_lexer": "ipython3",
   "version": "3.10.10"
  }
 },
 "nbformat": 4,
 "nbformat_minor": 5
}
