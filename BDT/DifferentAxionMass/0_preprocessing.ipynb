{
 "cells": [
  {
   "cell_type": "markdown",
   "id": "f85114d8-19df-4c6f-a14c-ff6ba48a88da",
   "metadata": {},
   "source": [
    "# Signal/Background Classification using Boosted Decision Trees"
   ]
  },
  {
   "cell_type": "code",
   "execution_count": 1,
   "id": "0d7608af-0331-43fd-aef3-0005ccaabcff",
   "metadata": {},
   "outputs": [],
   "source": [
    "import numpy as np\n",
    "import pandas as pd\n",
    "import matplotlib.pyplot as plt\n",
    "from tqdm import tqdm\n",
    "\n",
    "seed = 3456\n",
    "np.random.seed(seed)"
   ]
  },
  {
   "cell_type": "code",
   "execution_count": 2,
   "id": "cc314506-dbc4-4a8c-ba6c-ed65788d3306",
   "metadata": {},
   "outputs": [
    {
     "name": "stdout",
     "output_type": "stream",
     "text": [
      "/teamspace/studios/this_studio/all/BDT/DifferentAxionMass\n"
     ]
    }
   ],
   "source": [
    "import os\n",
    "print(os.getcwd())"
   ]
  },
  {
   "cell_type": "markdown",
   "id": "400b31db-d44f-4895-8d7d-9930769629ca",
   "metadata": {},
   "source": [
    "## 1. Data Loading"
   ]
  },
  {
   "cell_type": "code",
   "execution_count": 3,
   "id": "f0000fb9-fabc-424f-8e64-408cfb68d484",
   "metadata": {},
   "outputs": [],
   "source": [
    "ax15_signal = pd.read_csv('/teamspace/studios/this_studio/all/GNN/DifferentAxionMass/txtData/EtaBounded_txtData/processed_ppzaxbba_ax15_200k_minpt20_13jets.txt', \n",
    "                     sep = '\\t')\n",
    "ax75_signal = pd.read_csv('/teamspace/studios/this_studio/all/GNN/DifferentAxionMass/txtData/EtaBounded_txtData/processed_ppzaxbba_ax75_200k_minpt20_13jets.txt', \n",
    "                     sep = '\\t')\n",
    "background = pd.read_csv('/teamspace/studios/this_studio/all/GNN/data/bg_500k_minpt20_13jets_processed.txt', \n",
    "                         sep = '\\t')"
   ]
  },
  {
   "cell_type": "code",
   "execution_count": 11,
   "id": "497009b9-931c-4924-baba-6372d61ac3b5",
   "metadata": {},
   "outputs": [],
   "source": [
    "ax15_signal = ax15_signal.drop(['Unnamed: 0'], axis = 1)\n",
    "ax75_signal = ax75_signal.drop(['Unnamed: 0'], axis = 1)\n",
    "background = background.drop(['Unnamed: 0'], axis = 1)"
   ]
  },
  {
   "cell_type": "code",
   "execution_count": 12,
   "id": "e46b29ec-cc40-465f-a64a-5ea3ebcde079",
   "metadata": {},
   "outputs": [],
   "source": [
    "ax15_signal['event_label'] = 1\n",
    "ax75_signal['event_label'] = 1\n",
    "background['event_label'] = 0"
   ]
  },
  {
   "cell_type": "code",
   "execution_count": 28,
   "id": "97325465-52df-469d-a231-506e179f8bc7",
   "metadata": {},
   "outputs": [
    {
     "data": {
      "text/html": [
       "<div>\n",
       "<style scoped>\n",
       "    .dataframe tbody tr th:only-of-type {\n",
       "        vertical-align: middle;\n",
       "    }\n",
       "\n",
       "    .dataframe tbody tr th {\n",
       "        vertical-align: top;\n",
       "    }\n",
       "\n",
       "    .dataframe thead th {\n",
       "        text-align: right;\n",
       "    }\n",
       "</style>\n",
       "<table border=\"1\" class=\"dataframe\">\n",
       "  <thead>\n",
       "    <tr style=\"text-align: right;\">\n",
       "      <th></th>\n",
       "      <th>eventno</th>\n",
       "      <th>jetmultiplicity</th>\n",
       "      <th>jet1_Eta</th>\n",
       "      <th>jet1_Phi</th>\n",
       "      <th>jet1_pT</th>\n",
       "      <th>jet1_Px</th>\n",
       "      <th>jet1_Py</th>\n",
       "      <th>jet1_Pz</th>\n",
       "      <th>jet1_E</th>\n",
       "      <th>jet1_btag</th>\n",
       "      <th>...</th>\n",
       "      <th>isophoton2_Pz</th>\n",
       "      <th>isophoton2_E</th>\n",
       "      <th>isophoton3_Eta</th>\n",
       "      <th>isophoton3_Phi</th>\n",
       "      <th>isophoton3_pT</th>\n",
       "      <th>isophoton3_Px</th>\n",
       "      <th>isophoton3_Py</th>\n",
       "      <th>isophoton3_Pz</th>\n",
       "      <th>isophoton3_E</th>\n",
       "      <th>event_label</th>\n",
       "    </tr>\n",
       "  </thead>\n",
       "  <tbody>\n",
       "    <tr>\n",
       "      <th>0</th>\n",
       "      <td>0</td>\n",
       "      <td>1</td>\n",
       "      <td>-1.07125</td>\n",
       "      <td>-0.354984</td>\n",
       "      <td>27.8682</td>\n",
       "      <td>26.13070</td>\n",
       "      <td>-9.68631</td>\n",
       "      <td>-35.9007</td>\n",
       "      <td>45.4477</td>\n",
       "      <td>1</td>\n",
       "      <td>...</td>\n",
       "      <td>13.0745</td>\n",
       "      <td>21.8379</td>\n",
       "      <td>0.0</td>\n",
       "      <td>0.0</td>\n",
       "      <td>0.0</td>\n",
       "      <td>0.0</td>\n",
       "      <td>0.0</td>\n",
       "      <td>0.0</td>\n",
       "      <td>0.0</td>\n",
       "      <td>1</td>\n",
       "    </tr>\n",
       "    <tr>\n",
       "      <th>1</th>\n",
       "      <td>1</td>\n",
       "      <td>3</td>\n",
       "      <td>1.68988</td>\n",
       "      <td>-2.872670</td>\n",
       "      <td>65.3374</td>\n",
       "      <td>-62.98900</td>\n",
       "      <td>-17.35990</td>\n",
       "      <td>170.9970</td>\n",
       "      <td>183.0540</td>\n",
       "      <td>1</td>\n",
       "      <td>...</td>\n",
       "      <td>0.0000</td>\n",
       "      <td>0.0000</td>\n",
       "      <td>0.0</td>\n",
       "      <td>0.0</td>\n",
       "      <td>0.0</td>\n",
       "      <td>0.0</td>\n",
       "      <td>0.0</td>\n",
       "      <td>0.0</td>\n",
       "      <td>0.0</td>\n",
       "      <td>1</td>\n",
       "    </tr>\n",
       "    <tr>\n",
       "      <th>2</th>\n",
       "      <td>2</td>\n",
       "      <td>1</td>\n",
       "      <td>NaN</td>\n",
       "      <td>NaN</td>\n",
       "      <td>NaN</td>\n",
       "      <td>NaN</td>\n",
       "      <td>NaN</td>\n",
       "      <td>NaN</td>\n",
       "      <td>NaN</td>\n",
       "      <td>0</td>\n",
       "      <td>...</td>\n",
       "      <td>0.0000</td>\n",
       "      <td>0.0000</td>\n",
       "      <td>0.0</td>\n",
       "      <td>0.0</td>\n",
       "      <td>0.0</td>\n",
       "      <td>0.0</td>\n",
       "      <td>0.0</td>\n",
       "      <td>0.0</td>\n",
       "      <td>0.0</td>\n",
       "      <td>1</td>\n",
       "    </tr>\n",
       "    <tr>\n",
       "      <th>3</th>\n",
       "      <td>3</td>\n",
       "      <td>1</td>\n",
       "      <td>2.21481</td>\n",
       "      <td>-1.906970</td>\n",
       "      <td>23.6507</td>\n",
       "      <td>-7.80176</td>\n",
       "      <td>-22.32690</td>\n",
       "      <td>107.0260</td>\n",
       "      <td>109.6080</td>\n",
       "      <td>0</td>\n",
       "      <td>...</td>\n",
       "      <td>0.0000</td>\n",
       "      <td>0.0000</td>\n",
       "      <td>0.0</td>\n",
       "      <td>0.0</td>\n",
       "      <td>0.0</td>\n",
       "      <td>0.0</td>\n",
       "      <td>0.0</td>\n",
       "      <td>0.0</td>\n",
       "      <td>0.0</td>\n",
       "      <td>1</td>\n",
       "    </tr>\n",
       "    <tr>\n",
       "      <th>4</th>\n",
       "      <td>7</td>\n",
       "      <td>1</td>\n",
       "      <td>-1.32159</td>\n",
       "      <td>2.601460</td>\n",
       "      <td>35.3659</td>\n",
       "      <td>-30.33120</td>\n",
       "      <td>18.18700</td>\n",
       "      <td>-61.5840</td>\n",
       "      <td>71.0165</td>\n",
       "      <td>0</td>\n",
       "      <td>...</td>\n",
       "      <td>0.0000</td>\n",
       "      <td>0.0000</td>\n",
       "      <td>0.0</td>\n",
       "      <td>0.0</td>\n",
       "      <td>0.0</td>\n",
       "      <td>0.0</td>\n",
       "      <td>0.0</td>\n",
       "      <td>0.0</td>\n",
       "      <td>0.0</td>\n",
       "      <td>1</td>\n",
       "    </tr>\n",
       "  </tbody>\n",
       "</table>\n",
       "<p>5 rows × 129 columns</p>\n",
       "</div>"
      ],
      "text/plain": [
       "   eventno  jetmultiplicity  jet1_Eta  jet1_Phi  jet1_pT   jet1_Px   jet1_Py  \\\n",
       "0        0                1  -1.07125 -0.354984  27.8682  26.13070  -9.68631   \n",
       "1        1                3   1.68988 -2.872670  65.3374 -62.98900 -17.35990   \n",
       "2        2                1       NaN       NaN      NaN       NaN       NaN   \n",
       "3        3                1   2.21481 -1.906970  23.6507  -7.80176 -22.32690   \n",
       "4        7                1  -1.32159  2.601460  35.3659 -30.33120  18.18700   \n",
       "\n",
       "    jet1_Pz    jet1_E  jet1_btag  ...  isophoton2_Pz  isophoton2_E  \\\n",
       "0  -35.9007   45.4477          1  ...        13.0745       21.8379   \n",
       "1  170.9970  183.0540          1  ...         0.0000        0.0000   \n",
       "2       NaN       NaN          0  ...         0.0000        0.0000   \n",
       "3  107.0260  109.6080          0  ...         0.0000        0.0000   \n",
       "4  -61.5840   71.0165          0  ...         0.0000        0.0000   \n",
       "\n",
       "   isophoton3_Eta  isophoton3_Phi  isophoton3_pT  isophoton3_Px  \\\n",
       "0             0.0             0.0            0.0            0.0   \n",
       "1             0.0             0.0            0.0            0.0   \n",
       "2             0.0             0.0            0.0            0.0   \n",
       "3             0.0             0.0            0.0            0.0   \n",
       "4             0.0             0.0            0.0            0.0   \n",
       "\n",
       "   isophoton3_Py  isophoton3_Pz  isophoton3_E  event_label  \n",
       "0            0.0            0.0           0.0            1  \n",
       "1            0.0            0.0           0.0            1  \n",
       "2            0.0            0.0           0.0            1  \n",
       "3            0.0            0.0           0.0            1  \n",
       "4            0.0            0.0           0.0            1  \n",
       "\n",
       "[5 rows x 129 columns]"
      ]
     },
     "execution_count": 28,
     "metadata": {},
     "output_type": "execute_result"
    }
   ],
   "source": [
    "ax15_signal.head()"
   ]
  },
  {
   "cell_type": "code",
   "execution_count": 13,
   "id": "56968705-7a82-448f-976c-336a1ac9b5de",
   "metadata": {},
   "outputs": [],
   "source": [
    "ax15_data = pd.concat([ax15_signal, background], axis = 0)\n",
    "ax75_data = pd.concat([ax75_signal, background], axis = 0)"
   ]
  },
  {
   "cell_type": "code",
   "execution_count": 14,
   "id": "7dc00b31-590a-4fa4-bb16-87737e3602fa",
   "metadata": {},
   "outputs": [],
   "source": [
    "## Shuffling the data\n",
    "ax15_data = ax15_data.sample(frac=1, random_state=seed)\n",
    "ax75_data = ax75_data.sample(frac=1, random_state=seed)"
   ]
  },
  {
   "cell_type": "markdown",
   "id": "fd9029f7-5f06-4c0e-b09a-ac7f48b2dd48",
   "metadata": {},
   "source": [
    "# Filtering out the Complete NaN Rows"
   ]
  },
  {
   "cell_type": "code",
   "execution_count": 23,
   "id": "51f1d98b-0145-4190-b615-007ace7f5a8d",
   "metadata": {},
   "outputs": [],
   "source": [
    "def get_nan_jets_idx(dataset:pd.DataFrame, num_jets:int = None) -> pd.DataFrame:\n",
    "    dataset_copy = dataset.copy()\n",
    "    for i in range(1,num_jets+1):\n",
    "        jet_btag_col_names = ['jet' + str(i) + '_btag']\n",
    "        dataset_copy = dataset_copy.drop(jet_btag_col_names, axis = 1)\n",
    "    dataset_copy = dataset_copy.drop(['eventno', 'jetmultiplicity', 'event_label'], axis = 1)\n",
    "    \n",
    "    \n",
    "    all_zero_or_nan_mask = ((dataset_copy == 0) | dataset_copy.isna()).all(axis=1)\n",
    "    zero_or_nan_rows = dataset_copy[all_zero_or_nan_mask]\n",
    "    return zero_or_nan_rows"
   ]
  },
  {
   "cell_type": "code",
   "execution_count": 24,
   "id": "9c5ebc19-bf88-4402-a577-e05dfbc4ac60",
   "metadata": {},
   "outputs": [],
   "source": [
    "ax15_data_zero_or_nan_rows = get_nan_jets_idx(ax15_data, num_jets = 13)\n",
    "ax75_data_zero_or_nan_rows = get_nan_jets_idx(ax75_data, num_jets = 13)\n",
    "\n",
    "# To remove those events in which all jets and \n",
    "ax15_data = ax15_data.drop(ax15_data_zero_or_nan_rows.index)\n",
    "ax75_data = ax75_data.drop(ax75_data_zero_or_nan_rows.index)\n",
    "\n",
    "# To remove those events with 0 jet multiplicity\n",
    "ax15_data = ax15_data.drop(ax15_data[ax15_data['jetmultiplicity'] == 0].index)\n",
    "ax75_data = ax75_data.drop(ax75_data[ax75_data['jetmultiplicity'] == 0].index)"
   ]
  },
  {
   "cell_type": "markdown",
   "id": "3e73b61f-1d18-4aa1-a692-f74dc24532f3",
   "metadata": {},
   "source": [
    "# Counting Number of Btag Jets and Isophoton in each event"
   ]
  },
  {
   "cell_type": "code",
   "execution_count": 67,
   "id": "a1f993e8-da2d-4551-9b84-d9f81a21dad2",
   "metadata": {},
   "outputs": [],
   "source": [
    "def count_jets_isophoton(dataset:pd.DataFrame, num_jets:int = None, num_isophotons:int = None) -> pd.DataFrame:\n",
    "    dataset_copy = dataset.copy()\n",
    "    with tqdm(total = len(dataset), desc = 'Processing') as pbar:\n",
    "        jet_btag_col_names = ['jet' + str(i) + '_btag' for i in range (1, num_jets+1)]\n",
    "        isophoton_pT_col_name = ['isophoton' + str(i) + '_pT' for i in range(1, num_isophotons+1)]\n",
    "        num_btag_jets_lst = []\n",
    "        num_isophoton_lst = []\n",
    "        for i, event in dataset_copy.iterrows():\n",
    "            count_btag_jets = list(event[jet_btag_col_names].to_numpy()).count(1.0)\n",
    "            num_btag_jets_lst.append(count_btag_jets)\n",
    "\n",
    "            # Counting Isophotons\n",
    "            isophoton_cols = event[isophoton_pT_col_name].values\n",
    "            event_isophoton_count = np.count_nonzero(isophoton_cols)\n",
    "            num_isophoton_lst.append(event_isophoton_count)\n",
    "            \n",
    "            pbar.update(1)\n",
    "        dataset_copy['num_btag_jets'] = num_btag_jets_lst\n",
    "        dataset_copy['num_isophoton'] = num_isophoton_lst\n",
    "\n",
    "        return dataset_copy"
   ]
  },
  {
   "cell_type": "code",
   "execution_count": 68,
   "id": "d3c0825f-4a82-4697-9e5a-47d77ca29c40",
   "metadata": {},
   "outputs": [
    {
     "name": "stderr",
     "output_type": "stream",
     "text": [
      "Processing: 100%|██████████| 246119/246119 [02:59<00:00, 1371.48it/s]\n",
      "Processing: 100%|██████████| 259819/259819 [03:11<00:00, 1357.78it/s]\n"
     ]
    }
   ],
   "source": [
    "ax15_data_with_counts = count_jets_isophoton(ax15_data, num_jets = 13, num_isophotons = 3)\n",
    "ax75_data_with_counts = count_jets_isophoton(ax75_data, num_jets = 13, num_isophotons = 3)"
   ]
  },
  {
   "cell_type": "code",
   "execution_count": 69,
   "id": "3e9fdd3c-132e-40ab-a94c-cffd60153547",
   "metadata": {},
   "outputs": [
    {
     "data": {
      "image/png": "[encoded data removed]",
      "text/plain": [
       "<Figure size 640x480 with 2 Axes>"
      ]
     },
     "metadata": {},
     "output_type": "display_data"
    }
   ],
   "source": [
    "fig, axs = plt.subplots(1,2)\n",
    "axs[0].hist(ax15_data_with_counts[ax15_data_with_counts['event_label'] == 1]['num_btag_jets'], color = 'green', label = \"Btag Jets\")\n",
    "axs[0].hist(ax15_data_with_counts[ax15_data_with_counts['event_label'] == 1]['num_isophoton'], color = 'red', label = \"Isophoton\")\n",
    "axs[0].set_title(\"Ax15 Signal\")\n",
    "axs[0].legend()\n",
    "\n",
    "axs[1].hist(ax75_data_with_counts[ax75_data_with_counts['event_label'] == 1]['num_btag_jets'], color = 'green', label = \"Btag Jets\")\n",
    "axs[1].hist(ax75_data_with_counts[ax75_data_with_counts['event_label'] == 1]['num_isophoton'], color = 'red', label = \"Isophoton\")\n",
    "axs[1].set_title(\"Ax75 Signal\")\n",
    "axs[1].legend()\n",
    "\n",
    "plt.tight_layout()\n",
    "plt.show()"
   ]
  },
  {
   "cell_type": "markdown",
   "id": "5a15c51d-1b10-44e5-bd10-3f2d39b1c688",
   "metadata": {},
   "source": [
    "# Filtering 2j1p events"
   ]
  },
  {
   "cell_type": "code",
   "execution_count": 71,
   "id": "311508f7-1d42-468a-a6e4-059e35c22790",
   "metadata": {},
   "outputs": [],
   "source": [
    "ax15_2j1p_mask = (ax15_data_with_counts.num_btag_jets == 2) & (ax15_data_with_counts.num_isophoton == 1)\n",
    "ax15_2j1p_data = ax15_data_with_counts[ax15_2j1p_mask]\n",
    "\n",
    "ax75_2j1p_mask = (ax75_data_with_counts.num_btag_jets == 2) & (ax75_data_with_counts.num_isophoton == 1)\n",
    "ax75_2j1p_data = ax75_data_with_counts[ax75_2j1p_mask]"
   ]
  },
  {
   "cell_type": "code",
   "execution_count": 75,
   "id": "d4bc7139-1c54-482d-9252-ed377d103e58",
   "metadata": {},
   "outputs": [
    {
     "data": {
      "text/plain": [
       "(582, 131)"
      ]
     },
     "execution_count": 75,
     "metadata": {},
     "output_type": "execute_result"
    }
   ],
   "source": [
    "ax15_2j1p_data[ax15_2j1p_data['event_label'] == 1].shape"
   ]
  },
  {
   "cell_type": "code",
   "execution_count": 76,
   "id": "8db45558-9f80-4625-9127-f44a8f07691a",
   "metadata": {},
   "outputs": [
    {
     "data": {
      "text/plain": [
       "(4790, 131)"
      ]
     },
     "execution_count": 76,
     "metadata": {},
     "output_type": "execute_result"
    }
   ],
   "source": [
    "ax75_2j1p_data[ax75_2j1p_data['event_label'] == 1].shape"
   ]
  },
  {
   "cell_type": "markdown",
   "id": "0212057e-04f5-4f2c-80ab-08e996c1f555",
   "metadata": {},
   "source": [
    "# Saving the filtered events as txt file"
   ]
  },
  {
   "cell_type": "code",
   "execution_count": 77,
   "id": "34e2a675-0f23-4291-b16f-1f444e1475d6",
   "metadata": {},
   "outputs": [],
   "source": [
    "ax75_2j1p_data.to_csv('./ax75_signalBackground_2j1p_data.txt', sep = '\\t')\n",
    "ax15_2j1p_data.to_csv('./ax15_signalBackground_2j1p_data.txt', sep = '\\t')"
   ]
  }
 ],
 "metadata": {
  "kernelspec": {
   "display_name": "Python 3",
   "language": "python",
   "name": "python3"
  },
  "language_info": {
   "codemirror_mode": {
    "name": "ipython",
    "version": 3
   },
   "file_extension": ".py",
   "mimetype": "text/x-python",
   "name": "python",
   "nbconvert_exporter": "python",
   "pygments_lexer": "ipython3",
   "version": "3.10.16"
  }
 },
 "nbformat": 4,
 "nbformat_minor": 5
}
