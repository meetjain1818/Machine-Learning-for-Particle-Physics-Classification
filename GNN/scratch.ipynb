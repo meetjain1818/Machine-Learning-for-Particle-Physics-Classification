{
 "cells": [
  {
   "cell_type": "code",
   "execution_count": 3,
   "id": "c018fedd-60a4-4945-a994-7ef96f379a77",
   "metadata": {},
   "outputs": [],
   "source": [
    "import torch_geometric\n",
    "from torch_geometric.datasets import Planetoid"
   ]
  },
  {
   "cell_type": "code",
   "execution_count": 22,
   "id": "c0c12c5d-a302-4138-bf39-020a6fcd0126",
   "metadata": {},
   "outputs": [],
   "source": [
    "use_cuda_if_available = False"
   ]
  },
  {
   "cell_type": "code",
   "execution_count": 4,
   "id": "9f3528f4-ff95-43ba-9b72-9fa72bc8b06d",
   "metadata": {},
   "outputs": [
    {
     "name": "stderr",
     "output_type": "stream",
     "text": [
      "Downloading https://github.com/kimiyoung/planetoid/raw/master/data/ind.cora.x\n",
      "Downloading https://github.com/kimiyoung/planetoid/raw/master/data/ind.cora.tx\n",
      "Downloading https://github.com/kimiyoung/planetoid/raw/master/data/ind.cora.allx\n",
      "Downloading https://github.com/kimiyoung/planetoid/raw/master/data/ind.cora.y\n",
      "Downloading https://github.com/kimiyoung/planetoid/raw/master/data/ind.cora.ty\n",
      "Downloading https://github.com/kimiyoung/planetoid/raw/master/data/ind.cora.ally\n",
      "Downloading https://github.com/kimiyoung/planetoid/raw/master/data/ind.cora.graph\n",
      "Downloading https://github.com/kimiyoung/planetoid/raw/master/data/ind.cora.test.index\n",
      "Processing...\n",
      "Done!\n"
     ]
    }
   ],
   "source": [
    "dataset = Planetoid(root = 'tutorial1', name = 'Cora')"
   ]
  },
  {
   "cell_type": "markdown",
   "id": "5a86b2c4-924b-4a38-95c5-acae68bd916c",
   "metadata": {},
   "source": [
    "# Dataset Properties"
   ]
  },
  {
   "cell_type": "code",
   "execution_count": 8,
   "id": "decae082-30ee-4efc-be7e-3bf931e162a6",
   "metadata": {},
   "outputs": [
    {
     "name": "stdout",
     "output_type": "stream",
     "text": [
      "Lenght of the dataset: 1\n",
      "Number of classes in the dataset: 7\n",
      "Number of Node Features : 1433\n",
      "Number of Edge Features: 0\n"
     ]
    }
   ],
   "source": [
    "print(f'Lenght of the dataset: {len(dataset)}')\n",
    "print(f'Number of classes in the dataset: {dataset.num_classes}')\n",
    "print(f'Number of Node Features : {dataset.num_node_features}')\n",
    "print(f'Number of Edge Features: {dataset.num_edge_features}')"
   ]
  },
  {
   "cell_type": "code",
   "execution_count": 11,
   "id": "19380c51-5791-4c76-bf78-e1ca6e6b9e9e",
   "metadata": {},
   "outputs": [
    {
     "name": "stdout",
     "output_type": "stream",
     "text": [
      "Data(x=[2708, 1433], edge_index=[2, 10556], y=[2708], train_mask=[2708], val_mask=[2708], test_mask=[2708])\n"
     ]
    }
   ],
   "source": [
    "print(dataset._data)"
   ]
  },
  {
   "cell_type": "markdown",
   "id": "84110454-aae2-49d6-b3b1-23c4eff9b398",
   "metadata": {},
   "source": [
    "The `Data` object from PyTorch Geometric encapsulates the data representation for a graph. Here's what the attributes mean in the context of the **Cora dataset** and graph data in general:\n",
    "\n",
    "### 1. **`x` (Node Features)**  \n",
    "   - **Shape:** `[2708, 1433]`\n",
    "   - **Meaning:** This represents the **feature matrix** of the graph.\n",
    "     - `2708`: Number of nodes in the graph (e.g., papers in the Cora dataset).\n",
    "     - `1433`: Number of features per node (e.g., one-hot encoded word vector for the paper’s content).\n",
    "   - Each row in `x` corresponds to the feature vector of a node.\n",
    "\n",
    "---\n",
    "\n",
    "### 2. **`edge_index` (Graph Connectivity)**  \n",
    "   - **Shape:** `[2, 10556]`\n",
    "   - **Meaning:** This defines the edges of the graph in a **COO (coordinate) format**.\n",
    "     - The first row contains the indices of source nodes.\n",
    "     - The second row contains the indices of target nodes.\n",
    "     - Together, they describe the directed edges of the graph (e.g., citation relationships in the Cora dataset).\n",
    "\n",
    "---\n",
    "\n",
    "### 3. **`y` (Node Labels)**  \n",
    "   - **Shape:** `[2708]`\n",
    "   - **Meaning:** This contains the **labels** (class/category) for each node.\n",
    "     - In the Cora dataset, nodes represent research papers, and `y` indicates the subject area or class of each paper.\n",
    "\n",
    "---\n",
    "\n",
    "### 4. **`train_mask`, `val_mask`, `test_mask` (Data Splits)**  \n",
    "   - **Shape:** `[2708]`\n",
    "   - **Meaning:** These are boolean masks for splitting the nodes into training, validation, and test sets.\n",
    "     - `train_mask[i] == True` indicates node `i` is part of the training set.\n",
    "     - Similarly, `val_mask` and `test_mask` define the nodes for validation and testing.\n",
    "\n",
    "---\n",
    "\n",
    "### **Summary of the `Data` Object:**\n",
    "In the context of the Cora dataset:\n",
    "- **Nodes** represent research papers.\n",
    "- **Edges** represent citation relationships between papers.\n",
    "- **Node Features (`x`)** are based on the paper's content.\n",
    "- **Node Labels (`y`)** categorize the papers into different subject areas.\n",
    "- **Masks** split the nodes into training, validation, and testing subsets for supervised learning tasks.\n",
    "\n",
    "This format allows you to process graph data in a way that's compatible with graph neural network (GNN) models like Graph Convolutional Networks (GCNs). Let me know if you'd like more examples or help with code!"
   ]
  },
  {
   "cell_type": "code",
   "execution_count": 21,
   "id": "9870396a-e901-4edd-810f-87a62f927cf9",
   "metadata": {},
   "outputs": [
    {
     "name": "stdout",
     "output_type": "stream",
     "text": [
      "edge_index:\t\t torch.Size([2, 10556])\n",
      "tensor([[ 633, 1862, 2582,  ...,  598, 1473, 2706],\n",
      "        [   0,    0,    0,  ..., 2707, 2707, 2707]])\n",
      "\n",
      "\n",
      "train_mask:\t\t torch.Size([2708])\n",
      "tensor([ True,  True,  True,  ..., False, False, False])\n",
      "\n",
      "\n",
      "x:\t\t torch.Size([2708, 1433])\n",
      "tensor([[0., 0., 0.,  ..., 0., 0., 0.],\n",
      "        [0., 0., 0.,  ..., 0., 0., 0.],\n",
      "        [0., 0., 0.,  ..., 0., 0., 0.],\n",
      "        ...,\n",
      "        [0., 0., 0.,  ..., 0., 0., 0.],\n",
      "        [0., 0., 0.,  ..., 0., 0., 0.],\n",
      "        [0., 0., 0.,  ..., 0., 0., 0.]])\n",
      "\n",
      "\n",
      "y:\t\t torch.Size([2708])\n",
      "tensor([3, 4, 4,  ..., 3, 3, 3])\n"
     ]
    }
   ],
   "source": [
    "print(\"edge_index:\\t\\t\",dataset.data.edge_index.shape)\n",
    "print(dataset.data.edge_index)\n",
    "print(\"\\n\")\n",
    "print(\"train_mask:\\t\\t\",dataset.data.train_mask.shape)\n",
    "print(dataset.data.train_mask)\n",
    "print(\"\\n\")\n",
    "print(\"x:\\t\\t\",dataset.data.x.shape)\n",
    "print(dataset.data.x)\n",
    "print(\"\\n\")\n",
    "print(\"y:\\t\\t\",dataset.data.y.shape)\n",
    "print(dataset.data.y)"
   ]
  },
  {
   "cell_type": "code",
   "execution_count": 14,
   "id": "05e479e9-1c39-44e8-9b33-d7b0968156df",
   "metadata": {},
   "outputs": [],
   "source": [
    "import os\n",
    "import torch\n",
    "import torch.nn.functional as F\n",
    "from torch_geometric.nn import SAGEConv"
   ]
  },
  {
   "cell_type": "code",
   "execution_count": 15,
   "id": "e6f8375c-0a87-4650-ba1c-ec39cf85e139",
   "metadata": {},
   "outputs": [],
   "source": [
    "data = dataset[0]"
   ]
  },
  {
   "cell_type": "code",
   "execution_count": 27,
   "id": "89bea4bb-bc7a-4fcd-89f3-43dea520afb6",
   "metadata": {},
   "outputs": [],
   "source": [
    "class Net(torch.nn.Module):\n",
    "    def __init__(self):\n",
    "        super(Net, self).__init__()\n",
    "\n",
    "        self.conv = SAGEConv(dataset.num_features,\n",
    "                            dataset.num_classes,\n",
    "                            aggr = 'max') # max, mean, add ...)\n",
    "    def forward(self):\n",
    "        x = self.conv(data.x, data.edge_index)\n",
    "        return F.log_softmax(x, dim=1)"
   ]
  },
  {
   "cell_type": "code",
   "execution_count": 28,
   "id": "218f5d05-b7c8-4cbb-828d-d7f65701697c",
   "metadata": {},
   "outputs": [],
   "source": [
    "device = torch.device('cuda' if torch.cuda.is_available() and use_cuda_if_available else 'cpu')\n",
    "model, data = Net().to(device), data.to(device)\n",
    "optimizer = torch.optim.Adam(model.parameters(), lr=0.01, weight_decay=5e-4)"
   ]
  },
  {
   "cell_type": "code",
   "execution_count": 29,
   "id": "160f4790-e3c4-4494-aa8f-b2272c3420c8",
   "metadata": {},
   "outputs": [],
   "source": [
    "def train():\n",
    "    model.train()\n",
    "    optimizer.zero_grad()\n",
    "    F.nll_loss(model()[data.train_mask], data.y[data.train_mask]).backward()\n",
    "    optimizer.step()\n",
    "\n",
    "\n",
    "def test():\n",
    "    model.eval()\n",
    "    logits, accs = model(), []\n",
    "    for _, mask in data('train_mask', 'val_mask', 'test_mask'):\n",
    "        pred = logits[mask].max(1)[1]\n",
    "        acc = pred.eq(data.y[mask]).sum().item() / mask.sum().item()\n",
    "        accs.append(acc)\n",
    "    return accs"
   ]
  },
  {
   "cell_type": "code",
   "execution_count": 30,
   "id": "b5ce3c2e-cc0b-47ed-a358-7eb21f53e09a",
   "metadata": {},
   "outputs": [
    {
     "name": "stdout",
     "output_type": "stream",
     "text": [
      "Epoch: 010, Val: 0.7200, Test: 0.7060\n",
      "Epoch: 020, Val: 0.7200, Test: 0.7060\n",
      "Epoch: 030, Val: 0.7200, Test: 0.7060\n",
      "Epoch: 040, Val: 0.7200, Test: 0.7060\n",
      "Epoch: 050, Val: 0.7200, Test: 0.7060\n",
      "Epoch: 060, Val: 0.7220, Test: 0.7000\n",
      "Epoch: 070, Val: 0.7260, Test: 0.7050\n",
      "Epoch: 080, Val: 0.7260, Test: 0.7050\n",
      "Epoch: 090, Val: 0.7260, Test: 0.7050\n",
      "Epoch: 100, Val: 0.7260, Test: 0.7050\n",
      "Epoch: 110, Val: 0.7260, Test: 0.7050\n",
      "Epoch: 120, Val: 0.7260, Test: 0.7050\n",
      "Epoch: 130, Val: 0.7260, Test: 0.7050\n",
      "Epoch: 140, Val: 0.7260, Test: 0.7050\n",
      "Epoch: 150, Val: 0.7260, Test: 0.7050\n",
      "Epoch: 160, Val: 0.7260, Test: 0.7050\n",
      "Epoch: 170, Val: 0.7260, Test: 0.7050\n",
      "Epoch: 180, Val: 0.7260, Test: 0.7050\n",
      "Epoch: 190, Val: 0.7260, Test: 0.7050\n",
      "Epoch: 200, Val: 0.7260, Test: 0.7050\n",
      "Epoch: 210, Val: 0.7260, Test: 0.7050\n",
      "Epoch: 220, Val: 0.7260, Test: 0.7050\n",
      "Epoch: 230, Val: 0.7260, Test: 0.7050\n",
      "Epoch: 240, Val: 0.7260, Test: 0.7050\n",
      "Epoch: 250, Val: 0.7260, Test: 0.7050\n",
      "Epoch: 260, Val: 0.7260, Test: 0.7050\n",
      "Epoch: 270, Val: 0.7260, Test: 0.7050\n",
      "Epoch: 280, Val: 0.7260, Test: 0.7050\n",
      "Epoch: 290, Val: 0.7260, Test: 0.7050\n",
      "Epoch: 300, Val: 0.7260, Test: 0.7050\n",
      "Epoch: 310, Val: 0.7260, Test: 0.7050\n",
      "Epoch: 320, Val: 0.7260, Test: 0.7050\n",
      "Epoch: 330, Val: 0.7260, Test: 0.7050\n",
      "Epoch: 340, Val: 0.7260, Test: 0.7050\n",
      "Epoch: 350, Val: 0.7260, Test: 0.7050\n",
      "Epoch: 360, Val: 0.7260, Test: 0.7050\n",
      "Epoch: 370, Val: 0.7260, Test: 0.7050\n",
      "Epoch: 380, Val: 0.7280, Test: 0.7440\n",
      "Epoch: 390, Val: 0.7280, Test: 0.7440\n",
      "Epoch: 400, Val: 0.7280, Test: 0.7440\n",
      "Epoch: 410, Val: 0.7280, Test: 0.7440\n",
      "Epoch: 420, Val: 0.7280, Test: 0.7440\n",
      "Epoch: 430, Val: 0.7280, Test: 0.7440\n",
      "Epoch: 440, Val: 0.7280, Test: 0.7440\n",
      "Epoch: 450, Val: 0.7300, Test: 0.7510\n",
      "Epoch: 460, Val: 0.7300, Test: 0.7510\n",
      "Epoch: 470, Val: 0.7300, Test: 0.7510\n",
      "Epoch: 480, Val: 0.7300, Test: 0.7510\n",
      "Epoch: 490, Val: 0.7300, Test: 0.7510\n"
     ]
    }
   ],
   "source": [
    "best_val_acc = test_acc = 0\n",
    "for epoch in range(1,500):\n",
    "    train()\n",
    "    _, val_acc, tmp_test_acc = test()\n",
    "    if val_acc > best_val_acc:\n",
    "        best_val_acc = val_acc\n",
    "        test_acc = tmp_test_acc\n",
    "    log = 'Epoch: {:03d}, Val: {:.4f}, Test: {:.4f}'\n",
    "    \n",
    "    if epoch % 10 == 0:\n",
    "        print(log.format(epoch, best_val_acc, test_acc))"
   ]
  },
  {
   "cell_type": "code",
   "execution_count": null,
   "id": "1233f53e-6992-4a70-9f28-ece57ece23d3",
   "metadata": {},
   "outputs": [],
   "source": []
  },
  {
   "cell_type": "code",
   "execution_count": null,
   "id": "8d1bc4e5-6a17-4e2a-a796-c8a9b45271f6",
   "metadata": {},
   "outputs": [],
   "source": []
  },
  {
   "cell_type": "code",
   "execution_count": null,
   "id": "a9f21c1b-3918-4437-a4ca-ef7616d55df7",
   "metadata": {},
   "outputs": [],
   "source": []
  },
  {
   "cell_type": "code",
   "execution_count": null,
   "id": "c5e8d74a-13e7-4e13-ae7c-699506af156b",
   "metadata": {},
   "outputs": [],
   "source": []
  },
  {
   "cell_type": "code",
   "execution_count": null,
   "id": "383e86c9-9874-4df8-b2ad-dee48c8863f2",
   "metadata": {},
   "outputs": [],
   "source": []
  },
  {
   "cell_type": "code",
   "execution_count": null,
   "id": "aca61b99-24da-4b81-bec7-a74fce8c03c3",
   "metadata": {},
   "outputs": [],
   "source": []
  },
  {
   "cell_type": "code",
   "execution_count": null,
   "id": "342db401-ed0e-473e-b35b-83901e12145b",
   "metadata": {},
   "outputs": [],
   "source": []
  },
  {
   "cell_type": "code",
   "execution_count": null,
   "id": "03e96a02-23b9-4fb4-9c96-091c264a4da0",
   "metadata": {},
   "outputs": [],
   "source": []
  }
 ],
 "metadata": {
  "kernelspec": {
   "display_name": "Python 3",
   "language": "python",
   "name": "python3"
  },
  "language_info": {
   "codemirror_mode": {
    "name": "ipython",
    "version": 3
   },
   "file_extension": ".py",
   "mimetype": "text/x-python",
   "name": "python",
   "nbconvert_exporter": "python",
   "pygments_lexer": "ipython3",
   "version": "3.10.10"
  }
 },
 "nbformat": 4,
 "nbformat_minor": 5
}
