{
 "cells": [
  {
   "cell_type": "code",
   "execution_count": 1,
   "id": "bd4d395f-6b15-4304-8ea0-64716048ec56",
   "metadata": {},
   "outputs": [],
   "source": [
    "import numpy as np\n",
    "import matplotlib.pyplot as plt\n",
    "import pandas as pd\n",
    "import random\n",
    "from tqdm import tqdm\n",
    "import json "
   ]
  },
  {
   "cell_type": "markdown",
   "id": "b2565f1d-0b84-454e-98a2-7abfda3e9873",
   "metadata": {},
   "source": [
    "# Importing the Main tabular data"
   ]
  },
  {
   "cell_type": "code",
   "execution_count": 2,
   "id": "264f3914-d729-4a94-876e-28b304579cb9",
   "metadata": {},
   "outputs": [],
   "source": [
    "signal = pd.read_csv('/teamspace/studios/this_studio/Preprocessing Eflow Images/data/dataset3/sig_btagged2jets.txt', sep = '\\t')\n",
    "background = pd.read_csv('/teamspace/studios/this_studio/Preprocessing Eflow Images/data/dataset3/bg_btagged2jets.txt', sep = '\\t')"
   ]
  },
  {
   "cell_type": "code",
   "execution_count": 3,
   "id": "31aebbdb-761e-4bf2-9a07-2039720a0ba2",
   "metadata": {},
   "outputs": [],
   "source": [
    "#Adding Labels in the DataFrame\n",
    "signal['label'] = 1\n",
    "background['label'] = 0"
   ]
  },
  {
   "cell_type": "code",
   "execution_count": 4,
   "id": "dd1d716a-76f6-477b-9acf-0d4f997e91f4",
   "metadata": {},
   "outputs": [
    {
     "name": "stdout",
     "output_type": "stream",
     "text": [
      "['eventno', 'jetmultiplicity', 'axion_Eta', 'axion_Phi', 'axion_pT', 'axion_Px', 'axion_Py', 'axion_Pz', 'axion_E', 'Z_Eta', 'Z_Phi', 'Z_pT', 'Z_Px', 'Z_Py', 'Z_Pz', 'Z_E', 'highb_Eta', 'highb_Phi', 'highb_pT', 'highb_Px', 'highb_Py', 'highb_Pz', 'highb_E', 'lowb_Eta', 'lowb_Phi', 'lowb_pT', 'lowb_Px', 'lowb_Py', 'lowb_Pz', 'lowb_E', 'genphoton_Eta', 'genphoton_Phi', 'genphoton_pT', 'genphoton_Px', 'genphoton_Py', 'genphoton_Pz', 'genphoton_E', 'jet1_Eta', 'jet1_Phi', 'jet1_pT', 'jet1_Px', 'jet1_Py', 'jet1_Pz', 'jet1_E', 'jet2_Eta', 'jet2_Phi', 'jet2_pT', 'jet2_Px', 'jet2_Py', 'jet2_Pz', 'jet2_E', 'jet3_Eta', 'jet3_Phi', 'jet3_pT', 'jet3_Px', 'jet3_Py', 'jet3_Pz', 'jet3_E', 'jet4_Eta', 'jet4_Phi', 'jet4_pT', 'jet4_Px', 'jet4_Py', 'jet4_Pz', 'jet4_E', 'isophoton_Eta', 'isophoton_Phi', 'isophoton_pT', 'isophoton_Px', 'isophoton_Py', 'isophoton_Pz', 'isophoton_E', 'jet1_btag', 'jet2_btag', 'jet3_btag', 'jet4_btag', 'invmass_2j1p', 'delta_eta_jet1_jet2', 'delta_phi_jet1_jet2', 'deltaR_jet1_jet2', 'label']\n"
     ]
    }
   ],
   "source": [
    "print(list(signal.columns))"
   ]
  },
  {
   "cell_type": "code",
   "execution_count": 5,
   "id": "0f92caa9-c6f3-4ab8-8183-2d6f5f0436f9",
   "metadata": {},
   "outputs": [
    {
     "name": "stdout",
     "output_type": "stream",
     "text": [
      "['eventno', 'jetmultiplicity', 'highb_Eta', 'highb_Phi', 'highb_pT', 'highb_Px', 'highb_Py', 'highb_Pz', 'highb_E', 'lowb_Eta', 'lowb_Phi', 'lowb_pT', 'lowb_Px', 'lowb_Py', 'lowb_Pz', 'lowb_E', 'genphoton_Eta', 'genphoton_Phi', 'genphoton_pT', 'genphoton_Px', 'genphoton_Py', 'genphoton_Pz', 'genphoton_E', 'jet1_Eta', 'jet1_Phi', 'jet1_pT', 'jet1_Px', 'jet1_Py', 'jet1_Pz', 'jet1_E', 'jet2_Eta', 'jet2_Phi', 'jet2_pT', 'jet2_Px', 'jet2_Py', 'jet2_Pz', 'jet2_E', 'jet3_Eta', 'jet3_Phi', 'jet3_pT', 'jet3_Px', 'jet3_Py', 'jet3_Pz', 'jet3_E', 'jet4_Eta', 'jet4_Phi', 'jet4_pT', 'jet4_Px', 'jet4_Py', 'jet4_Pz', 'jet4_E', 'isophoton_Eta', 'isophoton_Phi', 'isophoton_pT', 'isophoton_Px', 'isophoton_Py', 'isophoton_Pz', 'isophoton_E', 'jet1_btag', 'jet2_btag', 'jet3_btag', 'jet4_btag', 'invmass_2j1p', 'delta_eta_jet1_jet2', 'delta_phi_jet1_jet2', 'deltaR_jet1_jet2', 'label']\n"
     ]
    }
   ],
   "source": [
    "print(list(background.columns))"
   ]
  },
  {
   "cell_type": "code",
   "execution_count": 6,
   "id": "f1c32613-e1b5-481d-acb9-79874047d821",
   "metadata": {},
   "outputs": [
    {
     "name": "stdout",
     "output_type": "stream",
     "text": [
      "Signal Events: 886\n",
      "Background Events: 1529\n"
     ]
    }
   ],
   "source": [
    "print(f\"Signal Events: {len(signal)}\")\n",
    "print(f\"Background Events: {len(background)}\")"
   ]
  },
  {
   "cell_type": "markdown",
   "id": "2d153000-37b3-47e1-9dfa-84e95d3a1bfa",
   "metadata": {},
   "source": [
    "### ADDITIONAL STEP: Renaming the isophoton columns to isophoton1"
   ]
  },
  {
   "cell_type": "code",
   "execution_count": 7,
   "id": "f6dd236c-d79d-4db7-b570-427d85be7ac5",
   "metadata": {},
   "outputs": [],
   "source": [
    "rename_dict = {'isophoton_Eta' : 'isophoton1_Eta', \n",
    "              'isophoton_Phi' : 'isophoton1_Phi', \n",
    "              'isophoton_pT' : 'isophoton1_pT', \n",
    "              'isophoton_Px' : 'isophoton1_Px', \n",
    "              'isophoton_Py' : 'isophoton1_Py', \n",
    "              'isophoton_Pz' : 'isophoton1_Pz', \n",
    "              'isophoton_E' : 'isophoton1_E'}\n",
    "\n",
    "signal.rename(rename_dict, inplace = True, axis = 1)\n",
    "background.rename(rename_dict, inplace = True, axis = 1)"
   ]
  },
  {
   "cell_type": "markdown",
   "id": "9fb727ff-6369-4344-a5c3-a79026f26b7e",
   "metadata": {},
   "source": [
    "# Aggregating Node Features"
   ]
  },
  {
   "cell_type": "code",
   "execution_count": 8,
   "id": "b783a8be-ebcb-402d-adf0-beff5037c5a5",
   "metadata": {},
   "outputs": [],
   "source": [
    "def get_node_features(x:pd.DataFrame,*, cols = ['Eta', 'Phi', 'pT', 'E'], num_isophoton_cols:int = None, num_jets_cols:int = None) -> list[np.array]:\n",
    "    if ((num_isophoton_cols is not None) & (num_jets_cols is not None)):\n",
    "        list_of_node_features = []\n",
    "        list_of_node_labels = []\n",
    "        list_of_btag_labels = []\n",
    "        print('Initializing the Process...')\n",
    "        \n",
    "        with tqdm(total=len(x), desc=\"Progress\", leave=True) as pbar:\n",
    "            for _, event in x.iterrows():\n",
    "                event_node_features = []\n",
    "                event_node_labels = []\n",
    "                jet_btag = []\n",
    "                for isophoton_idx in range(1,num_isophoton_cols + 1):\n",
    "                    isophoton_features =  event[[('isophoton' + str(isophoton_idx) + '_' + feature) for feature in cols]].values\n",
    "                    if np.sum(np.abs(isophoton_features)) > 0 :\n",
    "                        event_node_features.append(isophoton_features.tolist())\n",
    "                        event_node_labels.append(0)\n",
    "                        jet_btag.append(0)\n",
    "        \n",
    "                for jet_idx in range(1, num_jets_cols + 1):\n",
    "                    jet_features = event[[('jet' + str(jet_idx) + '_' + feature) for feature in cols]].values\n",
    "                    if (np.sum(np.abs(jet_features)) > 0):\n",
    "                        event_node_features.append(jet_features.tolist())\n",
    "                        event_node_labels.append(1)\n",
    "                        jet_btag.append(event['jet' + str(jet_idx) + '_btag'])\n",
    "                \n",
    "                list_of_node_features.append(np.array(event_node_features))\n",
    "                list_of_node_labels.append(np.array(event_node_labels))\n",
    "                list_of_btag_labels.append(np.array(jet_btag))\n",
    "                pbar.update(1)\n",
    "        print('Process Complemented :)')\n",
    "        return list_of_node_features, list_of_node_labels, list_of_btag_labels\n",
    "    else:\n",
    "        print('***num_isophoton_cols and num_jets_cols should not be None***')"
   ]
  },
  {
   "cell_type": "code",
   "execution_count": 9,
   "id": "191fda5d-4295-4c27-92a0-0998c7675f51",
   "metadata": {},
   "outputs": [
    {
     "name": "stdout",
     "output_type": "stream",
     "text": [
      "Initializing the Process...\n"
     ]
    },
    {
     "name": "stderr",
     "output_type": "stream",
     "text": [
      "Progress: 100%|██████████| 886/886 [00:00<00:00, 965.43it/s]\n"
     ]
    },
    {
     "name": "stdout",
     "output_type": "stream",
     "text": [
      "Process Complemented :)\n",
      "Initializing the Process...\n"
     ]
    },
    {
     "name": "stderr",
     "output_type": "stream",
     "text": [
      "Progress: 100%|██████████| 1529/1529 [00:01<00:00, 903.12it/s]"
     ]
    },
    {
     "name": "stdout",
     "output_type": "stream",
     "text": [
      "Process Complemented :)\n"
     ]
    },
    {
     "name": "stderr",
     "output_type": "stream",
     "text": [
      "\n"
     ]
    }
   ],
   "source": [
    "signal_node_features, signal_node_labels, signal_btag = get_node_features(signal, \n",
    "                                                                          num_isophoton_cols = 1, \n",
    "                                                                          num_jets_cols = 4)\n",
    "\n",
    "background_node_features, background_node_labels, background_btag = get_node_features(background, \n",
    "                                                                                      num_isophoton_cols = 1, \n",
    "                                                                                      num_jets_cols = 4)"
   ]
  },
  {
   "cell_type": "code",
   "execution_count": 10,
   "id": "7225dcb4-87f4-41b9-83eb-9def89e29160",
   "metadata": {},
   "outputs": [
    {
     "name": "stdout",
     "output_type": "stream",
     "text": [
      "886\n",
      "3\n",
      "4\n"
     ]
    }
   ],
   "source": [
    "# Shape of node_features_list\n",
    "print(len(signal_node_features))           # Number of events (graphs)\n",
    "print(len(signal_node_features[0]))        # Number of nodes (5: isophoton, jet1, jet2, jet3, jet4)\n",
    "print(len(signal_node_features[0][0]))     # Number of features per node"
   ]
  },
  {
   "cell_type": "code",
   "execution_count": 11,
   "id": "d94948cd-b542-47ca-8402-30d72225ada2",
   "metadata": {},
   "outputs": [
    {
     "name": "stdout",
     "output_type": "stream",
     "text": [
      "1529\n",
      "3\n",
      "4\n"
     ]
    }
   ],
   "source": [
    "# Shape of node_features_list\n",
    "print(len(background_node_features))           # Number of events (graphs)\n",
    "print(len(background_node_features[0]))        # Number of nodes (3: isophoton, jet1, jet2, jet3, jet4)\n",
    "print(len(background_node_features[0][0]))     # Number of features per node"
   ]
  },
  {
   "cell_type": "code",
   "execution_count": 12,
   "id": "ccf53d85-6af1-4141-a9f7-0ac5d0ba4884",
   "metadata": {},
   "outputs": [
    {
     "data": {
      "text/plain": [
       "array([[ 2.14053e-01,  2.49454e+00,  3.78202e+01,  3.86899e+01],\n",
       "       [-1.43928e-02, -2.08869e-01,  2.86807e+01,  2.86837e+01],\n",
       "       [-1.15036e-01, -1.73382e+00,  2.32269e+01,  2.33808e+01]])"
      ]
     },
     "execution_count": 12,
     "metadata": {},
     "output_type": "execute_result"
    }
   ],
   "source": [
    "signal_node_features[0] #Each Row represents node feature"
   ]
  },
  {
   "cell_type": "code",
   "execution_count": 13,
   "id": "62f26b4b-70a1-40e6-85a0-aeadb79953c0",
   "metadata": {},
   "outputs": [
    {
     "data": {
      "text/plain": [
       "array([0, 1, 1])"
      ]
     },
     "execution_count": 13,
     "metadata": {},
     "output_type": "execute_result"
    }
   ],
   "source": [
    "signal_node_labels[0]"
   ]
  },
  {
   "cell_type": "code",
   "execution_count": 14,
   "id": "8587ef1a-b6d4-43d5-b54d-a655699ac05e",
   "metadata": {},
   "outputs": [
    {
     "data": {
      "text/plain": [
       "eventno                228.000000\n",
       "jetmultiplicity          2.000000\n",
       "axion_Eta               -0.034237\n",
       "axion_Phi               -0.864124\n",
       "axion_pT                44.492100\n",
       "                          ...    \n",
       "invmass_2j1p            90.217625\n",
       "delta_eta_jet1_jet2      0.100643\n",
       "delta_phi_jet1_jet2      1.524951\n",
       "deltaR_jet1_jet2         1.528268\n",
       "label                    1.000000\n",
       "Name: 0, Length: 81, dtype: float64"
      ]
     },
     "execution_count": 14,
     "metadata": {},
     "output_type": "execute_result"
    }
   ],
   "source": [
    "signal.iloc[0,:]"
   ]
  },
  {
   "cell_type": "markdown",
   "id": "617efcee-851b-40b3-b74d-d4c6b3057aea",
   "metadata": {},
   "source": [
    "# Aggregating Edge Index and Edge Features"
   ]
  },
  {
   "cell_type": "code",
   "execution_count": 15,
   "id": "fd82cd03-13dd-43c9-a63b-9b28652f0551",
   "metadata": {},
   "outputs": [],
   "source": [
    "from helper_function_module import Euclidean_distance as ed\n",
    "def get_edge_info(x:pd.DataFrame,*, cols = ['Eta', 'Phi'], num_isophoton_cols:int = None, num_jets_cols:int = None) -> list[np.array]:\n",
    "    list_edge_attr =[]\n",
    "    list_edge_index = []\n",
    "\n",
    "    if ((num_isophoton_cols is not None) & (num_jets_cols is not None)):\n",
    "        print('Initializing the Process...')\n",
    "        \n",
    "        with tqdm(total=len(x), desc=\"Progress\", leave=True) as pbar:\n",
    "            for _, event in x.iterrows():\n",
    "                event_eta_phi = []\n",
    "                event_edge_attr = []\n",
    "                event_edge_index = []\n",
    "                for isophoton_idx in range(1,num_isophoton_cols + 1):\n",
    "                    isophoton_features =  event[[('isophoton' + str(isophoton_idx) + '_' + feature) for feature in cols]].values\n",
    "                    if np.sum(np.abs(isophoton_features)) > 0 :\n",
    "                        event_eta_phi.append(isophoton_features.tolist())\n",
    "        \n",
    "                for jet_idx in range(1, num_jets_cols + 1):\n",
    "                    jet_features = event[[('jet' + str(jet_idx) + '_' + feature) for feature in cols]].values\n",
    "                    if (np.sum(np.abs(jet_features)) > 0 ):\n",
    "                        event_eta_phi.append(jet_features.tolist())\n",
    "\n",
    "                event_eta_phi = np.array(event_eta_phi)\n",
    "\n",
    "                for i in range(len(event_eta_phi)):\n",
    "                    for j in range(len(event_eta_phi)):\n",
    "                        if j>i:\n",
    "                            event_edge_index.append([i,j])\n",
    "                            delta_R = ed(event_eta_phi[i], event_eta_phi[j])\n",
    "                            event_edge_attr.append(delta_R)\n",
    "                list_edge_attr.append(np.array(event_edge_attr))\n",
    "                list_edge_index.append(np.array(event_edge_index).T)\n",
    "                \n",
    "                pbar.update(1)\n",
    "            \n",
    "        print('Process Complemented :)')\n",
    "        return list_edge_attr, list_edge_index\n",
    "    else:\n",
    "        print('***num_isophoton_cols and num_jets_cols should not be None***')\n",
    "        "
   ]
  },
  {
   "cell_type": "code",
   "execution_count": 16,
   "id": "4a573a95-cf1c-4dbf-acfd-d6ba33d41cc5",
   "metadata": {},
   "outputs": [
    {
     "name": "stdout",
     "output_type": "stream",
     "text": [
      "Initializing the Process...\n"
     ]
    },
    {
     "name": "stderr",
     "output_type": "stream",
     "text": [
      "Progress: 100%|██████████| 886/886 [00:00<00:00, 1209.92it/s]\n"
     ]
    },
    {
     "name": "stdout",
     "output_type": "stream",
     "text": [
      "Process Complemented :)\n",
      "Initializing the Process...\n"
     ]
    },
    {
     "name": "stderr",
     "output_type": "stream",
     "text": [
      "Progress: 100%|██████████| 1529/1529 [00:01<00:00, 1370.06it/s]"
     ]
    },
    {
     "name": "stdout",
     "output_type": "stream",
     "text": [
      "Process Complemented :)\n"
     ]
    },
    {
     "name": "stderr",
     "output_type": "stream",
     "text": [
      "\n"
     ]
    }
   ],
   "source": [
    "signal_edge_attr, signal_edge_index = get_edge_info(signal, num_isophoton_cols = 1, num_jets_cols = 2)\n",
    "background_edge_attr, background_edge_index = get_edge_info(background, num_isophoton_cols = 1, num_jets_cols = 2)"
   ]
  },
  {
   "cell_type": "code",
   "execution_count": 17,
   "id": "ab923fdf-539a-4079-b09b-32d6d7e3766f",
   "metadata": {},
   "outputs": [
    {
     "name": "stdout",
     "output_type": "stream",
     "text": [
      "886\n",
      "3\n"
     ]
    }
   ],
   "source": [
    "print(len(signal_edge_attr))\n",
    "print(len(signal_edge_attr[4]))"
   ]
  },
  {
   "cell_type": "code",
   "execution_count": 18,
   "id": "76ab046f-e33e-420e-9a27-2775250ec156",
   "metadata": {},
   "outputs": [
    {
     "data": {
      "text/plain": [
       "array([2.22072783, 3.70415451, 1.90379881])"
      ]
     },
     "execution_count": 18,
     "metadata": {},
     "output_type": "execute_result"
    }
   ],
   "source": [
    "signal_edge_attr[3]"
   ]
  },
  {
   "cell_type": "code",
   "execution_count": 19,
   "id": "2441488b-e4fd-4e82-a275-38326bcc3b07",
   "metadata": {},
   "outputs": [
    {
     "data": {
      "text/plain": [
       "array([[0, 0, 1],\n",
       "       [1, 2, 2]])"
      ]
     },
     "execution_count": 19,
     "metadata": {},
     "output_type": "execute_result"
    }
   ],
   "source": [
    "signal_edge_index[3]"
   ]
  },
  {
   "cell_type": "code",
   "execution_count": 20,
   "id": "f6b80dee-3785-487e-b426-2f65d26bc013",
   "metadata": {},
   "outputs": [
    {
     "name": "stdout",
     "output_type": "stream",
     "text": [
      "1529\n",
      "3\n"
     ]
    }
   ],
   "source": [
    "print(len(background_edge_attr))\n",
    "print(len(background_edge_attr[0]))"
   ]
  },
  {
   "cell_type": "markdown",
   "id": "0bf8ced7-2579-41f6-a317-035359e3d13b",
   "metadata": {},
   "source": [
    "# Invariant Mass Calculation for each Event"
   ]
  },
  {
   "cell_type": "code",
   "execution_count": 21,
   "id": "f09e5791-43ac-42c7-aa52-38690a8c4bc9",
   "metadata": {},
   "outputs": [],
   "source": [
    "def get_invMass(x:pd.DataFrame,*, num_isophoton_cols:int = None, num_jets_cols:int = None) ->list[float]:\n",
    "    list_inv_mass = []\n",
    "    cols = ['E', 'Px', 'Py', 'Pz']\n",
    "\n",
    "    if ((num_isophoton_cols is not None) & (num_jets_cols is not None)):\n",
    "        print('Initializing the Process...')\n",
    "        \n",
    "        with tqdm(total=len(x), desc=\"Progress\", leave=True) as pbar:\n",
    "            for _, event in x.iterrows():\n",
    "                event_cols = []\n",
    "                for isophoton_idx in range(1,num_isophoton_cols + 1):\n",
    "                    isophoton_features =  event[[('isophoton' + str(isophoton_idx) + '_' + feature) for feature in cols]].values\n",
    "                    if (np.sum(np.abs(isophoton_features)) > 0) :\n",
    "                        event_cols.append(isophoton_features.tolist())\n",
    "        \n",
    "                for jet_idx in range(1, num_jets_cols + 1):\n",
    "                    jet_features = event[[('jet' + str(jet_idx) + '_' + feature) for feature in cols]].values\n",
    "                    if (np.sum(np.abs(jet_features)) > 0):\n",
    "                        event_cols.append(jet_features.tolist())\n",
    "                if event_cols:\n",
    "                    event_cols = np.array(event_cols)\n",
    "                    # print(event_cols)\n",
    "                    sumSquared_EPxPyPz = (np.sum(event_cols, axis = 0))**2\n",
    "                    inv_mass = np.sqrt(np.abs(sumSquared_EPxPyPz[0] - np.sum(sumSquared_EPxPyPz[1:])))\n",
    "    \n",
    "                    list_inv_mass.append(inv_mass)\n",
    "                \n",
    "                pbar.update(1)\n",
    "            \n",
    "        print('Process Complemented :)')\n",
    "        return list_inv_mass\n",
    "    else:\n",
    "        print('***num_isophoton_cols and num_jets_cols should not be None***')"
   ]
  },
  {
   "cell_type": "code",
   "execution_count": 22,
   "id": "6b9c09d4-c192-435b-b946-0e0e2ed68c0e",
   "metadata": {},
   "outputs": [
    {
     "name": "stdout",
     "output_type": "stream",
     "text": [
      "Initializing the Process...\n"
     ]
    },
    {
     "name": "stderr",
     "output_type": "stream",
     "text": [
      "Progress: 100%|██████████| 886/886 [00:00<00:00, 1499.86it/s]\n"
     ]
    },
    {
     "name": "stdout",
     "output_type": "stream",
     "text": [
      "Process Complemented :)\n",
      "Initializing the Process...\n"
     ]
    },
    {
     "name": "stderr",
     "output_type": "stream",
     "text": [
      "Progress: 100%|██████████| 1529/1529 [00:01<00:00, 1520.36it/s]"
     ]
    },
    {
     "name": "stdout",
     "output_type": "stream",
     "text": [
      "Process Complemented :)\n"
     ]
    },
    {
     "name": "stderr",
     "output_type": "stream",
     "text": [
      "\n"
     ]
    }
   ],
   "source": [
    "signal_invMass = get_invMass(signal, num_isophoton_cols = 1, num_jets_cols = 2)\n",
    "background_invMass = get_invMass(background, num_isophoton_cols = 1, num_jets_cols = 2)"
   ]
  },
  {
   "cell_type": "code",
   "execution_count": 23,
   "id": "26fd0699-ebae-47cf-976d-272095fd0cf8",
   "metadata": {},
   "outputs": [
    {
     "data": {
      "text/plain": [
       "90.21762513276815"
      ]
     },
     "execution_count": 23,
     "metadata": {},
     "output_type": "execute_result"
    }
   ],
   "source": [
    "signal_invMass[0]"
   ]
  },
  {
   "cell_type": "code",
   "execution_count": 24,
   "id": "969448a4-8241-4485-8ac5-2671ea514db4",
   "metadata": {},
   "outputs": [
    {
     "data": {
      "text/plain": [
       "eventno                228.000000\n",
       "jetmultiplicity          2.000000\n",
       "axion_Eta               -0.034237\n",
       "axion_Phi               -0.864124\n",
       "axion_pT                44.492100\n",
       "                          ...    \n",
       "invmass_2j1p            90.217625\n",
       "delta_eta_jet1_jet2      0.100643\n",
       "delta_phi_jet1_jet2      1.524951\n",
       "deltaR_jet1_jet2         1.528268\n",
       "label                    1.000000\n",
       "Name: 0, Length: 81, dtype: float64"
      ]
     },
     "execution_count": 24,
     "metadata": {},
     "output_type": "execute_result"
    }
   ],
   "source": [
    "signal.iloc[0,:]"
   ]
  },
  {
   "cell_type": "markdown",
   "id": "aa8f662a-ba40-4b43-9394-4405577d486a",
   "metadata": {},
   "source": [
    "# Aggregating Data for Graphs"
   ]
  },
  {
   "cell_type": "code",
   "execution_count": 25,
   "id": "895b7051-3533-4f68-8d8a-68bbf5c1a5d6",
   "metadata": {},
   "outputs": [],
   "source": [
    "def get_graph_features(eventno:list[int], node_features_list:list[np.array], edge_features_list:list[np.array], edge_index_list:list[np.array], node_label:list[np.array], btag_label:list[int], jetmultiplicity:list[int], inv_mass:list[float], label:int) -> dict:\n",
    "    event_graphs = []\n",
    "    if len(node_features_list) == len(edge_features_list) == len(edge_index_list) == len(node_label) == len(jetmultiplicity) == len(inv_mass) == len(btag_label):\n",
    "        for i in range(len(node_features_list)):\n",
    "            graph_dict = {\n",
    "                'eventno' : eventno[i],\n",
    "                'nodes' : node_features_list[i].tolist(),\n",
    "                'edges' : edge_features_list[i].tolist(),\n",
    "                'edge_index' : edge_index_list[i].tolist(),\n",
    "                'node_labels' : node_label[i].tolist(),\n",
    "                'jet_btag_label' : btag_label[i].tolist(),\n",
    "                'jetmultiplicity' : jetmultiplicity[i],\n",
    "                'inv_mass' : inv_mass[i],\n",
    "                'event_label' : label\n",
    "            }\n",
    "            event_graphs.append(graph_dict)\n",
    "        return event_graphs\n",
    "\n",
    "    else:\n",
    "        print('***Number of Events in the lists do not match***')"
   ]
  },
  {
   "cell_type": "code",
   "execution_count": 26,
   "id": "651c8f1b-53b7-4899-b663-5486ad150503",
   "metadata": {},
   "outputs": [],
   "source": [
    "signal_graphs_dict = get_graph_features(signal['eventno'].values.tolist(), signal_node_features, signal_edge_attr, signal_edge_index, signal_node_labels, signal_btag,signal.jetmultiplicity.values.tolist(), signal_invMass, 1)\n",
    "background_graphs_dict = get_graph_features(background['eventno'].values.tolist(), background_node_features, background_edge_attr, background_edge_index, background_node_labels, background_btag,background.jetmultiplicity.values.tolist(), background_invMass, 0)"
   ]
  },
  {
   "cell_type": "code",
   "execution_count": 33,
   "id": "f47086d2-38b7-4b4c-bcf1-d71056cfd9e6",
   "metadata": {},
   "outputs": [
    {
     "name": "stdout",
     "output_type": "stream",
     "text": [
      "Signal Events Count: 886\n",
      "Background Events Count: 1529\n"
     ]
    }
   ],
   "source": [
    "print(f\"Signal Events Count: {len(signal_graphs_dict)}\")\n",
    "print(f\"Background Events Count: {len(background_graphs_dict)}\")"
   ]
  },
  {
   "cell_type": "code",
   "execution_count": 28,
   "id": "ff513c71-7909-4712-aa2e-1e8602601ec1",
   "metadata": {},
   "outputs": [
    {
     "data": {
      "text/plain": [
       "{'eventno': 228,\n",
       " 'nodes': [[0.214053, 2.49454, 37.8202, 38.6899],\n",
       "  [-0.0143928, -0.208869, 28.6807, 28.6837],\n",
       "  [-0.115036, -1.73382, 23.2269, 23.3808]],\n",
       " 'edges': [2.713043992422283, 2.0810109593528523, 1.5282684993505689],\n",
       " 'edge_index': [[0, 0, 1], [1, 2, 2]],\n",
       " 'node_labels': [0, 1, 1],\n",
       " 'jet_btag_label': [0.0, 1.0, 1.0],\n",
       " 'jetmultiplicity': 2,\n",
       " 'inv_mass': 90.21762513276815,\n",
       " 'event_label': 1}"
      ]
     },
     "execution_count": 28,
     "metadata": {},
     "output_type": "execute_result"
    }
   ],
   "source": [
    "signal_graphs_dict[0]"
   ]
  },
  {
   "cell_type": "code",
   "execution_count": 30,
   "id": "5eb4f554-a248-405f-8052-a1c771311be3",
   "metadata": {},
   "outputs": [
    {
     "data": {
      "text/plain": [
       "{'eventno': 469,\n",
       " 'nodes': [[1.13126, -0.431804, 19.0611, 32.6154],\n",
       "  [1.11429, 0.962557, 51.6036, 87.0954],\n",
       "  [1.74965, -1.97337, 50.5056, 149.659]],\n",
       " 'edges': [1.394464262439522, 1.6609731859533434, 3.0038890923149943],\n",
       " 'edge_index': [[0, 0, 1], [1, 2, 2]],\n",
       " 'node_labels': [0, 1, 1],\n",
       " 'jet_btag_label': [0.0, 1.0, 1.0],\n",
       " 'jetmultiplicity': 2,\n",
       " 'inv_mass': 123.59113817850537,\n",
       " 'event_label': 0}"
      ]
     },
     "execution_count": 30,
     "metadata": {},
     "output_type": "execute_result"
    }
   ],
   "source": [
    "background_graphs_dict[0]"
   ]
  },
  {
   "cell_type": "markdown",
   "id": "7c3e5146-14ec-4c66-ba54-961ca00c3b39",
   "metadata": {},
   "source": [
    "# Exporting the Dictionaries as JSON File\n",
    "*Uncomment to save the dictionaries as json files"
   ]
  },
  {
   "cell_type": "code",
   "execution_count": 31,
   "id": "0043b242-78b5-46e7-b020-ac384467249a",
   "metadata": {},
   "outputs": [],
   "source": [
    "# import json\n",
    "# with open('signal_btagged_2j1p.json', 'w') as file:\n",
    "#     json.dump(signal_graphs_dict, file)"
   ]
  },
  {
   "cell_type": "code",
   "execution_count": 32,
   "id": "4c5970b4-205d-4f36-97d2-a7edce5b4cd1",
   "metadata": {},
   "outputs": [],
   "source": [
    "# with open('background_btagged_2j1p.json', 'w') as file:\n",
    "#     json.dump(background_graphs_dict, file)"
   ]
  },
  {
   "cell_type": "code",
   "execution_count": 38,
   "id": "70d1776a-13ff-485c-97b2-81e47ebe3cbe",
   "metadata": {},
   "outputs": [],
   "source": [
    "# with open('signal_btagged_2j1p.json', 'r') as file:\n",
    "#     loaded_data = json.load(file)\n",
    "\n",
    "# print(loaded_data[885])"
   ]
  },
  {
   "cell_type": "code",
   "execution_count": null,
   "id": "d9e42ccf-4c22-40b4-93f3-47f123427481",
   "metadata": {},
   "outputs": [],
   "source": []
  },
  {
   "cell_type": "code",
   "execution_count": null,
   "id": "36815a77-6900-434a-acd1-200e0a51cd1a",
   "metadata": {},
   "outputs": [],
   "source": []
  }
 ],
 "metadata": {
  "kernelspec": {
   "display_name": "Python 3",
   "language": "python",
   "name": "python3"
  },
  "language_info": {
   "codemirror_mode": {
    "name": "ipython",
    "version": 3
   },
   "file_extension": ".py",
   "mimetype": "text/x-python",
   "name": "python",
   "nbconvert_exporter": "python",
   "pygments_lexer": "ipython3",
   "version": "3.10.16"
  }
 },
 "nbformat": 4,
 "nbformat_minor": 5
}
