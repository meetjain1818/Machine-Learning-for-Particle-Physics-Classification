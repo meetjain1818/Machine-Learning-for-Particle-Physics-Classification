{
 "cells": [
  {
   "cell_type": "code",
   "execution_count": null,
   "id": "bd4d395f-6b15-4304-8ea0-64716048ec56",
   "metadata": {},
   "outputs": [],
   "source": [
    "import numpy as np\n",
    "import torch\n",
    "import matplotlib.pyplot as plt\n",
    "import torch_geometric\n",
    "from torch_geometric.loader import DataLoader\n",
    "import pandas as pd\n",
    "import random\n",
    "import os\n",
    "from torch_geometric.data import Data\n",
    "import networkx as nx\n",
    "from torch_geometric.utils import to_networkx\n",
    "import torch.nn.functional as F\n",
    "from torch_geometric.nn import GCNConv, global_mean_pool, NNConv, SAGEConv, BatchNorm\n",
    "from tqdm import tqdm\n",
    "import torch.optim as optim\n",
    "import torch.optim.lr_scheduler as lr_scheduler"
   ]
  },
  {
   "cell_type": "code",
   "execution_count": null,
   "id": "dd6fe0fe-3aa3-46e3-b3f4-8d178b254439",
   "metadata": {},
   "outputs": [],
   "source": [
    "os.getcwd()\n",
    "use_cuda_if_available = False\n",
    "BATCH_SIZE = 30\n",
    "device = torch.device('cuda' if torch.cuda.is_available() and use_cuda_if_available else 'cpu')"
   ]
  },
  {
   "cell_type": "code",
   "execution_count": null,
   "id": "8c4d56a9-2f2a-4399-8c64-17e2013d767f",
   "metadata": {},
   "outputs": [],
   "source": [
    "def set_seed(seed):\n",
    "    random.seed(seed)\n",
    "    np.random.seed(seed) \n",
    "    torch.manual_seed(seed)\n",
    "    torch.cuda.manual_seed(seed)\n",
    "    torch.cuda.manual_seed_all(seed)\n",
    "    torch.backends.cudnn.deterministic = True\n",
    "    torch.backends.cudnn.benchmark = False \n",
    "    \n",
    "seed = 1234\n",
    "set_seed(seed)"
   ]
  },
  {
   "cell_type": "markdown",
   "id": "b2565f1d-0b84-454e-98a2-7abfda3e9873",
   "metadata": {},
   "source": [
    "# Importing the Main tabular data"
   ]
  },
  {
   "cell_type": "code",
   "execution_count": null,
   "id": "264f3914-d729-4a94-876e-28b304579cb9",
   "metadata": {},
   "outputs": [],
   "source": [
    "signal = pd.read_csv('/teamspace/studios/this_studio/GNN/data/signal_gnn.txt', sep = '\\t')\n",
    "background = pd.read_csv('/teamspace/studios/this_studio/GNN/data/background_gnn.txt', sep = '\\t')"
   ]
  },
  {
   "cell_type": "code",
   "execution_count": null,
   "id": "1a4c623a-fa64-4647-91dc-dd27da4bd0e5",
   "metadata": {},
   "outputs": [],
   "source": [
    "signal.head()"
   ]
  },
  {
   "cell_type": "code",
   "execution_count": null,
   "id": "dd1d716a-76f6-477b-9acf-0d4f997e91f4",
   "metadata": {},
   "outputs": [],
   "source": [
    "background.columns"
   ]
  },
  {
   "cell_type": "markdown",
   "id": "31516f90-1fab-4179-9792-2d93f031331a",
   "metadata": {},
   "source": [
    "# Plan for defining the Graph\n",
    "\n",
    "Individual Event -> Graph -> Fully Connected Graph, Undirectional\n",
    "\n",
    "Objects(Isophoton, jet1, jet2) -> Nodes\n",
    "\n",
    "Node Lable -> (isophoton, jet1, jet2) -> (0,1,2)\n",
    "\n",
    "Node Features -> (Eta, Phi, Px, Py, Pz, E)\n",
    "\n",
    "Edge Index -> ((0, 1, 2),(1, 2, 0))\n",
    "\n",
    "Edge Features -> $\\Delta R$ between the ((0,1), (1,2), (2,0))\n",
    "\n",
    "Graph Features -> (jet_multiplicity, inv_mass)\n",
    "\n",
    "Graph Lable -> 0:Background, 1:Signal"
   ]
  },
  {
   "cell_type": "markdown",
   "id": "9fb727ff-6369-4344-a5c3-a79026f26b7e",
   "metadata": {},
   "source": [
    "# Aggregating Node Features"
   ]
  },
  {
   "cell_type": "code",
   "execution_count": null,
   "id": "b783a8be-ebcb-402d-adf0-beff5037c5a5",
   "metadata": {},
   "outputs": [],
   "source": [
    "def get_node_features(x:pd.DataFrame) -> list:\n",
    "    \"\"\"\n",
    "    Extracts node features for isophoton, jet1, and jet2 from a DataFrame\n",
    "    and returns a list of node features for all events.\n",
    "\n",
    "    Parameters:\n",
    "    -----------\n",
    "    x : pd.DataFrame\n",
    "        Input DataFrame with columns containing features for each object in the event.\n",
    "\n",
    "    Returns:\n",
    "    --------\n",
    "    list_of_node_features : list of lists\n",
    "        Each element in the list is a 2D list of shape (3, num_features) \n",
    "        containing node features for isophoton, jet1, and jet2.\n",
    "    \"\"\"\n",
    "    # List to store node features for all events (graphs)\n",
    "    list_of_node_features = []\n",
    "\n",
    "    # Columns for each object's features\n",
    "    isophoton_cols = ['isophoton_Eta', 'isophoton_Phi', \n",
    "                      'isophoton_Px', 'isophoton_Py', 'isophoton_Pz', 'isophoton_E']\n",
    "    jet1_cols = ['jet1_Eta', 'jet1_Phi', \n",
    "                 'jet1_Px', 'jet1_Py', 'jet1_Pz', 'jet1_E']\n",
    "    jet2_cols = ['jet2_Eta', 'jet2_Phi', \n",
    "                 'jet2_Px', 'jet2_Py', 'jet2_Pz', 'jet2_E']\n",
    "\n",
    "    for _, event in x.iterrows():\n",
    "        isophoton_features = event[isophoton_cols].values.tolist()  # List of features for isophoton\n",
    "        jet1_features = event[jet1_cols].values.tolist()            # List of features for jet1\n",
    "        jet2_features = event[jet2_cols].values.tolist()            # List of features for jet2\n",
    "\n",
    "        event_node_features = [isophoton_features, jet1_features, jet2_features]\n",
    "\n",
    "        list_of_node_features.append(event_node_features)\n",
    "\n",
    "    return list_of_node_features"
   ]
  },
  {
   "cell_type": "code",
   "execution_count": null,
   "id": "191fda5d-4295-4c27-92a0-0998c7675f51",
   "metadata": {},
   "outputs": [],
   "source": [
    "signal_node_features_list = get_node_features(signal)\n",
    "background_node_features_list = get_node_features(background)"
   ]
  },
  {
   "cell_type": "code",
   "execution_count": null,
   "id": "7225dcb4-87f4-41b9-83eb-9def89e29160",
   "metadata": {},
   "outputs": [],
   "source": [
    "# Shape of node_features_list\n",
    "print(len(signal_node_features_list))           # Number of events (graphs)\n",
    "print(len(signal_node_features_list[0]))        # Number of nodes (3: isophoton, jet1, jet2)\n",
    "print(len(signal_node_features_list[0][0]))     # Number of features per node"
   ]
  },
  {
   "cell_type": "code",
   "execution_count": null,
   "id": "d94948cd-b542-47ca-8402-30d72225ada2",
   "metadata": {},
   "outputs": [],
   "source": [
    "# Shape of node_features_list\n",
    "print(len(background_node_features_list))           # Number of events (graphs)\n",
    "print(len(background_node_features_list[0]))        # Number of nodes (3: isophoton, jet1, jet2)\n",
    "print(len(background_node_features_list[0][0]))     # Number of features per node"
   ]
  },
  {
   "cell_type": "code",
   "execution_count": null,
   "id": "36c9b19d-07b4-484c-8e8b-9c2f113f6b1d",
   "metadata": {},
   "outputs": [],
   "source": [
    "signal_node_features_list[0] #Each Row represents node feature"
   ]
  },
  {
   "cell_type": "markdown",
   "id": "617efcee-851b-40b3-b74d-d4c6b3057aea",
   "metadata": {},
   "source": [
    "# Aggregating Edge Index and Edge Features"
   ]
  },
  {
   "cell_type": "code",
   "execution_count": null,
   "id": "0bb196ce-6b34-4272-93ec-693dd9a8e006",
   "metadata": {},
   "outputs": [],
   "source": [
    "edge_index = [[0,1,2],[1,2,0]]  #Directed edge (0 -> 1, 1 -> 2, 2 -> 0)\n",
    "\n",
    "def get_edge_features(x:pd.DataFrame) -> list:\n",
    "    \"\"\"\n",
    "    Extracts edge features(deltaR) between isophoton, jet1, and jet2 from a DataFrame\n",
    "    and returns a list of edge features for all events.\n",
    "\n",
    "    Parameters:\n",
    "    -----------\n",
    "    x : pd.DataFrame\n",
    "        Input DataFrame with columns containing features for each object in the event.\n",
    "\n",
    "    Returns:\n",
    "    --------\n",
    "    list_of_edge_features : list of lists\n",
    "        Each element in the list is a 1D list of size 3 \n",
    "        containing edge features for isophoton, jet1, and jet2.\n",
    "    \"\"\"\n",
    "\n",
    "    list_of_edge_features = []\n",
    "\n",
    "    for _, event in x.iterrows():\n",
    "        edge_01 = event['deltaR_iso_jet1']\n",
    "        edge_12 = event['deltaR_jet12']\n",
    "        edge_20 = event['deltaR_iso_jet2']\n",
    "        \n",
    "        list_of_edge_features.append([edge_01, edge_12, edge_20])\n",
    "    return list_of_edge_features"
   ]
  },
  {
   "cell_type": "code",
   "execution_count": null,
   "id": "4a573a95-cf1c-4dbf-acfd-d6ba33d41cc5",
   "metadata": {},
   "outputs": [],
   "source": [
    "signal_edge_features_list = get_edge_features(signal)\n",
    "background_edge_features_list = get_edge_features(background)"
   ]
  },
  {
   "cell_type": "code",
   "execution_count": null,
   "id": "ab923fdf-539a-4079-b09b-32d6d7e3766f",
   "metadata": {},
   "outputs": [],
   "source": [
    "print(len(signal_edge_features_list))\n",
    "print(len(signal_edge_features_list[0]))"
   ]
  },
  {
   "cell_type": "code",
   "execution_count": null,
   "id": "76ab046f-e33e-420e-9a27-2775250ec156",
   "metadata": {},
   "outputs": [],
   "source": [
    "signal_edge_features_list[0]"
   ]
  },
  {
   "cell_type": "code",
   "execution_count": null,
   "id": "f6b80dee-3785-487e-b426-2f65d26bc013",
   "metadata": {},
   "outputs": [],
   "source": [
    "print(len(background_edge_features_list))\n",
    "print(len(background_edge_features_list[0]))"
   ]
  },
  {
   "cell_type": "code",
   "execution_count": null,
   "id": "f09e5791-43ac-42c7-aa52-38690a8c4bc9",
   "metadata": {},
   "outputs": [],
   "source": []
  },
  {
   "cell_type": "markdown",
   "id": "aa8f662a-ba40-4b43-9394-4405577d486a",
   "metadata": {},
   "source": [
    "# Aggregating Data for Graphs"
   ]
  },
  {
   "cell_type": "code",
   "execution_count": null,
   "id": "895b7051-3533-4f68-8d8a-68bbf5c1a5d6",
   "metadata": {},
   "outputs": [],
   "source": [
    "def get_graph_features(node_features_list:list, edge_features_list:list, edge_index_list:list) -> dict:\n",
    "    '''\n",
    "    Extract node features,  edge features and edge index for each event and put then into a dictionary\n",
    "    representating each event and return a list containing the dictionaries.\n",
    "\n",
    "    Parameters:\n",
    "    -----------\n",
    "    node_features_list : list\n",
    "        Each element in the list is a 2D list of shape (3, num_features) \n",
    "        containing node features for isophoton, jet1, and jet2.\n",
    "\n",
    "    edge_features_list : list\n",
    "        Each element in the list is a 1D list of size 3 \n",
    "        containing edge features for isophoton, jet1, and jet2.\n",
    "\n",
    "    edge_index_list : list\n",
    "        2D list of shape (2, num_edges), connectivity information.\n",
    "\n",
    "    Returns:\n",
    "    --------\n",
    "    event_graph : list of dictionaries\n",
    "        Each element contains:\n",
    "            - 'nodes': 2D list of shape (3, num_features), node features for isophoton, jet1, and jet2.\n",
    "            - 'edges': 2D list of shape (num_edges, edge_features), edge features (Delta R) for the fully connected graph.\n",
    "            - 'edge_index': 2D list of shape (2, num_edges), connectivity information.\n",
    "    '''\n",
    "    event_graphs = []\n",
    "    if len(node_features_list) == len(edge_features_list):\n",
    "        for i in range(len(node_features_list)):\n",
    "            graph_dict = {\n",
    "                'nodes' : node_features_list[i],\n",
    "                'edges' : edge_features_list[i],\n",
    "                'edge_index' : edge_index_list\n",
    "            }\n",
    "            event_graphs.append(graph_dict)\n",
    "        return event_graphs\n",
    "\n",
    "    else:\n",
    "        print('Number of Events in lists dont match')"
   ]
  },
  {
   "cell_type": "code",
   "execution_count": null,
   "id": "651c8f1b-53b7-4899-b663-5486ad150503",
   "metadata": {},
   "outputs": [],
   "source": [
    "signal_graphs = get_graph_features(signal_node_features_list, signal_edge_features_list, edge_index)\n",
    "background_graphs = get_graph_features(background_node_features_list, background_edge_features_list, edge_index)"
   ]
  },
  {
   "cell_type": "code",
   "execution_count": null,
   "id": "f47086d2-38b7-4b4c-bcf1-d71056cfd9e6",
   "metadata": {},
   "outputs": [],
   "source": [
    "print(len(signal_graphs))\n",
    "print(len(signal_graphs[0]))"
   ]
  },
  {
   "cell_type": "code",
   "execution_count": null,
   "id": "ff513c71-7909-4712-aa2e-1e8602601ec1",
   "metadata": {},
   "outputs": [],
   "source": [
    "signal_graphs[0]"
   ]
  },
  {
   "cell_type": "markdown",
   "id": "b6c8654b-84c8-4308-977a-73eb55a8440c",
   "metadata": {},
   "source": [
    "# Converting Each Event into a PyG Graph Object"
   ]
  },
  {
   "cell_type": "code",
   "execution_count": null,
   "id": "9d7dbddd-f523-48a7-a3ef-ea12d2f9e2bc",
   "metadata": {},
   "outputs": [],
   "source": [
    "import torch\n",
    "from torch_geometric.data import Data\n",
    "\n",
    "def convert_to_pyg_graph(graph, jet_multiplicity, inv_mass, deltaR_jet12, label):\n",
    "    \"\"\"\n",
    "    Convert the graph dictionary into a PyTorch Geometric Data object\n",
    "    and add graph-level features like jet_multiplicity, inv_mass, and the event label.\n",
    "\n",
    "    Parameters:\n",
    "    -----------\n",
    "    graph : dict\n",
    "        Dictionary containing 'nodes', 'edges', and 'edge_index' for a single event.\n",
    "    jet_multiplicity : float\n",
    "        The number of jets in the event.\n",
    "    inv_mass : float\n",
    "        The invariant mass of the event.\n",
    "    label : int\n",
    "        The label of the event (1 for signal, 0 for background).\n",
    "\n",
    "    Returns:\n",
    "    --------\n",
    "    data : Data\n",
    "        PyTorch Geometric Data object containing the graph and additional features.\n",
    "    \"\"\"\n",
    "    # Extract node features, edge features, and edge index from the graph dictionary\n",
    "    node_features = torch.tensor(graph['nodes'], dtype=torch.float)  # Shape: (3, num_features)\n",
    "    edge_index = torch.tensor(graph['edge_index'], dtype=torch.long)  # Shape: (2, num_edges)\n",
    "    edge_features = torch.tensor(graph['edges'], dtype=torch.float).view(-1,1)  # Shape: (num_edges, 1)\n",
    "\n",
    "    # Convert graph-level features (jet_multiplicity, inv_mass) and label to tensor\n",
    "    graph_level_features = torch.tensor([jet_multiplicity, inv_mass, edge_features.std().item(), deltaR_jet12], dtype=torch.float).view(1, -1)\n",
    "    label_tensor = torch.tensor([label], dtype=torch.long)  # Event label (0 or 1)\n",
    "\n",
    "    # Create the PyTorch Geometric Data object\n",
    "    data = Data(\n",
    "        x=node_features,               # Node features (3, num_features)\n",
    "        edge_index=edge_index,         # Edge index (2, num_edges)\n",
    "        edge_attr=edge_features,       # Edge features (num_edges, 1)\n",
    "        y=label_tensor                 # Event label (0 or 1)\n",
    "    )\n",
    "\n",
    "    # Add custom graph-level features\n",
    "    data.jet_multiplicity = graph_level_features[0, 0]\n",
    "    data.inv_mass = graph_level_features[0, 1]\n",
    "    data.proximity_spread = graph_level_features[0, 2]\n",
    "    data.deltaR_jet12 = graph_level_features[0, 3]\n",
    "\n",
    "    return data\n",
    "\n",
    "def convert_all_to_pyg_graphs(graphs, dataframe):\n",
    "    \"\"\"\n",
    "    Converts a list of event graphs to PyTorch Geometric-compatible Data objects.\n",
    "    Also adds the graph-level features 'jet_multiplicity', 'inv_mass' and event labels.\n",
    "\n",
    "    Parameters:\n",
    "    -----------\n",
    "    graphs : list of dicts\n",
    "        List containing dictionaries with node, edge information for each event.\n",
    "    dataframe : pd.DataFrame\n",
    "        DataFrame containing the event-level features like 'jet_multiplicity', 'inv_mass', and 'label'.\n",
    "\n",
    "    Returns:\n",
    "    --------\n",
    "    pyg_graphs : list of Data\n",
    "        List of PyTorch Geometric Data objects with added graph-level features and labels.\n",
    "    \"\"\"\n",
    "    pyg_graphs = []\n",
    "    for i, graph in enumerate(graphs):\n",
    "        # Extract jet_multiplicity, inv_mass and event label for each event\n",
    "        jet_multiplicity = dataframe.loc[i, 'jet_multiplicity']\n",
    "        inv_mass = dataframe.loc[i, 'inv_mass']\n",
    "        deltaR_jet12 = dataframe.loc[i, 'deltaR_jet12']\n",
    "        label = dataframe.loc[i, 'label']  # 0 for background, 1 for signal\n",
    "\n",
    "        # Convert to PyTorch Geometric Data object\n",
    "        data = convert_to_pyg_graph(graph, jet_multiplicity, inv_mass, deltaR_jet12, label)\n",
    "        pyg_graphs.append(data)\n",
    "\n",
    "    return pyg_graphs\n",
    "\n",
    "\n",
    "signal_pyg_graphs = convert_all_to_pyg_graphs(signal_graphs, signal)\n",
    "background_pyg_graphs = convert_all_to_pyg_graphs(background_graphs, background)"
   ]
  },
  {
   "cell_type": "code",
   "execution_count": null,
   "id": "ccabe211-d0c4-4e47-8a66-461acb044a36",
   "metadata": {},
   "outputs": [],
   "source": [
    "dataset = signal_pyg_graphs + background_pyg_graphs\n",
    "dataset = random.sample(dataset, len(dataset))"
   ]
  },
  {
   "cell_type": "code",
   "execution_count": null,
   "id": "70811e95-7696-4157-9b26-b5f32410a306",
   "metadata": {},
   "outputs": [],
   "source": [
    "dataset[2000]"
   ]
  },
  {
   "cell_type": "markdown",
   "id": "ebfdbe2b-41cc-4d00-bd30-5a0c33afa636",
   "metadata": {},
   "source": [
    "# Train-Test Splits"
   ]
  },
  {
   "cell_type": "code",
   "execution_count": null,
   "id": "28616614-1e2f-438f-85cb-67662ecbf33b",
   "metadata": {},
   "outputs": [],
   "source": [
    "num_graphs = len(dataset)\n",
    "train_ratio, test_ratio = 0.7, 0.3\n",
    "train_size = int(train_ratio * num_graphs)\n",
    "test_size = num_graphs - train_size\n",
    "\n",
    "# Random split\n",
    "train_dataset, test_dataset = torch.utils.data.random_split(\n",
    "    dataset, [train_size, test_size], generator=torch.Generator().manual_seed(seed)\n",
    ")\n",
    "\n",
    "train_loader = DataLoader(train_dataset, batch_size=BATCH_SIZE, shuffle=True)\n",
    "test_loader = DataLoader(test_dataset, batch_size=BATCH_SIZE, shuffle=False)\n"
   ]
  },
  {
   "cell_type": "code",
   "execution_count": null,
   "id": "197f1c26-dd24-4368-9e4f-54f53faab1c8",
   "metadata": {},
   "outputs": [],
   "source": [
    "len(train_loader)"
   ]
  },
  {
   "cell_type": "code",
   "execution_count": null,
   "id": "519cfaf6-9f58-4e6a-a2ab-a488a50a5adc",
   "metadata": {},
   "outputs": [],
   "source": [
    "len(dataset)"
   ]
  },
  {
   "cell_type": "code",
   "execution_count": null,
   "id": "35422fff-52ba-4cf4-a1c8-62919e7acf35",
   "metadata": {},
   "outputs": [],
   "source": []
  },
  {
   "cell_type": "markdown",
   "id": "4d5399e4-7f95-41e4-a630-4a225a988772",
   "metadata": {},
   "source": [
    "# Graph Visualization"
   ]
  },
  {
   "cell_type": "code",
   "execution_count": null,
   "id": "7e3151d8-0af4-4776-b9c1-e8f7b013f8dd",
   "metadata": {},
   "outputs": [],
   "source": [
    "def visualize_graph(data, title):\n",
    "    \"\"\"\n",
    "    Visualize a graph using networkx and matplotlib.\n",
    "    \n",
    "    Parameters:\n",
    "    -----------\n",
    "    data : Data\n",
    "        A PyTorch Geometric Data object containing the graph to be visualized.\n",
    "    \"\"\"\n",
    "    G = to_networkx(data, to_undirected=True, edge_attrs=[\"edge_attr\"])\n",
    "\n",
    "    \n",
    "    plt.figure(figsize=(5, 3))\n",
    "    \n",
    "    pos = nx.spring_layout(G)  # Layout for positioning nodes\n",
    "    nx.draw(G, pos, with_labels=True, node_size=300, node_color='skyblue', font_size=10, font_weight='bold', edge_color='gray')\n",
    "\n",
    "    edge_labels = nx.get_edge_attributes(G, 'edge_attr')\n",
    "    nx.draw_networkx_edge_labels(G, pos, edge_labels=edge_labels)\n",
    "\n",
    "    plt.title(title)\n",
    "    plt.show()\n",
    "\n",
    "\n",
    "visualize_graph(signal_pyg_graphs[0], 'Signal')\n",
    "visualize_graph(background_pyg_graphs[0], 'Background')"
   ]
  },
  {
   "cell_type": "markdown",
   "id": "b92fb578-fe2f-4d2d-8223-a33108b08c9b",
   "metadata": {},
   "source": [
    "## Model 4 Best"
   ]
  },
  {
   "cell_type": "code",
   "execution_count": null,
   "id": "8e6c012f-c1e8-4ec5-bfda-1ae63af108ca",
   "metadata": {},
   "outputs": [],
   "source": [
    "class GCNClassifier(torch.nn.Module):\n",
    "    def __init__(self, num_node_features, num_edge_features, hidden_dim, num_graph_features, num_hidden_graph_features):\n",
    "        \"\"\"\n",
    "        GCN architecture for graph classification.\n",
    "\n",
    "        Parameters:\n",
    "        -----------\n",
    "        num_node_features : int\n",
    "            Number of features for each node.\n",
    "        hidden_dim : int\n",
    "            Dimension of the hidden layer embeddings.\n",
    "        num_graph_features : int\n",
    "            Number of additional graph-level features.\n",
    "        \"\"\"\n",
    "        super(GCNClassifier, self).__init__()\n",
    "\n",
    "        self.classify = torch.nn.Sequential(\n",
    "            torch.nn.Linear(hidden_dim + num_hidden_graph_features, 64),\n",
    "            torch.nn.ReLU(),\n",
    "            torch.nn.Dropout(p=0.5),\n",
    "            torch.nn.Linear(64, 1)\n",
    "        )\n",
    "\n",
    "        self.graph_features_nn = torch.nn.Sequential(\n",
    "            torch.nn.Linear(num_graph_features, 16),\n",
    "            torch.nn.ReLU(),\n",
    "            torch.nn.Dropout(p=0.7),\n",
    "            torch.nn.Linear(16, num_hidden_graph_features)\n",
    "        )\n",
    "\n",
    "\n",
    "        ############### Model 4 - Best\n",
    "        self.lin0 = torch.nn.Linear(num_node_features, hidden_dim)\n",
    "        self.edge_nn = torch.nn.Sequential(\n",
    "            torch.nn.Linear(num_edge_features, 16),\n",
    "             torch.nn.ReLU(),\n",
    "             torch.nn.Linear(16, hidden_dim * hidden_dim)\n",
    "        )\n",
    "        \n",
    "        self.conv2 = NNConv(hidden_dim, hidden_dim, nn = self.edge_nn, aggr='max')\n",
    "        self.global_mean_pool_hook = global_mean_pool\n",
    "        \n",
    "\n",
    "    def forward(self, data):\n",
    "        \"\"\"\n",
    "        Forward pass of the GCN model.\n",
    "\n",
    "        Parameters:\n",
    "        -----------\n",
    "        data : Data\n",
    "            PyTorch Geometric Data object containing graph and its features.\n",
    "\n",
    "        Returns:\n",
    "        --------\n",
    "        out : torch.Tensor\n",
    "            Predicted probabilities for the graph labels.\n",
    "        \"\"\"\n",
    "        x, edge_index, edge_attr = data.x, data.edge_index, data.edge_attr\n",
    "        \n",
    "        # GCN layers\n",
    "        x = F.relu(self.lin0(x))\n",
    "        x = F.relu(self.conv2(x, edge_index, edge_attr))\n",
    "        \n",
    "        x = self.global_mean_pool_hook(x, data.batch)  # Shape: (batch_size, hidden_dim)\n",
    "        self.global_embedding = x\n",
    "\n",
    "        graph_features = torch.cat([data.jet_multiplicity.view(-1, 1), data.inv_mass.view(-1, 1)], dim=1)\n",
    "        x = torch.cat([x, self.graph_features_nn(graph_features)], dim=1)\n",
    "        \n",
    "        # Fully connected layers\n",
    "        x = self.classify(x)\n",
    "        x = torch.sigmoid(x) \n",
    "\n",
    "        return x\n"
   ]
  },
  {
   "cell_type": "markdown",
   "id": "3810e7dc-1c15-4e64-9c72-b1aa4a600b65",
   "metadata": {},
   "source": [
    "# Training and Evaluation Routines"
   ]
  },
  {
   "cell_type": "code",
   "execution_count": null,
   "id": "5db33bb2-bb4c-4505-a592-2fb381f76989",
   "metadata": {},
   "outputs": [],
   "source": [
    "def train(model, loader):\n",
    "    model.train()\n",
    "    total_loss = 0\n",
    "    for data in loader:\n",
    "        data = data.to(device)\n",
    "        optimizer.zero_grad()\n",
    "        out = model(data).squeeze()\n",
    "        loss = criterion(out, data.y.float())\n",
    "        loss.backward()\n",
    "        optimizer.step()\n",
    "        total_loss += loss.item()\n",
    "    return total_loss / len(loader)\n",
    "\n",
    "# Evaluation loop\n",
    "def test(model, loader):\n",
    "    model.eval()\n",
    "    correct = 0\n",
    "    for data in loader:\n",
    "        data = data.to(device)\n",
    "        out = model(data).squeeze()\n",
    "        pred = (out > 0.5).float()\n",
    "        correct += (pred == data.y).sum().item()\n",
    "    return correct / len(loader.dataset)"
   ]
  },
  {
   "cell_type": "markdown",
   "id": "7dec198e-b862-4aa4-8a44-80f3331bcf56",
   "metadata": {},
   "source": [
    "## Network Training"
   ]
  },
  {
   "cell_type": "code",
   "execution_count": null,
   "id": "1330648f-dc45-4d62-831c-8a0ecc8c93ba",
   "metadata": {},
   "outputs": [],
   "source": [
    "model = GCNClassifier(num_node_features=6, num_edge_features = 1, hidden_dim=49, num_graph_features=2, num_hidden_graph_features = 1)\n",
    "optimizer = optim.Adam(model.parameters(), lr=0.001, weight_decay=1e-4, amsgrad = False)\n",
    "criterion = torch.nn.BCELoss()\n",
    "\n",
    "EPOCHS = 250\n",
    "training_loss = []\n",
    "test_accuracy = []\n",
    "\n",
    "with tqdm(total=EPOCHS, desc=\"Training Progress\", leave=True) as pbar:\n",
    "    for epoch in range(EPOCHS):\n",
    "        loss = train(model, train_loader)\n",
    "        acc = test(model, test_loader)\n",
    "        training_loss.append(loss)\n",
    "        test_accuracy.append(acc)\n",
    "\n",
    "        pbar.set_postfix({'Loss': f'{loss:.4f}', 'Accuracy': f'{acc:.4f}'})\n",
    "        pbar.update(1)"
   ]
  },
  {
   "cell_type": "code",
   "execution_count": null,
   "id": "3dea67e2-c77c-442a-9b61-af5f6c49bc5a",
   "metadata": {},
   "outputs": [],
   "source": [
    "plt.plot([epoch for epoch in range(EPOCHS)], training_loss, label = 'Training Loss')\n",
    "plt.plot([epoch for epoch in range(EPOCHS)], test_accuracy, color = 'g', label = 'Test Accuracy')\n",
    "plt.legend()\n",
    "plt.title('Evaluation Metrices')\n",
    "plt.xlabel('Epochs')\n",
    "plt.grid(which = 'both')\n",
    "#plt.savefig('94auc.png', dpi=200)\n",
    "plt.show()\n",
    "\n",
    "y_true = []\n",
    "y_pred_prob = []\n",
    "for _, graph in enumerate(dataset):\n",
    "    y_true.append(graph.y.numpy()[0])\n",
    "    out = model(graph).squeeze().detach().numpy()\n",
    "    y_pred_prob.append(float(out))\n",
    "y_true, y_pred_prob = np.array(y_true), np.array(y_pred_prob)\n",
    "y_pred_labels = (y_pred_prob > 0.5)"
   ]
  },
  {
   "cell_type": "code",
   "execution_count": null,
   "id": "41ca7b9d-c48a-439d-badb-35d94d5f7924",
   "metadata": {},
   "outputs": [],
   "source": [
    "from helper_function_module import eval_model\n",
    "eval_model(y_true, y_pred_prob, y_pred_labels)"
   ]
  },
  {
   "cell_type": "code",
   "execution_count": null,
   "id": "15a41a56-cf12-4ea6-b0c0-f8055fadd5de",
   "metadata": {},
   "outputs": [],
   "source": [
    "# np.save('NNConv_main_model', np.vstack((y_true, y_pred_prob)))\n",
    "# torch.save(model, 'NNConv_main_model.pth')"
   ]
  },
  {
   "cell_type": "code",
   "execution_count": null,
   "id": "87d62ff1-124e-47b8-a2d1-8dedb8073753",
   "metadata": {},
   "outputs": [],
   "source": []
  },
  {
   "cell_type": "code",
   "execution_count": null,
   "id": "5397f7b9-ee1c-47c2-be52-b208f7c604b5",
   "metadata": {},
   "outputs": [],
   "source": []
  },
  {
   "cell_type": "code",
   "execution_count": null,
   "id": "be128b6c-99d2-4218-9840-c9444c694010",
   "metadata": {},
   "outputs": [],
   "source": []
  },
  {
   "cell_type": "code",
   "execution_count": null,
   "id": "77fb7a26-f370-4f95-b6c0-d9da14997d04",
   "metadata": {},
   "outputs": [],
   "source": []
  },
  {
   "cell_type": "code",
   "execution_count": null,
   "id": "0213b525-5f05-40ab-9413-fbf46c17bd6a",
   "metadata": {},
   "outputs": [],
   "source": []
  },
  {
   "cell_type": "code",
   "execution_count": null,
   "id": "945d14e1-3c76-4ebd-9104-a68ab5ee9ac2",
   "metadata": {},
   "outputs": [],
   "source": []
  },
  {
   "cell_type": "code",
   "execution_count": null,
   "id": "a85fd10f-54b3-4e05-9f5b-2c85045607ae",
   "metadata": {},
   "outputs": [],
   "source": []
  },
  {
   "cell_type": "code",
   "execution_count": null,
   "id": "3923252e-5ae2-46e6-9345-c1c736c29b32",
   "metadata": {},
   "outputs": [],
   "source": []
  },
  {
   "cell_type": "markdown",
   "id": "87c20d16-ceeb-4be9-ab09-d9418f595ca1",
   "metadata": {},
   "source": [
    "# Extracting Graph Embedding from the Model"
   ]
  },
  {
   "cell_type": "code",
   "execution_count": null,
   "id": "1d0432f4-b8a8-4d98-8510-4af5d7b0ae16",
   "metadata": {},
   "outputs": [],
   "source": [
    "def get_graph_embeddings():\n",
    "    graph_embeddings = []\n",
    "    def hook_fn(module, input, output):\n",
    "        graph_embeddings.append(module.global_embedding.detach().cpu())\n",
    "        \n",
    "    \n",
    "    model = GCNClassifier(num_node_features=6, num_edge_features=1, hidden_dim=49, \n",
    "                          num_graph_features=2, num_hidden_graph_features=1)\n",
    "    \n",
    "    handle = model.register_forward_hook(hook_fn)\n",
    "    \n",
    "    dataset_loader = DataLoader(dataset, batch_size=BATCH_SIZE, shuffle=False)\n",
    "    model.eval()\n",
    "    y_true_label = []\n",
    "    y_pred_proba = []\n",
    "    with torch.no_grad():\n",
    "        for data in dataset_loader:\n",
    "            y_true_label.extend(data.y.numpy())\n",
    "            out = model(data)\n",
    "            y_pred_proba.extend(out.numpy())\n",
    "    \n",
    "    handle.remove()\n",
    "    graph_embedding_temp = []\n",
    "    for tensor in graph_embeddings:\n",
    "        graph_embedding_temp.extend(tensor.numpy())\n",
    "\n",
    "    graph_embedding_temp = np.array(graph_embedding_temp).reshape((2415, 49))\n",
    "    embedding_df = pd.DataFrame(graph_embedding_temp)\n",
    "    embedding_df['true_label'] = y_true_label\n",
    "    embedding_df['pred_prob'] = y_pred_proba\n",
    "    embedding_df['pred_prob'] = embedding_df['pred_prob'].astype(float)\n",
    "\n",
    "    return embedding_df"
   ]
  },
  {
   "cell_type": "code",
   "execution_count": null,
   "id": "55fe9543-7b83-447d-a3e6-c05b0778519d",
   "metadata": {},
   "outputs": [],
   "source": [
    "# embedding_df = get_graph_embeddings()"
   ]
  },
  {
   "cell_type": "code",
   "execution_count": null,
   "id": "d9e42ccf-4c22-40b4-93f3-47f123427481",
   "metadata": {},
   "outputs": [],
   "source": []
  }
 ],
 "metadata": {
  "kernelspec": {
   "display_name": "Python 3",
   "language": "python",
   "name": "python3"
  },
  "language_info": {
   "codemirror_mode": {
    "name": "ipython",
    "version": 3
   },
   "file_extension": ".py",
   "mimetype": "text/x-python",
   "name": "python",
   "nbconvert_exporter": "python",
   "pygments_lexer": "ipython3",
   "version": "3.10.10"
  }
 },
 "nbformat": 4,
 "nbformat_minor": 5
}
