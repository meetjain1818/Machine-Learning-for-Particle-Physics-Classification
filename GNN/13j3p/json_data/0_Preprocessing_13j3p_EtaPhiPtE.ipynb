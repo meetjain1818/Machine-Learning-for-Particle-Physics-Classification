{
 "cells": [
  {
   "cell_type": "code",
   "execution_count": 1,
   "id": "bd4d395f-6b15-4304-8ea0-64716048ec56",
   "metadata": {},
   "outputs": [],
   "source": [
    "import numpy as np\n",
    "import matplotlib.pyplot as plt\n",
    "import pandas as pd\n",
    "import random\n",
    "from tqdm import tqdm\n",
    "import json "
   ]
  },
  {
   "cell_type": "markdown",
   "id": "b2565f1d-0b84-454e-98a2-7abfda3e9873",
   "metadata": {},
   "source": [
    "# Importing the Main tabular data"
   ]
  },
  {
   "cell_type": "code",
   "execution_count": 2,
   "id": "264f3914-d729-4a94-876e-28b304579cb9",
   "metadata": {},
   "outputs": [],
   "source": [
    "signal = pd.read_csv('/teamspace/studios/this_studio/GNN/data/sig_200k_minpt20_13jets_processed.txt', sep = '\\t')\n",
    "background = pd.read_csv('/teamspace/studios/this_studio/GNN/data/bg_500k_minpt20_13jets_processed.txt', sep = '\\t')"
   ]
  },
  {
   "cell_type": "code",
   "execution_count": 3,
   "id": "1a4c623a-fa64-4647-91dc-dd27da4bd0e5",
   "metadata": {},
   "outputs": [],
   "source": [
    "signal = signal.drop(['Unnamed: 0'], axis = 1)\n",
    "background = background.drop(['Unnamed: 0'], axis = 1)"
   ]
  },
  {
   "cell_type": "code",
   "execution_count": 4,
   "id": "31aebbdb-761e-4bf2-9a07-2039720a0ba2",
   "metadata": {},
   "outputs": [],
   "source": [
    "#Adding Labels in the DataFrame\n",
    "signal['label'] = 1\n",
    "background['label'] = 0"
   ]
  },
  {
   "cell_type": "code",
   "execution_count": 5,
   "id": "dd1d716a-76f6-477b-9acf-0d4f997e91f4",
   "metadata": {},
   "outputs": [
    {
     "name": "stdout",
     "output_type": "stream",
     "text": [
      "['eventno', 'jetmultiplicity', 'jet1_Eta', 'jet1_Phi', 'jet1_pT', 'jet1_Px', 'jet1_Py', 'jet1_Pz', 'jet1_E', 'jet1_btag', 'jet2_Eta', 'jet2_Phi', 'jet2_pT', 'jet2_Px', 'jet2_Py', 'jet2_Pz', 'jet2_E', 'jet2_btag', 'jet3_Eta', 'jet3_Phi', 'jet3_pT', 'jet3_Px', 'jet3_Py', 'jet3_Pz', 'jet3_E', 'jet3_btag', 'jet4_Eta', 'jet4_Phi', 'jet4_pT', 'jet4_Px', 'jet4_Py', 'jet4_Pz', 'jet4_E', 'jet4_btag', 'jet5_Eta', 'jet5_Phi', 'jet5_pT', 'jet5_Px', 'jet5_Py', 'jet5_Pz', 'jet5_E', 'jet5_btag', 'jet6_Eta', 'jet6_Phi', 'jet6_pT', 'jet6_Px', 'jet6_Py', 'jet6_Pz', 'jet6_E', 'jet6_btag', 'jet7_Eta', 'jet7_Phi', 'jet7_pT', 'jet7_Px', 'jet7_Py', 'jet7_Pz', 'jet7_E', 'jet7_btag', 'jet8_Eta', 'jet8_Phi', 'jet8_pT', 'jet8_Px', 'jet8_Py', 'jet8_Pz', 'jet8_E', 'jet8_btag', 'jet9_Eta', 'jet9_Phi', 'jet9_pT', 'jet9_Px', 'jet9_Py', 'jet9_Pz', 'jet9_E', 'jet9_btag', 'jet10_Eta', 'jet10_Phi', 'jet10_pT', 'jet10_Px', 'jet10_Py', 'jet10_Pz', 'jet10_E', 'jet10_btag', 'jet11_Eta', 'jet11_Phi', 'jet11_pT', 'jet11_Px', 'jet11_Py', 'jet11_Pz', 'jet11_E', 'jet11_btag', 'jet12_Eta', 'jet12_Phi', 'jet12_pT', 'jet12_Px', 'jet12_Py', 'jet12_Pz', 'jet12_E', 'jet12_btag', 'jet13_Eta', 'jet13_Phi', 'jet13_pT', 'jet13_Px', 'jet13_Py', 'jet13_Pz', 'jet13_E', 'jet13_btag', 'isophotoncount', 'isophoton1_Eta', 'isophoton1_Phi', 'isophoton1_pT', 'isophoton1_Px', 'isophoton1_Py', 'isophoton1_Pz', 'isophoton1_E', 'isophoton2_Eta', 'isophoton2_Phi', 'isophoton2_pT', 'isophoton2_Px', 'isophoton2_Py', 'isophoton2_Pz', 'isophoton2_E', 'isophoton3_Eta', 'isophoton3_Phi', 'isophoton3_pT', 'isophoton3_Px', 'isophoton3_Py', 'isophoton3_Pz', 'isophoton3_E', 'label']\n"
     ]
    }
   ],
   "source": [
    "print(list(signal.columns))"
   ]
  },
  {
   "cell_type": "code",
   "execution_count": 6,
   "id": "0f92caa9-c6f3-4ab8-8183-2d6f5f0436f9",
   "metadata": {},
   "outputs": [
    {
     "name": "stdout",
     "output_type": "stream",
     "text": [
      "['eventno', 'jetmultiplicity', 'jet1_Eta', 'jet1_Phi', 'jet1_pT', 'jet1_Px', 'jet1_Py', 'jet1_Pz', 'jet1_E', 'jet1_btag', 'jet2_Eta', 'jet2_Phi', 'jet2_pT', 'jet2_Px', 'jet2_Py', 'jet2_Pz', 'jet2_E', 'jet2_btag', 'jet3_Eta', 'jet3_Phi', 'jet3_pT', 'jet3_Px', 'jet3_Py', 'jet3_Pz', 'jet3_E', 'jet3_btag', 'jet4_Eta', 'jet4_Phi', 'jet4_pT', 'jet4_Px', 'jet4_Py', 'jet4_Pz', 'jet4_E', 'jet4_btag', 'jet5_Eta', 'jet5_Phi', 'jet5_pT', 'jet5_Px', 'jet5_Py', 'jet5_Pz', 'jet5_E', 'jet5_btag', 'jet6_Eta', 'jet6_Phi', 'jet6_pT', 'jet6_Px', 'jet6_Py', 'jet6_Pz', 'jet6_E', 'jet6_btag', 'jet7_Eta', 'jet7_Phi', 'jet7_pT', 'jet7_Px', 'jet7_Py', 'jet7_Pz', 'jet7_E', 'jet7_btag', 'jet8_Eta', 'jet8_Phi', 'jet8_pT', 'jet8_Px', 'jet8_Py', 'jet8_Pz', 'jet8_E', 'jet8_btag', 'jet9_Eta', 'jet9_Phi', 'jet9_pT', 'jet9_Px', 'jet9_Py', 'jet9_Pz', 'jet9_E', 'jet9_btag', 'jet10_Eta', 'jet10_Phi', 'jet10_pT', 'jet10_Px', 'jet10_Py', 'jet10_Pz', 'jet10_E', 'jet10_btag', 'jet11_Eta', 'jet11_Phi', 'jet11_pT', 'jet11_Px', 'jet11_Py', 'jet11_Pz', 'jet11_E', 'jet11_btag', 'jet12_Eta', 'jet12_Phi', 'jet12_pT', 'jet12_Px', 'jet12_Py', 'jet12_Pz', 'jet12_E', 'jet12_btag', 'jet13_Eta', 'jet13_Phi', 'jet13_pT', 'jet13_Px', 'jet13_Py', 'jet13_Pz', 'jet13_E', 'jet13_btag', 'isophotoncount', 'isophoton1_Eta', 'isophoton1_Phi', 'isophoton1_pT', 'isophoton1_Px', 'isophoton1_Py', 'isophoton1_Pz', 'isophoton1_E', 'isophoton2_Eta', 'isophoton2_Phi', 'isophoton2_pT', 'isophoton2_Px', 'isophoton2_Py', 'isophoton2_Pz', 'isophoton2_E', 'isophoton3_Eta', 'isophoton3_Phi', 'isophoton3_pT', 'isophoton3_Px', 'isophoton3_Py', 'isophoton3_Pz', 'isophoton3_E', 'label']\n"
     ]
    }
   ],
   "source": [
    "print(list(background.columns))"
   ]
  },
  {
   "cell_type": "code",
   "execution_count": 7,
   "id": "f1c32613-e1b5-481d-acb9-79874047d821",
   "metadata": {},
   "outputs": [
    {
     "data": {
      "text/html": [
       "<div>\n",
       "<style scoped>\n",
       "    .dataframe tbody tr th:only-of-type {\n",
       "        vertical-align: middle;\n",
       "    }\n",
       "\n",
       "    .dataframe tbody tr th {\n",
       "        vertical-align: top;\n",
       "    }\n",
       "\n",
       "    .dataframe thead th {\n",
       "        text-align: right;\n",
       "    }\n",
       "</style>\n",
       "<table border=\"1\" class=\"dataframe\">\n",
       "  <thead>\n",
       "    <tr style=\"text-align: right;\">\n",
       "      <th></th>\n",
       "      <th>eventno</th>\n",
       "      <th>jetmultiplicity</th>\n",
       "      <th>jet1_Eta</th>\n",
       "      <th>jet1_Phi</th>\n",
       "      <th>jet1_pT</th>\n",
       "      <th>jet1_Px</th>\n",
       "      <th>jet1_Py</th>\n",
       "      <th>jet1_Pz</th>\n",
       "      <th>jet1_E</th>\n",
       "      <th>jet1_btag</th>\n",
       "      <th>...</th>\n",
       "      <th>isophoton2_Pz</th>\n",
       "      <th>isophoton2_E</th>\n",
       "      <th>isophoton3_Eta</th>\n",
       "      <th>isophoton3_Phi</th>\n",
       "      <th>isophoton3_pT</th>\n",
       "      <th>isophoton3_Px</th>\n",
       "      <th>isophoton3_Py</th>\n",
       "      <th>isophoton3_Pz</th>\n",
       "      <th>isophoton3_E</th>\n",
       "      <th>label</th>\n",
       "    </tr>\n",
       "  </thead>\n",
       "  <tbody>\n",
       "    <tr>\n",
       "      <th>58</th>\n",
       "      <td>102</td>\n",
       "      <td>2</td>\n",
       "      <td>0.028275</td>\n",
       "      <td>0.535999</td>\n",
       "      <td>42.7644</td>\n",
       "      <td>36.7671</td>\n",
       "      <td>21.8398</td>\n",
       "      <td>1.2093</td>\n",
       "      <td>42.7815</td>\n",
       "      <td>0</td>\n",
       "      <td>...</td>\n",
       "      <td>0.0</td>\n",
       "      <td>0.0</td>\n",
       "      <td>0.0</td>\n",
       "      <td>0.0</td>\n",
       "      <td>0.0</td>\n",
       "      <td>0.0</td>\n",
       "      <td>0.0</td>\n",
       "      <td>0.0</td>\n",
       "      <td>0.0</td>\n",
       "      <td>1</td>\n",
       "    </tr>\n",
       "  </tbody>\n",
       "</table>\n",
       "<p>1 rows × 129 columns</p>\n",
       "</div>"
      ],
      "text/plain": [
       "    eventno  jetmultiplicity  jet1_Eta  jet1_Phi  jet1_pT  jet1_Px  jet1_Py  \\\n",
       "58      102                2  0.028275  0.535999  42.7644  36.7671  21.8398   \n",
       "\n",
       "    jet1_Pz   jet1_E  jet1_btag  ...  isophoton2_Pz  isophoton2_E  \\\n",
       "58   1.2093  42.7815          0  ...            0.0           0.0   \n",
       "\n",
       "    isophoton3_Eta  isophoton3_Phi  isophoton3_pT  isophoton3_Px  \\\n",
       "58             0.0             0.0            0.0            0.0   \n",
       "\n",
       "    isophoton3_Py  isophoton3_Pz  isophoton3_E  label  \n",
       "58            0.0            0.0           0.0      1  \n",
       "\n",
       "[1 rows x 129 columns]"
      ]
     },
     "execution_count": 7,
     "metadata": {},
     "output_type": "execute_result"
    }
   ],
   "source": [
    "signal[signal.eventno == 102]"
   ]
  },
  {
   "cell_type": "markdown",
   "id": "9fb727ff-6369-4344-a5c3-a79026f26b7e",
   "metadata": {},
   "source": [
    "# Aggregating Node Features"
   ]
  },
  {
   "cell_type": "code",
   "execution_count": 11,
   "id": "b783a8be-ebcb-402d-adf0-beff5037c5a5",
   "metadata": {},
   "outputs": [],
   "source": [
    "def get_node_features(x:pd.DataFrame,*, cols = ['Eta', 'Phi', 'pT', 'E'], num_isophoton_cols = None, num_jets_cols = None) -> list[np.array]:\n",
    "    \"\"\"\n",
    "    Extracts node features for isophotons and the jets from a DataFrame\n",
    "    and returns a list of node features for all events.\n",
    "\n",
    "    Parameters:\n",
    "    -----------\n",
    "    x : pd.DataFrame\n",
    "        Input DataFrame with columns containing features for each object in the event.\n",
    "\n",
    "    Returns:\n",
    "    --------\n",
    "    list_of_node_features : list of lists\n",
    "        Each element in the list is a 2D list of shape (<num_jets>, num_features) \n",
    "        containing node features for isophoton, jet1, and jet2.\n",
    "    \"\"\"\n",
    "    if ((num_isophoton_cols is not None) & (num_jets_cols is not None)):\n",
    "        list_of_node_features = []\n",
    "        list_of_node_labels = []\n",
    "        print('Initializing the Process...')\n",
    "        \n",
    "        with tqdm(total=len(x), desc=\"Progress\", leave=True) as pbar:\n",
    "            for _, event in x.iterrows():\n",
    "                event_node_features = []\n",
    "                event_node_labels = []\n",
    "                for isophoton_idx in range(1,num_isophoton_cols + 1):\n",
    "                    isophoton_features =  event[[('isophoton' + str(isophoton_idx) + '_' + feature) for feature in cols]].values\n",
    "                    if np.sum(np.abs(isophoton_features)) > 0 :\n",
    "                        event_node_features.append(isophoton_features.tolist())\n",
    "                        event_node_labels.append(0)\n",
    "                # if not event_node_features:\n",
    "                #     event_node_features.append(np.zeros(4))\n",
    "                #     event_node_labels.append(-1)\n",
    "        \n",
    "                for jet_idx in range(1, num_jets_cols + 1):\n",
    "                    jet_features = event[[('jet' + str(jet_idx) + '_' + feature) for feature in cols]].values\n",
    "                    if (np.sum(np.abs(jet_features)) > 0) & (event[['jet' + str(jet_idx) + '_' + 'btag']].values == 1) :\n",
    "                        event_node_features.append(jet_features.tolist())\n",
    "                        event_node_labels.append(1)\n",
    "                \n",
    "                list_of_node_features.append(np.array(event_node_features))\n",
    "                list_of_node_labels.append(np.array(event_node_labels))\n",
    "                pbar.update(1)\n",
    "        print('Process Complemented :)')\n",
    "        return list_of_node_features, list_of_node_labels\n",
    "    else:\n",
    "        print('***num_isophoton_cols and num_jets_cols should not be None***')"
   ]
  },
  {
   "cell_type": "code",
   "execution_count": 12,
   "id": "191fda5d-4295-4c27-92a0-0998c7675f51",
   "metadata": {},
   "outputs": [
    {
     "name": "stdout",
     "output_type": "stream",
     "text": [
      "Initializing the Process...\n"
     ]
    },
    {
     "name": "stderr",
     "output_type": "stream",
     "text": [
      "Progress:  44%|████▍     | 53080/119966 [04:35<05:47, 192.62it/s]\n"
     ]
    },
    {
     "ename": "KeyboardInterrupt",
     "evalue": "",
     "output_type": "error",
     "traceback": [
      "\u001b[0;31m---------------------------------------------------------------------------\u001b[0m",
      "\u001b[0;31mKeyboardInterrupt\u001b[0m                         Traceback (most recent call last)",
      "Cell \u001b[0;32mIn[12], line 1\u001b[0m\n\u001b[0;32m----> 1\u001b[0m signal_node_features, signal_node_labels \u001b[38;5;241m=\u001b[39m \u001b[43mget_node_features\u001b[49m\u001b[43m(\u001b[49m\u001b[43msignal\u001b[49m\u001b[43m,\u001b[49m\u001b[43m \u001b[49m\u001b[43mnum_isophoton_cols\u001b[49m\u001b[43m \u001b[49m\u001b[38;5;241;43m=\u001b[39;49m\u001b[43m \u001b[49m\u001b[38;5;241;43m3\u001b[39;49m\u001b[43m,\u001b[49m\u001b[43m \u001b[49m\u001b[43mnum_jets_cols\u001b[49m\u001b[43m \u001b[49m\u001b[38;5;241;43m=\u001b[39;49m\u001b[43m \u001b[49m\u001b[38;5;241;43m13\u001b[39;49m\u001b[43m)\u001b[49m\n\u001b[1;32m      2\u001b[0m background_node_features, background_node_labels \u001b[38;5;241m=\u001b[39m get_node_features(background, num_isophoton_cols \u001b[38;5;241m=\u001b[39m \u001b[38;5;241m3\u001b[39m, num_jets_cols \u001b[38;5;241m=\u001b[39m \u001b[38;5;241m13\u001b[39m)\n",
      "Cell \u001b[0;32mIn[11], line 37\u001b[0m, in \u001b[0;36mget_node_features\u001b[0;34m(x, cols, num_isophoton_cols, num_jets_cols)\u001b[0m\n\u001b[1;32m     35\u001b[0m \u001b[38;5;28;01mfor\u001b[39;00m jet_idx \u001b[38;5;129;01min\u001b[39;00m \u001b[38;5;28mrange\u001b[39m(\u001b[38;5;241m1\u001b[39m, num_jets_cols \u001b[38;5;241m+\u001b[39m \u001b[38;5;241m1\u001b[39m):\n\u001b[1;32m     36\u001b[0m     jet_features \u001b[38;5;241m=\u001b[39m event[[(\u001b[38;5;124m'\u001b[39m\u001b[38;5;124mjet\u001b[39m\u001b[38;5;124m'\u001b[39m \u001b[38;5;241m+\u001b[39m \u001b[38;5;28mstr\u001b[39m(jet_idx) \u001b[38;5;241m+\u001b[39m \u001b[38;5;124m'\u001b[39m\u001b[38;5;124m_\u001b[39m\u001b[38;5;124m'\u001b[39m \u001b[38;5;241m+\u001b[39m feature) \u001b[38;5;28;01mfor\u001b[39;00m feature \u001b[38;5;129;01min\u001b[39;00m cols]]\u001b[38;5;241m.\u001b[39mvalues\n\u001b[0;32m---> 37\u001b[0m     \u001b[38;5;28;01mif\u001b[39;00m (np\u001b[38;5;241m.\u001b[39msum(np\u001b[38;5;241m.\u001b[39mabs(jet_features)) \u001b[38;5;241m>\u001b[39m \u001b[38;5;241m0\u001b[39m) \u001b[38;5;241m&\u001b[39m (\u001b[43mevent\u001b[49m\u001b[43m[\u001b[49m\u001b[43m[\u001b[49m\u001b[38;5;124;43m'\u001b[39;49m\u001b[38;5;124;43mjet\u001b[39;49m\u001b[38;5;124;43m'\u001b[39;49m\u001b[43m \u001b[49m\u001b[38;5;241;43m+\u001b[39;49m\u001b[43m \u001b[49m\u001b[38;5;28;43mstr\u001b[39;49m\u001b[43m(\u001b[49m\u001b[43mjet_idx\u001b[49m\u001b[43m)\u001b[49m\u001b[43m \u001b[49m\u001b[38;5;241;43m+\u001b[39;49m\u001b[43m \u001b[49m\u001b[38;5;124;43m'\u001b[39;49m\u001b[38;5;124;43m_\u001b[39;49m\u001b[38;5;124;43m'\u001b[39;49m\u001b[43m \u001b[49m\u001b[38;5;241;43m+\u001b[39;49m\u001b[43m \u001b[49m\u001b[38;5;124;43m'\u001b[39;49m\u001b[38;5;124;43mbtag\u001b[39;49m\u001b[38;5;124;43m'\u001b[39;49m\u001b[43m]\u001b[49m\u001b[43m]\u001b[49m\u001b[38;5;241m.\u001b[39mvalues \u001b[38;5;241m==\u001b[39m \u001b[38;5;241m1\u001b[39m) :\n\u001b[1;32m     38\u001b[0m         event_node_features\u001b[38;5;241m.\u001b[39mappend(jet_features\u001b[38;5;241m.\u001b[39mtolist())\n\u001b[1;32m     39\u001b[0m         event_node_labels\u001b[38;5;241m.\u001b[39mappend(\u001b[38;5;241m1\u001b[39m)\n",
      "File \u001b[0;32m/home/zeus/miniconda3/envs/cloudspace/lib/python3.10/site-packages/pandas/core/series.py:1072\u001b[0m, in \u001b[0;36mSeries.__getitem__\u001b[0;34m(self, key)\u001b[0m\n\u001b[1;32m   1069\u001b[0m     key \u001b[38;5;241m=\u001b[39m np\u001b[38;5;241m.\u001b[39masarray(key, dtype\u001b[38;5;241m=\u001b[39m\u001b[38;5;28mbool\u001b[39m)\n\u001b[1;32m   1070\u001b[0m     \u001b[38;5;28;01mreturn\u001b[39;00m \u001b[38;5;28mself\u001b[39m\u001b[38;5;241m.\u001b[39m_get_rows_with_mask(key)\n\u001b[0;32m-> 1072\u001b[0m \u001b[38;5;28;01mreturn\u001b[39;00m \u001b[38;5;28;43mself\u001b[39;49m\u001b[38;5;241;43m.\u001b[39;49m\u001b[43m_get_with\u001b[49m\u001b[43m(\u001b[49m\u001b[43mkey\u001b[49m\u001b[43m)\u001b[49m\n",
      "File \u001b[0;32m/home/zeus/miniconda3/envs/cloudspace/lib/python3.10/site-packages/pandas/core/series.py:1113\u001b[0m, in \u001b[0;36mSeries._get_with\u001b[0;34m(self, key)\u001b[0m\n\u001b[1;32m   1110\u001b[0m         \u001b[38;5;28;01mreturn\u001b[39;00m \u001b[38;5;28mself\u001b[39m\u001b[38;5;241m.\u001b[39miloc[key]\n\u001b[1;32m   1112\u001b[0m \u001b[38;5;66;03m# handle the dup indexing case GH#4246\u001b[39;00m\n\u001b[0;32m-> 1113\u001b[0m \u001b[38;5;28;01mreturn\u001b[39;00m \u001b[38;5;28;43mself\u001b[39;49m\u001b[38;5;241;43m.\u001b[39;49m\u001b[43mloc\u001b[49m\u001b[43m[\u001b[49m\u001b[43mkey\u001b[49m\u001b[43m]\u001b[49m\n",
      "File \u001b[0;32m/home/zeus/miniconda3/envs/cloudspace/lib/python3.10/site-packages/pandas/core/indexing.py:1153\u001b[0m, in \u001b[0;36m_LocationIndexer.__getitem__\u001b[0;34m(self, key)\u001b[0m\n\u001b[1;32m   1150\u001b[0m axis \u001b[38;5;241m=\u001b[39m \u001b[38;5;28mself\u001b[39m\u001b[38;5;241m.\u001b[39maxis \u001b[38;5;129;01mor\u001b[39;00m \u001b[38;5;241m0\u001b[39m\n\u001b[1;32m   1152\u001b[0m maybe_callable \u001b[38;5;241m=\u001b[39m com\u001b[38;5;241m.\u001b[39mapply_if_callable(key, \u001b[38;5;28mself\u001b[39m\u001b[38;5;241m.\u001b[39mobj)\n\u001b[0;32m-> 1153\u001b[0m \u001b[38;5;28;01mreturn\u001b[39;00m \u001b[38;5;28;43mself\u001b[39;49m\u001b[38;5;241;43m.\u001b[39;49m\u001b[43m_getitem_axis\u001b[49m\u001b[43m(\u001b[49m\u001b[43mmaybe_callable\u001b[49m\u001b[43m,\u001b[49m\u001b[43m \u001b[49m\u001b[43maxis\u001b[49m\u001b[38;5;241;43m=\u001b[39;49m\u001b[43maxis\u001b[49m\u001b[43m)\u001b[49m\n",
      "File \u001b[0;32m/home/zeus/miniconda3/envs/cloudspace/lib/python3.10/site-packages/pandas/core/indexing.py:1382\u001b[0m, in \u001b[0;36m_LocIndexer._getitem_axis\u001b[0;34m(self, key, axis)\u001b[0m\n\u001b[1;32m   1379\u001b[0m     \u001b[38;5;28;01mif\u001b[39;00m \u001b[38;5;28mhasattr\u001b[39m(key, \u001b[38;5;124m\"\u001b[39m\u001b[38;5;124mndim\u001b[39m\u001b[38;5;124m\"\u001b[39m) \u001b[38;5;129;01mand\u001b[39;00m key\u001b[38;5;241m.\u001b[39mndim \u001b[38;5;241m>\u001b[39m \u001b[38;5;241m1\u001b[39m:\n\u001b[1;32m   1380\u001b[0m         \u001b[38;5;28;01mraise\u001b[39;00m \u001b[38;5;167;01mValueError\u001b[39;00m(\u001b[38;5;124m\"\u001b[39m\u001b[38;5;124mCannot index with multidimensional key\u001b[39m\u001b[38;5;124m\"\u001b[39m)\n\u001b[0;32m-> 1382\u001b[0m     \u001b[38;5;28;01mreturn\u001b[39;00m \u001b[38;5;28;43mself\u001b[39;49m\u001b[38;5;241;43m.\u001b[39;49m\u001b[43m_getitem_iterable\u001b[49m\u001b[43m(\u001b[49m\u001b[43mkey\u001b[49m\u001b[43m,\u001b[49m\u001b[43m \u001b[49m\u001b[43maxis\u001b[49m\u001b[38;5;241;43m=\u001b[39;49m\u001b[43maxis\u001b[49m\u001b[43m)\u001b[49m\n\u001b[1;32m   1384\u001b[0m \u001b[38;5;66;03m# nested tuple slicing\u001b[39;00m\n\u001b[1;32m   1385\u001b[0m \u001b[38;5;28;01mif\u001b[39;00m is_nested_tuple(key, labels):\n",
      "File \u001b[0;32m/home/zeus/miniconda3/envs/cloudspace/lib/python3.10/site-packages/pandas/core/indexing.py:1322\u001b[0m, in \u001b[0;36m_LocIndexer._getitem_iterable\u001b[0;34m(self, key, axis)\u001b[0m\n\u001b[1;32m   1319\u001b[0m \u001b[38;5;28mself\u001b[39m\u001b[38;5;241m.\u001b[39m_validate_key(key, axis)\n\u001b[1;32m   1321\u001b[0m \u001b[38;5;66;03m# A collection of keys\u001b[39;00m\n\u001b[0;32m-> 1322\u001b[0m keyarr, indexer \u001b[38;5;241m=\u001b[39m \u001b[38;5;28;43mself\u001b[39;49m\u001b[38;5;241;43m.\u001b[39;49m\u001b[43m_get_listlike_indexer\u001b[49m\u001b[43m(\u001b[49m\u001b[43mkey\u001b[49m\u001b[43m,\u001b[49m\u001b[43m \u001b[49m\u001b[43maxis\u001b[49m\u001b[43m)\u001b[49m\n\u001b[1;32m   1323\u001b[0m \u001b[38;5;28;01mreturn\u001b[39;00m \u001b[38;5;28mself\u001b[39m\u001b[38;5;241m.\u001b[39mobj\u001b[38;5;241m.\u001b[39m_reindex_with_indexers(\n\u001b[1;32m   1324\u001b[0m     {axis: [keyarr, indexer]}, copy\u001b[38;5;241m=\u001b[39m\u001b[38;5;28;01mTrue\u001b[39;00m, allow_dups\u001b[38;5;241m=\u001b[39m\u001b[38;5;28;01mTrue\u001b[39;00m\n\u001b[1;32m   1325\u001b[0m )\n",
      "File \u001b[0;32m/home/zeus/miniconda3/envs/cloudspace/lib/python3.10/site-packages/pandas/core/indexing.py:1520\u001b[0m, in \u001b[0;36m_LocIndexer._get_listlike_indexer\u001b[0;34m(self, key, axis)\u001b[0m\n\u001b[1;32m   1517\u001b[0m ax \u001b[38;5;241m=\u001b[39m \u001b[38;5;28mself\u001b[39m\u001b[38;5;241m.\u001b[39mobj\u001b[38;5;241m.\u001b[39m_get_axis(axis)\n\u001b[1;32m   1518\u001b[0m axis_name \u001b[38;5;241m=\u001b[39m \u001b[38;5;28mself\u001b[39m\u001b[38;5;241m.\u001b[39mobj\u001b[38;5;241m.\u001b[39m_get_axis_name(axis)\n\u001b[0;32m-> 1520\u001b[0m keyarr, indexer \u001b[38;5;241m=\u001b[39m \u001b[43max\u001b[49m\u001b[38;5;241;43m.\u001b[39;49m\u001b[43m_get_indexer_strict\u001b[49m\u001b[43m(\u001b[49m\u001b[43mkey\u001b[49m\u001b[43m,\u001b[49m\u001b[43m \u001b[49m\u001b[43maxis_name\u001b[49m\u001b[43m)\u001b[49m\n\u001b[1;32m   1522\u001b[0m \u001b[38;5;28;01mreturn\u001b[39;00m keyarr, indexer\n",
      "File \u001b[0;32m/home/zeus/miniconda3/envs/cloudspace/lib/python3.10/site-packages/pandas/core/indexes/base.py:6110\u001b[0m, in \u001b[0;36mIndex._get_indexer_strict\u001b[0;34m(self, key, axis_name)\u001b[0m\n\u001b[1;32m   6107\u001b[0m     keyarr \u001b[38;5;241m=\u001b[39m com\u001b[38;5;241m.\u001b[39masarray_tuplesafe(keyarr)\n\u001b[1;32m   6109\u001b[0m \u001b[38;5;28;01mif\u001b[39;00m \u001b[38;5;28mself\u001b[39m\u001b[38;5;241m.\u001b[39m_index_as_unique:\n\u001b[0;32m-> 6110\u001b[0m     indexer \u001b[38;5;241m=\u001b[39m \u001b[38;5;28;43mself\u001b[39;49m\u001b[38;5;241;43m.\u001b[39;49m\u001b[43mget_indexer_for\u001b[49m\u001b[43m(\u001b[49m\u001b[43mkeyarr\u001b[49m\u001b[43m)\u001b[49m\n\u001b[1;32m   6111\u001b[0m     keyarr \u001b[38;5;241m=\u001b[39m \u001b[38;5;28mself\u001b[39m\u001b[38;5;241m.\u001b[39mreindex(keyarr)[\u001b[38;5;241m0\u001b[39m]\n\u001b[1;32m   6112\u001b[0m \u001b[38;5;28;01melse\u001b[39;00m:\n",
      "File \u001b[0;32m/home/zeus/miniconda3/envs/cloudspace/lib/python3.10/site-packages/pandas/core/indexes/base.py:6097\u001b[0m, in \u001b[0;36mIndex.get_indexer_for\u001b[0;34m(self, target)\u001b[0m\n\u001b[1;32m   6079\u001b[0m \u001b[38;5;250m\u001b[39m\u001b[38;5;124;03m\"\"\"\u001b[39;00m\n\u001b[1;32m   6080\u001b[0m \u001b[38;5;124;03mGuaranteed return of an indexer even when non-unique.\u001b[39;00m\n\u001b[1;32m   6081\u001b[0m \n\u001b[0;32m   (...)\u001b[0m\n\u001b[1;32m   6094\u001b[0m \u001b[38;5;124;03marray([0, 2])\u001b[39;00m\n\u001b[1;32m   6095\u001b[0m \u001b[38;5;124;03m\"\"\"\u001b[39;00m\n\u001b[1;32m   6096\u001b[0m \u001b[38;5;28;01mif\u001b[39;00m \u001b[38;5;28mself\u001b[39m\u001b[38;5;241m.\u001b[39m_index_as_unique:\n\u001b[0;32m-> 6097\u001b[0m     \u001b[38;5;28;01mreturn\u001b[39;00m \u001b[38;5;28;43mself\u001b[39;49m\u001b[38;5;241;43m.\u001b[39;49m\u001b[43mget_indexer\u001b[49m\u001b[43m(\u001b[49m\u001b[43mtarget\u001b[49m\u001b[43m)\u001b[49m\n\u001b[1;32m   6098\u001b[0m indexer, _ \u001b[38;5;241m=\u001b[39m \u001b[38;5;28mself\u001b[39m\u001b[38;5;241m.\u001b[39mget_indexer_non_unique(target)\n\u001b[1;32m   6099\u001b[0m \u001b[38;5;28;01mreturn\u001b[39;00m indexer\n",
      "File \u001b[0;32m/home/zeus/miniconda3/envs/cloudspace/lib/python3.10/site-packages/pandas/core/indexes/base.py:3870\u001b[0m, in \u001b[0;36mIndex.get_indexer\u001b[0;34m(self, target, method, limit, tolerance)\u001b[0m\n\u001b[1;32m   3868\u001b[0m method \u001b[38;5;241m=\u001b[39m clean_reindex_fill_method(method)\n\u001b[1;32m   3869\u001b[0m orig_target \u001b[38;5;241m=\u001b[39m target\n\u001b[0;32m-> 3870\u001b[0m target \u001b[38;5;241m=\u001b[39m \u001b[38;5;28;43mself\u001b[39;49m\u001b[38;5;241;43m.\u001b[39;49m\u001b[43m_maybe_cast_listlike_indexer\u001b[49m\u001b[43m(\u001b[49m\u001b[43mtarget\u001b[49m\u001b[43m)\u001b[49m\n\u001b[1;32m   3872\u001b[0m \u001b[38;5;28mself\u001b[39m\u001b[38;5;241m.\u001b[39m_check_indexing_method(method, limit, tolerance)\n\u001b[1;32m   3874\u001b[0m \u001b[38;5;28;01mif\u001b[39;00m \u001b[38;5;129;01mnot\u001b[39;00m \u001b[38;5;28mself\u001b[39m\u001b[38;5;241m.\u001b[39m_index_as_unique:\n",
      "File \u001b[0;32m/home/zeus/miniconda3/envs/cloudspace/lib/python3.10/site-packages/pandas/core/indexes/base.py:6623\u001b[0m, in \u001b[0;36mIndex._maybe_cast_listlike_indexer\u001b[0;34m(self, target)\u001b[0m\n\u001b[1;32m   6619\u001b[0m \u001b[38;5;28;01mdef\u001b[39;00m \u001b[38;5;21m_maybe_cast_listlike_indexer\u001b[39m(\u001b[38;5;28mself\u001b[39m, target) \u001b[38;5;241m-\u001b[39m\u001b[38;5;241m>\u001b[39m Index:\n\u001b[1;32m   6620\u001b[0m \u001b[38;5;250m    \u001b[39m\u001b[38;5;124;03m\"\"\"\u001b[39;00m\n\u001b[1;32m   6621\u001b[0m \u001b[38;5;124;03m    Analogue to maybe_cast_indexer for get_indexer instead of get_loc.\u001b[39;00m\n\u001b[1;32m   6622\u001b[0m \u001b[38;5;124;03m    \"\"\"\u001b[39;00m\n\u001b[0;32m-> 6623\u001b[0m     \u001b[38;5;28;01mreturn\u001b[39;00m \u001b[43mensure_index\u001b[49m\u001b[43m(\u001b[49m\u001b[43mtarget\u001b[49m\u001b[43m)\u001b[49m\n",
      "File \u001b[0;32m/home/zeus/miniconda3/envs/cloudspace/lib/python3.10/site-packages/pandas/core/indexes/base.py:7577\u001b[0m, in \u001b[0;36mensure_index\u001b[0;34m(index_like, copy)\u001b[0m\n\u001b[1;32m   7575\u001b[0m         \u001b[38;5;28;01mreturn\u001b[39;00m Index(index_like, copy\u001b[38;5;241m=\u001b[39mcopy, tupleize_cols\u001b[38;5;241m=\u001b[39m\u001b[38;5;28;01mFalse\u001b[39;00m)\n\u001b[1;32m   7576\u001b[0m \u001b[38;5;28;01melse\u001b[39;00m:\n\u001b[0;32m-> 7577\u001b[0m     \u001b[38;5;28;01mreturn\u001b[39;00m \u001b[43mIndex\u001b[49m\u001b[43m(\u001b[49m\u001b[43mindex_like\u001b[49m\u001b[43m,\u001b[49m\u001b[43m \u001b[49m\u001b[43mcopy\u001b[49m\u001b[38;5;241;43m=\u001b[39;49m\u001b[43mcopy\u001b[49m\u001b[43m)\u001b[49m\n",
      "File \u001b[0;32m/home/zeus/miniconda3/envs/cloudspace/lib/python3.10/site-packages/pandas/core/indexes/base.py:560\u001b[0m, in \u001b[0;36mIndex.__new__\u001b[0;34m(cls, data, dtype, copy, name, tupleize_cols)\u001b[0m\n\u001b[1;32m    557\u001b[0m         data \u001b[38;5;241m=\u001b[39m com\u001b[38;5;241m.\u001b[39masarray_tuplesafe(data, dtype\u001b[38;5;241m=\u001b[39m_dtype_obj)\n\u001b[1;32m    559\u001b[0m \u001b[38;5;28;01mtry\u001b[39;00m:\n\u001b[0;32m--> 560\u001b[0m     arr \u001b[38;5;241m=\u001b[39m \u001b[43msanitize_array\u001b[49m\u001b[43m(\u001b[49m\u001b[43mdata\u001b[49m\u001b[43m,\u001b[49m\u001b[43m \u001b[49m\u001b[38;5;28;43;01mNone\u001b[39;49;00m\u001b[43m,\u001b[49m\u001b[43m \u001b[49m\u001b[43mdtype\u001b[49m\u001b[38;5;241;43m=\u001b[39;49m\u001b[43mdtype\u001b[49m\u001b[43m,\u001b[49m\u001b[43m \u001b[49m\u001b[43mcopy\u001b[49m\u001b[38;5;241;43m=\u001b[39;49m\u001b[43mcopy\u001b[49m\u001b[43m)\u001b[49m\n\u001b[1;32m    561\u001b[0m \u001b[38;5;28;01mexcept\u001b[39;00m \u001b[38;5;167;01mValueError\u001b[39;00m \u001b[38;5;28;01mas\u001b[39;00m err:\n\u001b[1;32m    562\u001b[0m     \u001b[38;5;28;01mif\u001b[39;00m \u001b[38;5;124m\"\u001b[39m\u001b[38;5;124mindex must be specified when data is not list-like\u001b[39m\u001b[38;5;124m\"\u001b[39m \u001b[38;5;129;01min\u001b[39;00m \u001b[38;5;28mstr\u001b[39m(err):\n",
      "File \u001b[0;32m/home/zeus/miniconda3/envs/cloudspace/lib/python3.10/site-packages/pandas/core/construction.py:608\u001b[0m, in \u001b[0;36msanitize_array\u001b[0;34m(data, index, dtype, copy, allow_2d)\u001b[0m\n\u001b[1;32m    606\u001b[0m subarr \u001b[38;5;241m=\u001b[39m data\n\u001b[1;32m    607\u001b[0m \u001b[38;5;28;01mif\u001b[39;00m data\u001b[38;5;241m.\u001b[39mdtype \u001b[38;5;241m==\u001b[39m \u001b[38;5;28mobject\u001b[39m:\n\u001b[0;32m--> 608\u001b[0m     subarr \u001b[38;5;241m=\u001b[39m \u001b[43mmaybe_infer_to_datetimelike\u001b[49m\u001b[43m(\u001b[49m\u001b[43mdata\u001b[49m\u001b[43m)\u001b[49m\n\u001b[1;32m    609\u001b[0m     \u001b[38;5;28;01mif\u001b[39;00m (\n\u001b[1;32m    610\u001b[0m         object_index\n\u001b[1;32m    611\u001b[0m         \u001b[38;5;129;01mand\u001b[39;00m using_pyarrow_string_dtype()\n\u001b[1;32m    612\u001b[0m         \u001b[38;5;129;01mand\u001b[39;00m is_string_dtype(subarr)\n\u001b[1;32m    613\u001b[0m     ):\n\u001b[1;32m    614\u001b[0m         \u001b[38;5;66;03m# Avoid inference when string option is set\u001b[39;00m\n\u001b[1;32m    615\u001b[0m         subarr \u001b[38;5;241m=\u001b[39m data\n",
      "File \u001b[0;32m/home/zeus/miniconda3/envs/cloudspace/lib/python3.10/site-packages/pandas/core/dtypes/cast.py:1180\u001b[0m, in \u001b[0;36mmaybe_infer_to_datetimelike\u001b[0;34m(value)\u001b[0m\n\u001b[1;32m   1175\u001b[0m     \u001b[38;5;28;01mreturn\u001b[39;00m value\n\u001b[1;32m   1177\u001b[0m \u001b[38;5;66;03m# error: Incompatible return value type (got \"Union[ExtensionArray,\u001b[39;00m\n\u001b[1;32m   1178\u001b[0m \u001b[38;5;66;03m# ndarray[Any, Any]]\", expected \"Union[ndarray[Any, Any], DatetimeArray,\u001b[39;00m\n\u001b[1;32m   1179\u001b[0m \u001b[38;5;66;03m# TimedeltaArray, PeriodArray, IntervalArray]\")\u001b[39;00m\n\u001b[0;32m-> 1180\u001b[0m \u001b[38;5;28;01mreturn\u001b[39;00m \u001b[43mlib\u001b[49m\u001b[38;5;241;43m.\u001b[39;49m\u001b[43mmaybe_convert_objects\u001b[49m\u001b[43m(\u001b[49m\u001b[43m  \u001b[49m\u001b[38;5;66;43;03m# type: ignore[return-value]\u001b[39;49;00m\n\u001b[1;32m   1181\u001b[0m \u001b[43m    \u001b[49m\u001b[43mvalue\u001b[49m\u001b[43m,\u001b[49m\n\u001b[1;32m   1182\u001b[0m \u001b[43m    \u001b[49m\u001b[38;5;66;43;03m# Here we do not convert numeric dtypes, as if we wanted that,\u001b[39;49;00m\n\u001b[1;32m   1183\u001b[0m \u001b[43m    \u001b[49m\u001b[38;5;66;43;03m#  numpy would have done it for us.\u001b[39;49;00m\n\u001b[1;32m   1184\u001b[0m \u001b[43m    \u001b[49m\u001b[43mconvert_numeric\u001b[49m\u001b[38;5;241;43m=\u001b[39;49m\u001b[38;5;28;43;01mFalse\u001b[39;49;00m\u001b[43m,\u001b[49m\n\u001b[1;32m   1185\u001b[0m \u001b[43m    \u001b[49m\u001b[43mconvert_non_numeric\u001b[49m\u001b[38;5;241;43m=\u001b[39;49m\u001b[38;5;28;43;01mTrue\u001b[39;49;00m\u001b[43m,\u001b[49m\n\u001b[1;32m   1186\u001b[0m \u001b[43m    \u001b[49m\u001b[43mdtype_if_all_nat\u001b[49m\u001b[38;5;241;43m=\u001b[39;49m\u001b[43mnp\u001b[49m\u001b[38;5;241;43m.\u001b[39;49m\u001b[43mdtype\u001b[49m\u001b[43m(\u001b[49m\u001b[38;5;124;43m\"\u001b[39;49m\u001b[38;5;124;43mM8[ns]\u001b[39;49m\u001b[38;5;124;43m\"\u001b[39;49m\u001b[43m)\u001b[49m\u001b[43m,\u001b[49m\n\u001b[1;32m   1187\u001b[0m \u001b[43m\u001b[49m\u001b[43m)\u001b[49m\n",
      "File \u001b[0;32mlib.pyx:2525\u001b[0m, in \u001b[0;36mpandas._libs.lib.maybe_convert_objects\u001b[0;34m()\u001b[0m\n",
      "File \u001b[0;32m/home/zeus/miniconda3/envs/cloudspace/lib/python3.10/site-packages/numpy/core/numeric.py:274\u001b[0m, in \u001b[0;36mfull\u001b[0;34m(shape, fill_value, dtype, order, like)\u001b[0m\n\u001b[1;32m    270\u001b[0m \u001b[38;5;28;01mdef\u001b[39;00m \u001b[38;5;21m_full_dispatcher\u001b[39m(shape, fill_value, dtype\u001b[38;5;241m=\u001b[39m\u001b[38;5;28;01mNone\u001b[39;00m, order\u001b[38;5;241m=\u001b[39m\u001b[38;5;28;01mNone\u001b[39;00m, \u001b[38;5;241m*\u001b[39m, like\u001b[38;5;241m=\u001b[39m\u001b[38;5;28;01mNone\u001b[39;00m):\n\u001b[1;32m    271\u001b[0m     \u001b[38;5;28;01mreturn\u001b[39;00m(like,)\n\u001b[0;32m--> 274\u001b[0m \u001b[38;5;129m@set_array_function_like_doc\u001b[39m\n\u001b[1;32m    275\u001b[0m \u001b[38;5;129m@set_module\u001b[39m(\u001b[38;5;124m'\u001b[39m\u001b[38;5;124mnumpy\u001b[39m\u001b[38;5;124m'\u001b[39m)\n\u001b[1;32m    276\u001b[0m \u001b[38;5;28;01mdef\u001b[39;00m \u001b[38;5;21mfull\u001b[39m(shape, fill_value, dtype\u001b[38;5;241m=\u001b[39m\u001b[38;5;28;01mNone\u001b[39;00m, order\u001b[38;5;241m=\u001b[39m\u001b[38;5;124m'\u001b[39m\u001b[38;5;124mC\u001b[39m\u001b[38;5;124m'\u001b[39m, \u001b[38;5;241m*\u001b[39m, like\u001b[38;5;241m=\u001b[39m\u001b[38;5;28;01mNone\u001b[39;00m):\n\u001b[1;32m    277\u001b[0m \u001b[38;5;250m    \u001b[39m\u001b[38;5;124;03m\"\"\"\u001b[39;00m\n\u001b[1;32m    278\u001b[0m \u001b[38;5;124;03m    Return a new array of given shape and type, filled with `fill_value`.\u001b[39;00m\n\u001b[1;32m    279\u001b[0m \n\u001b[0;32m   (...)\u001b[0m\n\u001b[1;32m    320\u001b[0m \n\u001b[1;32m    321\u001b[0m \u001b[38;5;124;03m    \"\"\"\u001b[39;00m\n\u001b[1;32m    322\u001b[0m     \u001b[38;5;28;01mif\u001b[39;00m like \u001b[38;5;129;01mis\u001b[39;00m \u001b[38;5;129;01mnot\u001b[39;00m \u001b[38;5;28;01mNone\u001b[39;00m:\n",
      "\u001b[0;31mKeyboardInterrupt\u001b[0m: "
     ]
    }
   ],
   "source": [
    "signal_node_features, signal_node_labels = get_node_features(signal, num_isophoton_cols = 3, num_jets_cols = 13)\n",
    "background_node_features, background_node_labels = get_node_features(background, num_isophoton_cols = 3, num_jets_cols = 13)"
   ]
  },
  {
   "cell_type": "code",
   "execution_count": null,
   "id": "7225dcb4-87f4-41b9-83eb-9def89e29160",
   "metadata": {},
   "outputs": [],
   "source": [
    "# Shape of node_features_list\n",
    "print(len(signal_node_features))           # Number of events (graphs)\n",
    "print(len(signal_node_features[0]))        # Number of nodes (5: isophoton, jet1, jet2, jet3, jet4)\n",
    "print(len(signal_node_features[0][0]))     # Number of features per node"
   ]
  },
  {
   "cell_type": "code",
   "execution_count": null,
   "id": "d94948cd-b542-47ca-8402-30d72225ada2",
   "metadata": {},
   "outputs": [],
   "source": [
    "# Shape of node_features_list\n",
    "print(len(background_node_features))           # Number of events (graphs)\n",
    "print(len(background_node_features[0]))        # Number of nodes (3: isophoton, jet1, jet2, jet3, jet4)\n",
    "print(len(background_node_features[0][0]))     # Number of features per node"
   ]
  },
  {
   "cell_type": "code",
   "execution_count": null,
   "id": "36c9b19d-07b4-484c-8e8b-9c2f113f6b1d",
   "metadata": {},
   "outputs": [],
   "source": [
    "test = signal_node_features[3][:, :2] #Each Row represents node feature"
   ]
  },
  {
   "cell_type": "code",
   "execution_count": null,
   "id": "ccf53d85-6af1-4141-a9f7-0ac5d0ba4884",
   "metadata": {},
   "outputs": [],
   "source": [
    "signal_node_features[0] #Each Row represents node feature"
   ]
  },
  {
   "cell_type": "code",
   "execution_count": null,
   "id": "62f26b4b-70a1-40e6-85a0-aeadb79953c0",
   "metadata": {},
   "outputs": [],
   "source": [
    "signal_node_labels[0]"
   ]
  },
  {
   "cell_type": "code",
   "execution_count": null,
   "id": "8587ef1a-b6d4-43d5-b54d-a655699ac05e",
   "metadata": {},
   "outputs": [],
   "source": [
    "signal.iloc[0,:]"
   ]
  },
  {
   "cell_type": "markdown",
   "id": "617efcee-851b-40b3-b74d-d4c6b3057aea",
   "metadata": {},
   "source": [
    "# Aggregating Edge Index and Edge Features"
   ]
  },
  {
   "cell_type": "code",
   "execution_count": null,
   "id": "fd82cd03-13dd-43c9-a63b-9b28652f0551",
   "metadata": {},
   "outputs": [],
   "source": [
    "from helper_function_module import Euclidean_distance as ed\n",
    "def get_edge_info(x:pd.DataFrame,*, cols = ['Eta', 'Phi'], num_isophoton_cols = None, num_jets_cols = None) -> list[np.array]:\n",
    "    list_edge_attr =[]\n",
    "    list_edge_index = []\n",
    "\n",
    "    if ((num_isophoton_cols is not None) & (num_jets_cols is not None)):\n",
    "        print('Initializing the Process...')\n",
    "        \n",
    "        with tqdm(total=len(x), desc=\"Progress\", leave=True) as pbar:\n",
    "            for _, event in x.iterrows():\n",
    "                event_eta_phi = []\n",
    "                event_edge_attr = []\n",
    "                event_edge_index = []\n",
    "                for isophoton_idx in range(1,num_isophoton_cols + 1):\n",
    "                    isophoton_features =  event[[('isophoton' + str(isophoton_idx) + '_' + feature) for feature in cols]].values\n",
    "                    if np.sum(np.abs(isophoton_features)) > 0 :\n",
    "                        event_eta_phi.append(isophoton_features.tolist())\n",
    "        \n",
    "                for jet_idx in range(1, num_jets_cols + 1):\n",
    "                    jet_features = event[[('jet' + str(jet_idx) + '_' + feature) for feature in cols]].values\n",
    "                    if (np.sum(np.abs(jet_features)) > 0 ) & (event[['jet' + str(jet_idx) + '_' + 'btag']].values == 1) :\n",
    "                        event_eta_phi.append(jet_features.tolist())\n",
    "\n",
    "                event_eta_phi = np.array(event_eta_phi)\n",
    "\n",
    "                for i in range(len(event_eta_phi)):\n",
    "                    for j in range(len(event_eta_phi)):\n",
    "                        if j>i:\n",
    "                            event_edge_index.append([i,j])\n",
    "                            delta_R = ed(event_eta_phi[i], event_eta_phi[j])\n",
    "                            event_edge_attr.append(delta_R)\n",
    "                list_edge_attr.append(np.array(event_edge_attr))\n",
    "                list_edge_index.append(np.array(event_edge_index).T)\n",
    "                \n",
    "                pbar.update(1)\n",
    "            \n",
    "        print('Process Complemented :)')\n",
    "        return list_edge_attr, list_edge_index\n",
    "    else:\n",
    "        print('***num_isophoton_cols and num_jets_cols should not be None***')\n",
    "        "
   ]
  },
  {
   "cell_type": "code",
   "execution_count": null,
   "id": "4a573a95-cf1c-4dbf-acfd-d6ba33d41cc5",
   "metadata": {},
   "outputs": [],
   "source": [
    "signal_edge_attr, signal_edge_index = get_edge_info(signal, num_isophoton_cols = 3, num_jets_cols = 13)\n",
    "background_edge_attr, background_edge_index = get_edge_info(background, num_isophoton_cols = 3, num_jets_cols = 13)"
   ]
  },
  {
   "cell_type": "code",
   "execution_count": null,
   "id": "ab923fdf-539a-4079-b09b-32d6d7e3766f",
   "metadata": {},
   "outputs": [],
   "source": [
    "print(len(signal_edge_attr))\n",
    "print(len(signal_edge_attr[4]))"
   ]
  },
  {
   "cell_type": "code",
   "execution_count": null,
   "id": "76ab046f-e33e-420e-9a27-2775250ec156",
   "metadata": {},
   "outputs": [],
   "source": [
    "signal_edge_attr[3]"
   ]
  },
  {
   "cell_type": "code",
   "execution_count": null,
   "id": "2441488b-e4fd-4e82-a275-38326bcc3b07",
   "metadata": {},
   "outputs": [],
   "source": [
    "signal_edge_index[3]"
   ]
  },
  {
   "cell_type": "code",
   "execution_count": null,
   "id": "f6b80dee-3785-487e-b426-2f65d26bc013",
   "metadata": {},
   "outputs": [],
   "source": [
    "print(len(background_edge_attr))\n",
    "print(len(background_edge_attr[0]))"
   ]
  },
  {
   "cell_type": "markdown",
   "id": "0bf8ced7-2579-41f6-a317-035359e3d13b",
   "metadata": {},
   "source": [
    "# Invariant Mass Calculation for each Event"
   ]
  },
  {
   "cell_type": "code",
   "execution_count": 43,
   "id": "f09e5791-43ac-42c7-aa52-38690a8c4bc9",
   "metadata": {},
   "outputs": [],
   "source": [
    "def get_invMass(x:pd.DataFrame,*, num_isophoton_cols = None, num_jets_cols = None) ->list[float]:\n",
    "    list_inv_mass = []\n",
    "    names_lst = []\n",
    "    cols = ['Px', 'Py', 'Pz', 'E']\n",
    "    for isophoton_num in range(1, num_isophoton_cols+1):\n",
    "        names_lst.extend(['isophoton' + str(isophoton_num) + '_'])\n",
    "\n",
    "    for jet_num in range(1, num_jets_cols+1):\n",
    "        names_lst.extend(['jet' + str(jet_num) + '_'])\n",
    "\n",
    "    total_E = x.loc[:,[names + 'E' for names in names_lst]].sum(axis = 1)\n",
    "    total_Px = x.loc[:,[names + 'Px' for names in names_lst]].sum(axis = 1)\n",
    "    total_Py = x.loc[:,[names + 'Py' for names in names_lst]].sum(axis = 1)\n",
    "    total_Pz = x.loc[:,[names + 'Pz' for names in names_lst]].sum(axis = 1)\n",
    "\n",
    "    inv_mass = np.sqrt(np.abs(total_E**2 - total_Px**2 - total_Py**2 - total_Pz**2))\n",
    "    return inv_mass.values.tolist()"
   ]
  },
  {
   "cell_type": "code",
   "execution_count": 44,
   "id": "6b9c09d4-c192-435b-b946-0e0e2ed68c0e",
   "metadata": {},
   "outputs": [],
   "source": [
    "signal_invMass = get_invMass(signal, num_isophoton_cols = 3, num_jets_cols = 13)\n",
    "background_invMass = get_invMass(background, num_isophoton_cols = 3, num_jets_cols = 13)"
   ]
  },
  {
   "cell_type": "code",
   "execution_count": 45,
   "id": "26fd0699-ebae-47cf-976d-272095fd0cf8",
   "metadata": {},
   "outputs": [
    {
     "data": {
      "text/plain": [
       "34.33469749949758"
      ]
     },
     "execution_count": 45,
     "metadata": {},
     "output_type": "execute_result"
    }
   ],
   "source": [
    "signal_invMass[0]"
   ]
  },
  {
   "cell_type": "code",
   "execution_count": 46,
   "id": "969448a4-8241-4485-8ac5-2671ea514db4",
   "metadata": {},
   "outputs": [
    {
     "data": {
      "text/plain": [
       "eventno             2.00000\n",
       "jetmultiplicity     2.00000\n",
       "jet1_Eta           -1.74376\n",
       "jet1_Phi           -1.40230\n",
       "jet1_pT            22.48450\n",
       "                     ...   \n",
       "isophoton3_Px       0.00000\n",
       "isophoton3_Py       0.00000\n",
       "isophoton3_Pz       0.00000\n",
       "isophoton3_E        0.00000\n",
       "label               1.00000\n",
       "Name: 0, Length: 129, dtype: float64"
      ]
     },
     "execution_count": 46,
     "metadata": {},
     "output_type": "execute_result"
    }
   ],
   "source": [
    "signal.iloc[0,:]"
   ]
  },
  {
   "cell_type": "markdown",
   "id": "aa8f662a-ba40-4b43-9394-4405577d486a",
   "metadata": {},
   "source": [
    "# Aggregating Data for Graphs"
   ]
  },
  {
   "cell_type": "code",
   "execution_count": 47,
   "id": "895b7051-3533-4f68-8d8a-68bbf5c1a5d6",
   "metadata": {},
   "outputs": [],
   "source": [
    "def get_graph_features(node_features_list:list[np.array], edge_features_list:list[np.array], edge_index_list:list[np.array], node_label:list[np.array], jetmultiplicity:list[int], inv_mass:list[float], label:int) -> dict:\n",
    "    '''\n",
    "    Extract node features,  edge features and edge index for each event and put then into a dictionary\n",
    "    representating each event and return a list containing the dictionaries.\n",
    "\n",
    "    Parameters:\n",
    "    -----------\n",
    "    node_features_list : list\n",
    "        Each element in the list is a 2D list of shape (3, num_features) \n",
    "        containing node features for isophoton, jet1, and jet2.\n",
    "\n",
    "    edge_features_list : list\n",
    "        Each element in the list is a 1D list of size 3 \n",
    "        containing edge features for isophoton, jet1, and jet2.\n",
    "\n",
    "    edge_index_list : list\n",
    "        2D list of shape (2, num_edges), connectivity information.\n",
    "\n",
    "    Returns:\n",
    "    --------\n",
    "    event_graph : list of dictionaries\n",
    "        Each element contains:\n",
    "            - 'nodes': 2D list of shape (3, num_features), node features for isophoton, jet1, and jet2.\n",
    "            - 'edges': 2D list of shape (num_edges, edge_features), edge features (Delta R) for the fully connected graph.\n",
    "            - 'edge_index': 2D list of shape (2, num_edges), connectivity information.\n",
    "    '''\n",
    "    event_graphs = []\n",
    "    if len(node_features_list) == len(edge_features_list) == len(edge_index_list) == len(node_label) == len(jetmultiplicity) == len(inv_mass):\n",
    "        for i in range(len(node_features_list)):\n",
    "            graph_dict = {\n",
    "                'nodes' : node_features_list[i].tolist(),\n",
    "                'edges' : edge_features_list[i].tolist(),\n",
    "                'edge_index' : edge_index_list[i].tolist(),\n",
    "                'node_labels' : node_label[i].tolist(),\n",
    "                'jetmultiplicity' : jetmultiplicity[i],\n",
    "                'inv_mass' : inv_mass[i],\n",
    "                'label' : label\n",
    "            }\n",
    "            event_graphs.append(graph_dict)\n",
    "        return event_graphs\n",
    "\n",
    "    else:\n",
    "        print('***Number of Events in the lists do not match***')"
   ]
  },
  {
   "cell_type": "code",
   "execution_count": 48,
   "id": "651c8f1b-53b7-4899-b663-5486ad150503",
   "metadata": {},
   "outputs": [],
   "source": [
    "signal_graphs_dict = get_graph_features(signal_node_features, signal_edge_attr, signal_edge_index, signal_node_labels, signal.jetmultiplicity.values.tolist(), signal_invMass, 1)\n",
    "background_graphs_dict = get_graph_features(background_node_features, background_edge_attr, background_edge_index, background_node_labels, background.jetmultiplicity.values.tolist(), background_invMass, 0)"
   ]
  },
  {
   "cell_type": "code",
   "execution_count": 49,
   "id": "f47086d2-38b7-4b4c-bcf1-d71056cfd9e6",
   "metadata": {},
   "outputs": [
    {
     "name": "stdout",
     "output_type": "stream",
     "text": [
      "119966\n",
      "7\n"
     ]
    }
   ],
   "source": [
    "print(len(signal_graphs_dict))\n",
    "print(len(signal_graphs_dict[0]))"
   ]
  },
  {
   "cell_type": "code",
   "execution_count": 50,
   "id": "ff513c71-7909-4712-aa2e-1e8602601ec1",
   "metadata": {},
   "outputs": [
    {
     "data": {
      "text/plain": [
       "{'nodes': [[-2.22728, 0.220275, 22.3859, 105.017],\n",
       "  [-1.74376, -1.4023, 22.4845, 66.2581]],\n",
       " 'edges': [1.6930863005248729],\n",
       " 'edge_index': [[0], [1]],\n",
       " 'node_labels': [0, 1],\n",
       " 'jetmultiplicity': 2,\n",
       " 'inv_mass': 34.33469749949758,\n",
       " 'label': 1}"
      ]
     },
     "execution_count": 50,
     "metadata": {},
     "output_type": "execute_result"
    }
   ],
   "source": [
    "signal_graphs_dict[0]"
   ]
  },
  {
   "cell_type": "code",
   "execution_count": 51,
   "id": "d0063e17-a316-453f-940e-ddcd0386158a",
   "metadata": {},
   "outputs": [
    {
     "name": "stdout",
     "output_type": "stream",
     "text": [
      "126444\n",
      "7\n"
     ]
    }
   ],
   "source": [
    "print(len(background_graphs_dict))\n",
    "print(len(background_graphs_dict[0]))"
   ]
  },
  {
   "cell_type": "code",
   "execution_count": 52,
   "id": "5eb4f554-a248-405f-8052-a1c771311be3",
   "metadata": {},
   "outputs": [
    {
     "data": {
      "text/plain": [
       "{'nodes': [[0.0, 0.0, 0.0, 0.0],\n",
       "  [1.65831, 2.39558, 30.7174, 83.5648],\n",
       "  [0.200652, -0.57207, 28.156, 28.7247]],\n",
       " 'edges': [3.3063141664796465],\n",
       " 'edge_index': [[0], [1]],\n",
       " 'node_labels': [-1, 1, 1],\n",
       " 'jetmultiplicity': 2,\n",
       " 'inv_mass': 74.9692480591549,\n",
       " 'label': 0}"
      ]
     },
     "execution_count": 52,
     "metadata": {},
     "output_type": "execute_result"
    }
   ],
   "source": [
    "background_graphs_dict[0]"
   ]
  },
  {
   "cell_type": "markdown",
   "id": "7c3e5146-14ec-4c66-ba54-961ca00c3b39",
   "metadata": {},
   "source": [
    "# Exporting the Dictionaries as JSON File"
   ]
  },
  {
   "cell_type": "code",
   "execution_count": 53,
   "id": "0043b242-78b5-46e7-b020-ac384467249a",
   "metadata": {},
   "outputs": [],
   "source": [
    "# import json\n",
    "# with open('signal_graph_dicts_updated.json', 'w') as file:\n",
    "#     json.dump(signal_graphs_dict, file)"
   ]
  },
  {
   "cell_type": "code",
   "execution_count": 54,
   "id": "4c5970b4-205d-4f36-97d2-a7edce5b4cd1",
   "metadata": {},
   "outputs": [],
   "source": [
    "# with open('background_graph_dicts_updated.json', 'w') as file:\n",
    "#     json.dump(background_graphs_dict, file)"
   ]
  },
  {
   "cell_type": "code",
   "execution_count": 55,
   "id": "70d1776a-13ff-485c-97b2-81e47ebe3cbe",
   "metadata": {},
   "outputs": [
    {
     "name": "stdout",
     "output_type": "stream",
     "text": [
      "{'nodes': [[0.0, 0.0, 0.0, 0.0], [-0.661054, -2.2208, 41.5491, 50.9629], [0.834888, 1.46862, 34.4409, 47.1579]], 'edges': [2.9942379558232197], 'edge_index': [[0], [1]], 'node_labels': [-1, 1, 1], 'jetmultiplicity': 2, 'inv_mass': 95.66106812031268, 'label': 1}\n"
     ]
    }
   ],
   "source": [
    "# with open('signal_graph_dicts_updated.json', 'r') as file:\n",
    "#     loaded_data = json.load(file)\n",
    "\n",
    "# print(loaded_data[3456])"
   ]
  },
  {
   "cell_type": "code",
   "execution_count": null,
   "id": "d9e42ccf-4c22-40b4-93f3-47f123427481",
   "metadata": {},
   "outputs": [],
   "source": []
  },
  {
   "cell_type": "code",
   "execution_count": null,
   "id": "36815a77-6900-434a-acd1-200e0a51cd1a",
   "metadata": {},
   "outputs": [],
   "source": []
  }
 ],
 "metadata": {
  "kernelspec": {
   "display_name": "Python 3",
   "language": "python",
   "name": "python3"
  },
  "language_info": {
   "codemirror_mode": {
    "name": "ipython",
    "version": 3
   },
   "file_extension": ".py",
   "mimetype": "text/x-python",
   "name": "python",
   "nbconvert_exporter": "python",
   "pygments_lexer": "ipython3",
   "version": "3.10.16"
  }
 },
 "nbformat": 4,
 "nbformat_minor": 5
}
