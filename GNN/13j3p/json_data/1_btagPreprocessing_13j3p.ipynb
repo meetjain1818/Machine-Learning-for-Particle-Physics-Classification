{
 "cells": [
  {
   "cell_type": "code",
   "execution_count": 1,
   "id": "bd4d395f-6b15-4304-8ea0-64716048ec56",
   "metadata": {},
   "outputs": [],
   "source": [
    "import numpy as np\n",
    "import matplotlib.pyplot as plt\n",
    "import pandas as pd\n",
    "import random\n",
    "from tqdm import tqdm\n",
    "import json "
   ]
  },
  {
   "cell_type": "markdown",
   "id": "b2565f1d-0b84-454e-98a2-7abfda3e9873",
   "metadata": {},
   "source": [
    "# Importing the Main tabular data"
   ]
  },
  {
   "cell_type": "code",
   "execution_count": 2,
   "id": "264f3914-d729-4a94-876e-28b304579cb9",
   "metadata": {},
   "outputs": [],
   "source": [
    "signal = pd.read_csv('/teamspace/studios/this_studio/GNN/data/sig_200k_minpt20_13jets_processed.txt', sep = '\\t')\n",
    "background = pd.read_csv('/teamspace/studios/this_studio/GNN/data/bg_500k_minpt20_13jets_processed.txt', sep = '\\t')"
   ]
  },
  {
   "cell_type": "code",
   "execution_count": 3,
   "id": "1a4c623a-fa64-4647-91dc-dd27da4bd0e5",
   "metadata": {},
   "outputs": [],
   "source": [
    "signal = signal.drop(['Unnamed: 0'], axis = 1)\n",
    "background = background.drop(['Unnamed: 0'], axis = 1)"
   ]
  },
  {
   "cell_type": "code",
   "execution_count": 4,
   "id": "31aebbdb-761e-4bf2-9a07-2039720a0ba2",
   "metadata": {},
   "outputs": [],
   "source": [
    "#Adding Labels in the DataFrame\n",
    "signal['label'] = 1\n",
    "background['label'] = 0"
   ]
  },
  {
   "cell_type": "code",
   "execution_count": 5,
   "id": "dd1d716a-76f6-477b-9acf-0d4f997e91f4",
   "metadata": {},
   "outputs": [
    {
     "name": "stdout",
     "output_type": "stream",
     "text": [
      "['eventno', 'jetmultiplicity', 'jet1_Eta', 'jet1_Phi', 'jet1_pT', 'jet1_Px', 'jet1_Py', 'jet1_Pz', 'jet1_E', 'jet1_btag', 'jet2_Eta', 'jet2_Phi', 'jet2_pT', 'jet2_Px', 'jet2_Py', 'jet2_Pz', 'jet2_E', 'jet2_btag', 'jet3_Eta', 'jet3_Phi', 'jet3_pT', 'jet3_Px', 'jet3_Py', 'jet3_Pz', 'jet3_E', 'jet3_btag', 'jet4_Eta', 'jet4_Phi', 'jet4_pT', 'jet4_Px', 'jet4_Py', 'jet4_Pz', 'jet4_E', 'jet4_btag', 'jet5_Eta', 'jet5_Phi', 'jet5_pT', 'jet5_Px', 'jet5_Py', 'jet5_Pz', 'jet5_E', 'jet5_btag', 'jet6_Eta', 'jet6_Phi', 'jet6_pT', 'jet6_Px', 'jet6_Py', 'jet6_Pz', 'jet6_E', 'jet6_btag', 'jet7_Eta', 'jet7_Phi', 'jet7_pT', 'jet7_Px', 'jet7_Py', 'jet7_Pz', 'jet7_E', 'jet7_btag', 'jet8_Eta', 'jet8_Phi', 'jet8_pT', 'jet8_Px', 'jet8_Py', 'jet8_Pz', 'jet8_E', 'jet8_btag', 'jet9_Eta', 'jet9_Phi', 'jet9_pT', 'jet9_Px', 'jet9_Py', 'jet9_Pz', 'jet9_E', 'jet9_btag', 'jet10_Eta', 'jet10_Phi', 'jet10_pT', 'jet10_Px', 'jet10_Py', 'jet10_Pz', 'jet10_E', 'jet10_btag', 'jet11_Eta', 'jet11_Phi', 'jet11_pT', 'jet11_Px', 'jet11_Py', 'jet11_Pz', 'jet11_E', 'jet11_btag', 'jet12_Eta', 'jet12_Phi', 'jet12_pT', 'jet12_Px', 'jet12_Py', 'jet12_Pz', 'jet12_E', 'jet12_btag', 'jet13_Eta', 'jet13_Phi', 'jet13_pT', 'jet13_Px', 'jet13_Py', 'jet13_Pz', 'jet13_E', 'jet13_btag', 'isophotoncount', 'isophoton1_Eta', 'isophoton1_Phi', 'isophoton1_pT', 'isophoton1_Px', 'isophoton1_Py', 'isophoton1_Pz', 'isophoton1_E', 'isophoton2_Eta', 'isophoton2_Phi', 'isophoton2_pT', 'isophoton2_Px', 'isophoton2_Py', 'isophoton2_Pz', 'isophoton2_E', 'isophoton3_Eta', 'isophoton3_Phi', 'isophoton3_pT', 'isophoton3_Px', 'isophoton3_Py', 'isophoton3_Pz', 'isophoton3_E', 'label']\n"
     ]
    }
   ],
   "source": [
    "print(list(signal.columns))"
   ]
  },
  {
   "cell_type": "code",
   "execution_count": 6,
   "id": "0f92caa9-c6f3-4ab8-8183-2d6f5f0436f9",
   "metadata": {},
   "outputs": [
    {
     "name": "stdout",
     "output_type": "stream",
     "text": [
      "['eventno', 'jetmultiplicity', 'jet1_Eta', 'jet1_Phi', 'jet1_pT', 'jet1_Px', 'jet1_Py', 'jet1_Pz', 'jet1_E', 'jet1_btag', 'jet2_Eta', 'jet2_Phi', 'jet2_pT', 'jet2_Px', 'jet2_Py', 'jet2_Pz', 'jet2_E', 'jet2_btag', 'jet3_Eta', 'jet3_Phi', 'jet3_pT', 'jet3_Px', 'jet3_Py', 'jet3_Pz', 'jet3_E', 'jet3_btag', 'jet4_Eta', 'jet4_Phi', 'jet4_pT', 'jet4_Px', 'jet4_Py', 'jet4_Pz', 'jet4_E', 'jet4_btag', 'jet5_Eta', 'jet5_Phi', 'jet5_pT', 'jet5_Px', 'jet5_Py', 'jet5_Pz', 'jet5_E', 'jet5_btag', 'jet6_Eta', 'jet6_Phi', 'jet6_pT', 'jet6_Px', 'jet6_Py', 'jet6_Pz', 'jet6_E', 'jet6_btag', 'jet7_Eta', 'jet7_Phi', 'jet7_pT', 'jet7_Px', 'jet7_Py', 'jet7_Pz', 'jet7_E', 'jet7_btag', 'jet8_Eta', 'jet8_Phi', 'jet8_pT', 'jet8_Px', 'jet8_Py', 'jet8_Pz', 'jet8_E', 'jet8_btag', 'jet9_Eta', 'jet9_Phi', 'jet9_pT', 'jet9_Px', 'jet9_Py', 'jet9_Pz', 'jet9_E', 'jet9_btag', 'jet10_Eta', 'jet10_Phi', 'jet10_pT', 'jet10_Px', 'jet10_Py', 'jet10_Pz', 'jet10_E', 'jet10_btag', 'jet11_Eta', 'jet11_Phi', 'jet11_pT', 'jet11_Px', 'jet11_Py', 'jet11_Pz', 'jet11_E', 'jet11_btag', 'jet12_Eta', 'jet12_Phi', 'jet12_pT', 'jet12_Px', 'jet12_Py', 'jet12_Pz', 'jet12_E', 'jet12_btag', 'jet13_Eta', 'jet13_Phi', 'jet13_pT', 'jet13_Px', 'jet13_Py', 'jet13_Pz', 'jet13_E', 'jet13_btag', 'isophotoncount', 'isophoton1_Eta', 'isophoton1_Phi', 'isophoton1_pT', 'isophoton1_Px', 'isophoton1_Py', 'isophoton1_Pz', 'isophoton1_E', 'isophoton2_Eta', 'isophoton2_Phi', 'isophoton2_pT', 'isophoton2_Px', 'isophoton2_Py', 'isophoton2_Pz', 'isophoton2_E', 'isophoton3_Eta', 'isophoton3_Phi', 'isophoton3_pT', 'isophoton3_Px', 'isophoton3_Py', 'isophoton3_Pz', 'isophoton3_E', 'label']\n"
     ]
    }
   ],
   "source": [
    "print(list(background.columns))"
   ]
  },
  {
   "cell_type": "code",
   "execution_count": 7,
   "id": "f1c32613-e1b5-481d-acb9-79874047d821",
   "metadata": {},
   "outputs": [
    {
     "name": "stdout",
     "output_type": "stream",
     "text": [
      "Signal Size: 119966\n",
      "Background Size: 126444\n"
     ]
    }
   ],
   "source": [
    "print(f\"Signal Size: {len(signal)}\")\n",
    "print(f\"Background Size: {len(background)}\")"
   ]
  },
  {
   "cell_type": "markdown",
   "id": "9fb727ff-6369-4344-a5c3-a79026f26b7e",
   "metadata": {},
   "source": [
    "# Aggregating Node Features"
   ]
  },
  {
   "cell_type": "code",
   "execution_count": 16,
   "id": "b783a8be-ebcb-402d-adf0-beff5037c5a5",
   "metadata": {},
   "outputs": [],
   "source": [
    "def get_node_features(x:pd.DataFrame,*, cols = ['Eta', 'Phi', 'pT', 'E'], num_isophoton_cols = None, num_jets_cols = None) -> list[np.array]:\n",
    "    \"\"\"\n",
    "    Extracts node features for isophotons and the jets from a DataFrame\n",
    "    and returns a list of node features for all events.\n",
    "\n",
    "    Parameters:\n",
    "    -----------\n",
    "    x : pd.DataFrame\n",
    "        Input DataFrame with columns containing features for each object in the event.\n",
    "\n",
    "    Returns:\n",
    "    --------\n",
    "    list_of_node_features : list of lists\n",
    "        Each element in the list is a 2D list of shape (<num_jets>, num_features) \n",
    "        containing node features for isophoton, jet1, and jet2.\n",
    "    \"\"\"\n",
    "    if ((num_isophoton_cols is not None) & (num_jets_cols is not None)):\n",
    "        list_of_node_features = []\n",
    "        list_of_node_labels = []\n",
    "        print('Initializing the Process...')\n",
    "        \n",
    "        with tqdm(total=len(x), desc=\"Progress\", leave=True) as pbar:\n",
    "            for _, event in x.iterrows():\n",
    "                event_node_features = []\n",
    "                event_node_labels = []\n",
    "                for isophoton_idx in range(1,num_isophoton_cols + 1):\n",
    "                    isophoton_features =  event[[('isophoton' + str(isophoton_idx) + '_' + feature) for feature in cols]].values\n",
    "                    if np.sum(np.abs(isophoton_features)) > 0 :\n",
    "                        event_node_features.append(isophoton_features.tolist())\n",
    "                        event_node_labels.append(0)\n",
    "        \n",
    "                for jet_idx in range(1, num_jets_cols + 1):\n",
    "                    jet_features = event[[('jet' + str(jet_idx) + '_' + feature) for feature in cols]].values\n",
    "                    if (np.sum(np.abs(jet_features)) > 0) & (event['jet' + str(jet_idx) + '_btag'] == 1) :\n",
    "                        event_node_features.append(jet_features.tolist())\n",
    "                        event_node_labels.append(1)\n",
    "                \n",
    "                list_of_node_features.append(np.array(event_node_features))\n",
    "                list_of_node_labels.append(np.array(event_node_labels))\n",
    "                pbar.update(1)\n",
    "        print('Process Complemented :)')\n",
    "        return list_of_node_features, list_of_node_labels\n",
    "    else:\n",
    "        print('***num_isophoton_cols and num_jets_cols should not be None***')"
   ]
  },
  {
   "cell_type": "code",
   "execution_count": 17,
   "id": "191fda5d-4295-4c27-92a0-0998c7675f51",
   "metadata": {},
   "outputs": [
    {
     "name": "stdout",
     "output_type": "stream",
     "text": [
      "Initializing the Process...\n"
     ]
    },
    {
     "name": "stderr",
     "output_type": "stream",
     "text": [
      "Progress: 100%|██████████| 119966/119966 [06:13<00:00, 321.60it/s]\n"
     ]
    },
    {
     "name": "stdout",
     "output_type": "stream",
     "text": [
      "Process Complemented :)\n",
      "Initializing the Process...\n"
     ]
    },
    {
     "name": "stderr",
     "output_type": "stream",
     "text": [
      "Progress: 100%|██████████| 126444/126444 [06:29<00:00, 324.52it/s]"
     ]
    },
    {
     "name": "stdout",
     "output_type": "stream",
     "text": [
      "Process Complemented :)\n"
     ]
    },
    {
     "name": "stderr",
     "output_type": "stream",
     "text": [
      "\n"
     ]
    }
   ],
   "source": [
    "signal_node_features, signal_node_labels = get_node_features(signal, num_isophoton_cols = 3, num_jets_cols = 13)\n",
    "background_node_features, background_node_labels = get_node_features(background, num_isophoton_cols = 3, num_jets_cols = 13)"
   ]
  },
  {
   "cell_type": "code",
   "execution_count": 30,
   "id": "7225dcb4-87f4-41b9-83eb-9def89e29160",
   "metadata": {},
   "outputs": [
    {
     "name": "stdout",
     "output_type": "stream",
     "text": [
      "119966\n",
      "1\n",
      "4\n"
     ]
    }
   ],
   "source": [
    "# Shape of node_features_list\n",
    "print(len(signal_node_features))           # Number of events (graphs)\n",
    "print(len(signal_node_features[0]))        # Number of nodes (5: isophoton, jet1, ...)\n",
    "print(len(signal_node_features[0][0]))     # Number of features per node"
   ]
  },
  {
   "cell_type": "code",
   "execution_count": 31,
   "id": "d94948cd-b542-47ca-8402-30d72225ada2",
   "metadata": {},
   "outputs": [
    {
     "name": "stdout",
     "output_type": "stream",
     "text": [
      "126444\n",
      "1\n",
      "4\n"
     ]
    }
   ],
   "source": [
    "# Shape of node_features_list\n",
    "print(len(background_node_features))           # Number of events (graphs)\n",
    "print(len(background_node_features[0]))        # Number of nodes (3: isophoton, jet1, ...)\n",
    "print(len(background_node_features[0][0]))     # Number of features per node"
   ]
  },
  {
   "cell_type": "code",
   "execution_count": 20,
   "id": "36c9b19d-07b4-484c-8e8b-9c2f113f6b1d",
   "metadata": {},
   "outputs": [],
   "source": [
    "test = signal_node_features[3][:, :2] #Each Row represents node feature"
   ]
  },
  {
   "cell_type": "code",
   "execution_count": 46,
   "id": "ccf53d85-6af1-4141-a9f7-0ac5d0ba4884",
   "metadata": {},
   "outputs": [
    {
     "data": {
      "text/plain": [
       "array([[  1.12555,  -1.84877,  96.2593 , 163.948  ],\n",
       "       [  1.51451,  -1.49654,  34.9717 ,  83.3572 ]])"
      ]
     },
     "execution_count": 46,
     "metadata": {},
     "output_type": "execute_result"
    }
   ],
   "source": [
    "signal_node_features[3] #Each Row represents node feature"
   ]
  },
  {
   "cell_type": "code",
   "execution_count": 47,
   "id": "62f26b4b-70a1-40e6-85a0-aeadb79953c0",
   "metadata": {},
   "outputs": [
    {
     "data": {
      "text/plain": [
       "array([1, 1])"
      ]
     },
     "execution_count": 47,
     "metadata": {},
     "output_type": "execute_result"
    }
   ],
   "source": [
    "signal_node_labels[3]"
   ]
  },
  {
   "cell_type": "code",
   "execution_count": 48,
   "id": "8587ef1a-b6d4-43d5-b54d-a655699ac05e",
   "metadata": {},
   "outputs": [
    {
     "data": {
      "text/plain": [
       "eventno              8.00000\n",
       "jetmultiplicity      5.00000\n",
       "jet1_Eta             0.43832\n",
       "jet1_Phi             2.19311\n",
       "jet1_pT            144.61600\n",
       "                     ...    \n",
       "isophoton3_Px        0.00000\n",
       "isophoton3_Py        0.00000\n",
       "isophoton3_Pz        0.00000\n",
       "isophoton3_E         0.00000\n",
       "label                1.00000\n",
       "Name: 3, Length: 129, dtype: float64"
      ]
     },
     "execution_count": 48,
     "metadata": {},
     "output_type": "execute_result"
    }
   ],
   "source": [
    "signal.iloc[3,:]"
   ]
  },
  {
   "cell_type": "markdown",
   "id": "617efcee-851b-40b3-b74d-d4c6b3057aea",
   "metadata": {},
   "source": [
    "# Aggregating Edge Index and Edge Features"
   ]
  },
  {
   "cell_type": "code",
   "execution_count": 24,
   "id": "fd82cd03-13dd-43c9-a63b-9b28652f0551",
   "metadata": {},
   "outputs": [],
   "source": [
    "from helper_function_module import Euclidean_distance as ed\n",
    "def get_edge_info(x:pd.DataFrame,*, cols = ['Eta', 'Phi'], num_isophoton_cols = None, num_jets_cols = None) -> list[np.array]:\n",
    "    list_edge_attr =[]\n",
    "    list_edge_index = []\n",
    "\n",
    "    if ((num_isophoton_cols is not None) & (num_jets_cols is not None)):\n",
    "        print('Initializing the Process...')\n",
    "        \n",
    "        with tqdm(total=len(x), desc=\"Progress\", leave=True) as pbar:\n",
    "            for _, event in x.iterrows():\n",
    "                event_eta_phi = []\n",
    "                event_edge_attr = []\n",
    "                event_edge_index = []\n",
    "                for isophoton_idx in range(1,num_isophoton_cols + 1):\n",
    "                    isophoton_features =  event[[('isophoton' + str(isophoton_idx) + '_' + feature) for feature in cols]].values\n",
    "                    if np.sum(np.abs(isophoton_features)) > 0 :\n",
    "                        event_eta_phi.append(isophoton_features.tolist())\n",
    "        \n",
    "                for jet_idx in range(1, num_jets_cols + 1):\n",
    "                    jet_features = event[[('jet' + str(jet_idx) + '_' + feature) for feature in cols]].values\n",
    "                    if (np.sum(np.abs(jet_features)) > 0 ) & (event['jet' + str(jet_idx) + '_btag'] == 1) :\n",
    "                        event_eta_phi.append(jet_features.tolist())\n",
    "\n",
    "                event_eta_phi = np.array(event_eta_phi)\n",
    "\n",
    "                for i in range(len(event_eta_phi)):\n",
    "                    for j in range(len(event_eta_phi)):\n",
    "                        if j>i:\n",
    "                            event_edge_index.append([i,j])\n",
    "                            delta_R = ed(event_eta_phi[i], event_eta_phi[j])\n",
    "                            event_edge_attr.append(delta_R)\n",
    "                list_edge_attr.append(np.array(event_edge_attr))\n",
    "                list_edge_index.append(np.array(event_edge_index).T)\n",
    "                \n",
    "                pbar.update(1)\n",
    "            \n",
    "        print('Process Complemented :)')\n",
    "        return list_edge_attr, list_edge_index\n",
    "    else:\n",
    "        print('***num_isophoton_cols and num_jets_cols should not be None***')\n",
    "        "
   ]
  },
  {
   "cell_type": "code",
   "execution_count": 25,
   "id": "4a573a95-cf1c-4dbf-acfd-d6ba33d41cc5",
   "metadata": {},
   "outputs": [
    {
     "name": "stdout",
     "output_type": "stream",
     "text": [
      "Initializing the Process...\n"
     ]
    },
    {
     "name": "stderr",
     "output_type": "stream",
     "text": [
      "Progress: 100%|██████████| 119966/119966 [06:10<00:00, 324.06it/s]\n"
     ]
    },
    {
     "name": "stdout",
     "output_type": "stream",
     "text": [
      "Process Complemented :)\n",
      "Initializing the Process...\n"
     ]
    },
    {
     "name": "stderr",
     "output_type": "stream",
     "text": [
      "Progress: 100%|██████████| 126444/126444 [06:26<00:00, 327.56it/s]"
     ]
    },
    {
     "name": "stdout",
     "output_type": "stream",
     "text": [
      "Process Complemented :)\n"
     ]
    },
    {
     "name": "stderr",
     "output_type": "stream",
     "text": [
      "\n"
     ]
    }
   ],
   "source": [
    "signal_edge_attr, signal_edge_index = get_edge_info(signal, num_isophoton_cols = 3, num_jets_cols = 13)\n",
    "background_edge_attr, background_edge_index = get_edge_info(background, num_isophoton_cols = 3, num_jets_cols = 13)"
   ]
  },
  {
   "cell_type": "code",
   "execution_count": 26,
   "id": "ab923fdf-539a-4079-b09b-32d6d7e3766f",
   "metadata": {},
   "outputs": [
    {
     "name": "stdout",
     "output_type": "stream",
     "text": [
      "119966\n",
      "1\n"
     ]
    }
   ],
   "source": [
    "print(len(signal_edge_attr))\n",
    "print(len(signal_edge_attr[4]))"
   ]
  },
  {
   "cell_type": "code",
   "execution_count": 27,
   "id": "76ab046f-e33e-420e-9a27-2775250ec156",
   "metadata": {},
   "outputs": [
    {
     "data": {
      "text/plain": [
       "array([0.52474361])"
      ]
     },
     "execution_count": 27,
     "metadata": {},
     "output_type": "execute_result"
    }
   ],
   "source": [
    "signal_edge_attr[3]"
   ]
  },
  {
   "cell_type": "code",
   "execution_count": 28,
   "id": "2441488b-e4fd-4e82-a275-38326bcc3b07",
   "metadata": {},
   "outputs": [
    {
     "data": {
      "text/plain": [
       "array([[0],\n",
       "       [1]])"
      ]
     },
     "execution_count": 28,
     "metadata": {},
     "output_type": "execute_result"
    }
   ],
   "source": [
    "signal_edge_index[3]"
   ]
  },
  {
   "cell_type": "code",
   "execution_count": 29,
   "id": "f6b80dee-3785-487e-b426-2f65d26bc013",
   "metadata": {},
   "outputs": [
    {
     "name": "stdout",
     "output_type": "stream",
     "text": [
      "126444\n",
      "0\n"
     ]
    }
   ],
   "source": [
    "print(len(background_edge_attr))\n",
    "print(len(background_edge_attr[0]))"
   ]
  },
  {
   "cell_type": "markdown",
   "id": "0bf8ced7-2579-41f6-a317-035359e3d13b",
   "metadata": {},
   "source": [
    "# Invariant Mass Calculation for each Event"
   ]
  },
  {
   "cell_type": "code",
   "execution_count": 57,
   "id": "f09e5791-43ac-42c7-aa52-38690a8c4bc9",
   "metadata": {},
   "outputs": [],
   "source": [
    "def get_invMass(x:pd.DataFrame,*, num_isophoton_cols = None, num_jets_cols = None) ->list[float]:\n",
    "    list_inv_mass = []\n",
    "    cols = ['E', 'Px', 'Py', 'Pz']\n",
    "\n",
    "    if ((num_isophoton_cols is not None) & (num_jets_cols is not None)):\n",
    "        print('Initializing the Process...')\n",
    "        \n",
    "        with tqdm(total=len(x), desc=\"Progress\", leave=True) as pbar:\n",
    "            for _, event in x.iterrows():\n",
    "                event_cols = []\n",
    "                for isophoton_idx in range(1,num_isophoton_cols + 1):\n",
    "                    isophoton_features =  event[[('isophoton' + str(isophoton_idx) + '_' + feature) for feature in cols]].values\n",
    "                    if np.sum(np.abs(isophoton_features)) > 0 :\n",
    "                        event_cols.append(isophoton_features.tolist())\n",
    "        \n",
    "                for jet_idx in range(1, num_jets_cols + 1):\n",
    "                    jet_features = event[[('jet' + str(jet_idx) + '_' + feature) for feature in cols]].values\n",
    "                    if (np.sum(np.abs(jet_features)) > 0 ):\n",
    "                        event_cols.append(jet_features.tolist())\n",
    "                if event_cols:\n",
    "                    event_cols = np.array(event_cols)\n",
    "                    # print(event_cols)\n",
    "                    sumSquared_EPxPyPz = (np.sum(event_cols, axis = 0))**2\n",
    "                    inv_mass = np.sqrt(np.abs(sumSquared_EPxPyPz[0] - np.sum(sumSquared_EPxPyPz[1:])))\n",
    "    \n",
    "                    list_inv_mass.append(inv_mass)\n",
    "                \n",
    "                pbar.update(1)\n",
    "            \n",
    "        print('Process Complemented :)')\n",
    "        return list_inv_mass\n",
    "    else:\n",
    "        print('***num_isophoton_cols and num_jets_cols should not be None***')"
   ]
  },
  {
   "cell_type": "code",
   "execution_count": 58,
   "id": "e2cfe3d0-5a34-424e-98e9-41a8eb22057c",
   "metadata": {},
   "outputs": [],
   "source": [
    "# signal_invMass = get_invMass(signal.iloc[:5, :], num_isophoton_cols = 3, num_jets_cols = 13)"
   ]
  },
  {
   "cell_type": "code",
   "execution_count": 59,
   "id": "6b9c09d4-c192-435b-b946-0e0e2ed68c0e",
   "metadata": {},
   "outputs": [
    {
     "name": "stdout",
     "output_type": "stream",
     "text": [
      "Initializing the Process...\n"
     ]
    },
    {
     "name": "stderr",
     "output_type": "stream",
     "text": [
      "Progress: 100%|██████████| 119966/119966 [06:08<00:00, 325.32it/s]\n"
     ]
    },
    {
     "name": "stdout",
     "output_type": "stream",
     "text": [
      "Process Complemented :)\n",
      "Initializing the Process...\n"
     ]
    },
    {
     "name": "stderr",
     "output_type": "stream",
     "text": [
      "Progress: 100%|██████████| 126444/126444 [06:29<00:00, 324.53it/s]"
     ]
    },
    {
     "name": "stdout",
     "output_type": "stream",
     "text": [
      "Process Complemented :)\n"
     ]
    },
    {
     "name": "stderr",
     "output_type": "stream",
     "text": [
      "\n"
     ]
    }
   ],
   "source": [
    "signal_invMass = get_invMass(signal, num_isophoton_cols = 3, num_jets_cols = 13)\n",
    "background_invMass = get_invMass(background, num_isophoton_cols = 3, num_jets_cols = 13)"
   ]
  },
  {
   "cell_type": "code",
   "execution_count": 64,
   "id": "9055940e-ac24-4f4a-b34a-3ab6960519fc",
   "metadata": {},
   "outputs": [
    {
     "name": "stdout",
     "output_type": "stream",
     "text": [
      "119966\n",
      "126444\n"
     ]
    }
   ],
   "source": [
    "print(len(signal_invMass))\n",
    "print(len(background_invMass))"
   ]
  },
  {
   "cell_type": "code",
   "execution_count": 62,
   "id": "26fd0699-ebae-47cf-976d-272095fd0cf8",
   "metadata": {},
   "outputs": [
    {
     "data": {
      "text/plain": [
       "34.334697499497636"
      ]
     },
     "execution_count": 62,
     "metadata": {},
     "output_type": "execute_result"
    }
   ],
   "source": [
    "signal_invMass[0]"
   ]
  },
  {
   "cell_type": "code",
   "execution_count": 63,
   "id": "969448a4-8241-4485-8ac5-2671ea514db4",
   "metadata": {},
   "outputs": [
    {
     "data": {
      "text/plain": [
       "eventno             2.00000\n",
       "jetmultiplicity     2.00000\n",
       "jet1_Eta           -1.74376\n",
       "jet1_Phi           -1.40230\n",
       "jet1_pT            22.48450\n",
       "                     ...   \n",
       "isophoton3_Px       0.00000\n",
       "isophoton3_Py       0.00000\n",
       "isophoton3_Pz       0.00000\n",
       "isophoton3_E        0.00000\n",
       "label               1.00000\n",
       "Name: 0, Length: 129, dtype: float64"
      ]
     },
     "execution_count": 63,
     "metadata": {},
     "output_type": "execute_result"
    }
   ],
   "source": [
    "signal.iloc[0,:]"
   ]
  },
  {
   "cell_type": "markdown",
   "id": "aa8f662a-ba40-4b43-9394-4405577d486a",
   "metadata": {},
   "source": [
    "# Aggregating Data for Graphs"
   ]
  },
  {
   "cell_type": "code",
   "execution_count": 65,
   "id": "895b7051-3533-4f68-8d8a-68bbf5c1a5d6",
   "metadata": {},
   "outputs": [],
   "source": [
    "def get_graph_features(node_features_list:list[np.array], edge_features_list:list[np.array], edge_index_list:list[np.array], node_label:list[np.array], jetmultiplicity:list[int], inv_mass:list[float], label:int) -> dict:\n",
    "    '''\n",
    "    Extract node features,  edge features and edge index for each event and put then into a dictionary\n",
    "    representating each event and return a list containing the dictionaries.\n",
    "\n",
    "    Parameters:\n",
    "    -----------\n",
    "    node_features_list : list\n",
    "        Each element in the list is a 2D list of shape (3, num_features) \n",
    "        containing node features for isophoton, jet1, and jet2.\n",
    "\n",
    "    edge_features_list : list\n",
    "        Each element in the list is a 1D list of size 3 \n",
    "        containing edge features for isophoton, jet1, and jet2.\n",
    "\n",
    "    edge_index_list : list\n",
    "        2D list of shape (2, num_edges), connectivity information.\n",
    "\n",
    "    Returns:\n",
    "    --------\n",
    "    event_graph : list of dictionaries\n",
    "        Each element contains:\n",
    "            - 'nodes': 2D list of shape (3, num_features), node features for isophoton, jet1, and jet2.\n",
    "            - 'edges': 2D list of shape (num_edges, edge_features), edge features (Delta R) for the fully connected graph.\n",
    "            - 'edge_index': 2D list of shape (2, num_edges), connectivity information.\n",
    "    '''\n",
    "    event_graphs = []\n",
    "    if len(node_features_list) == len(edge_features_list) == len(edge_index_list) == len(node_label) == len(jetmultiplicity) == len(inv_mass):\n",
    "        for i in range(len(node_features_list)):\n",
    "            graph_dict = {\n",
    "                'nodes' : node_features_list[i].tolist(),\n",
    "                'edges' : edge_features_list[i].tolist(),\n",
    "                'edge_index' : edge_index_list[i].tolist(),\n",
    "                'node_labels' : node_label[i].tolist(),\n",
    "                'jetmultiplicity' : jetmultiplicity[i],\n",
    "                'inv_mass' : inv_mass[i],\n",
    "                'label' : label\n",
    "            }\n",
    "            event_graphs.append(graph_dict)\n",
    "        return event_graphs\n",
    "\n",
    "    else:\n",
    "        print('***Number of Events in the lists do not match***')"
   ]
  },
  {
   "cell_type": "code",
   "execution_count": 66,
   "id": "651c8f1b-53b7-4899-b663-5486ad150503",
   "metadata": {},
   "outputs": [],
   "source": [
    "signal_graphs_dict = get_graph_features(signal_node_features, signal_edge_attr, signal_edge_index, signal_node_labels, signal.jetmultiplicity.values.tolist(), signal_invMass, 1)\n",
    "background_graphs_dict = get_graph_features(background_node_features, background_edge_attr, background_edge_index, background_node_labels, background.jetmultiplicity.values.tolist(), background_invMass, 0)"
   ]
  },
  {
   "cell_type": "code",
   "execution_count": 67,
   "id": "f47086d2-38b7-4b4c-bcf1-d71056cfd9e6",
   "metadata": {},
   "outputs": [
    {
     "name": "stdout",
     "output_type": "stream",
     "text": [
      "119966\n",
      "7\n"
     ]
    }
   ],
   "source": [
    "print(len(signal_graphs_dict))\n",
    "print(len(signal_graphs_dict[0]))"
   ]
  },
  {
   "cell_type": "code",
   "execution_count": 68,
   "id": "ff513c71-7909-4712-aa2e-1e8602601ec1",
   "metadata": {},
   "outputs": [
    {
     "data": {
      "text/plain": [
       "{'nodes': [[-2.22728, 0.220275, 22.3859, 105.017]],\n",
       " 'edges': [],\n",
       " 'edge_index': [],\n",
       " 'node_labels': [0],\n",
       " 'jetmultiplicity': 2,\n",
       " 'inv_mass': 34.334697499497636,\n",
       " 'label': 1}"
      ]
     },
     "execution_count": 68,
     "metadata": {},
     "output_type": "execute_result"
    }
   ],
   "source": [
    "signal_graphs_dict[0]"
   ]
  },
  {
   "cell_type": "code",
   "execution_count": 69,
   "id": "d0063e17-a316-453f-940e-ddcd0386158a",
   "metadata": {},
   "outputs": [
    {
     "name": "stdout",
     "output_type": "stream",
     "text": [
      "126444\n",
      "7\n"
     ]
    }
   ],
   "source": [
    "print(len(background_graphs_dict))\n",
    "print(len(background_graphs_dict[0]))"
   ]
  },
  {
   "cell_type": "code",
   "execution_count": 70,
   "id": "5eb4f554-a248-405f-8052-a1c771311be3",
   "metadata": {},
   "outputs": [
    {
     "data": {
      "text/plain": [
       "{'nodes': [[1.65831, 2.39558, 30.7174, 83.5648]],\n",
       " 'edges': [],\n",
       " 'edge_index': [],\n",
       " 'node_labels': [1],\n",
       " 'jetmultiplicity': 2,\n",
       " 'inv_mass': 74.9692480591549,\n",
       " 'label': 0}"
      ]
     },
     "execution_count": 70,
     "metadata": {},
     "output_type": "execute_result"
    }
   ],
   "source": [
    "background_graphs_dict[0]"
   ]
  },
  {
   "cell_type": "markdown",
   "id": "7c3e5146-14ec-4c66-ba54-961ca00c3b39",
   "metadata": {},
   "source": [
    "# Exporting the Dictionaries as JSON File"
   ]
  },
  {
   "cell_type": "code",
   "execution_count": 71,
   "id": "0043b242-78b5-46e7-b020-ac384467249a",
   "metadata": {},
   "outputs": [],
   "source": [
    "import json\n",
    "with open('signal_btagged.json', 'w') as file:\n",
    "    json.dump(signal_graphs_dict, file)"
   ]
  },
  {
   "cell_type": "code",
   "execution_count": 72,
   "id": "4c5970b4-205d-4f36-97d2-a7edce5b4cd1",
   "metadata": {},
   "outputs": [],
   "source": [
    "with open('background_btagged.json', 'w') as file:\n",
    "    json.dump(background_graphs_dict, file)"
   ]
  },
  {
   "cell_type": "code",
   "execution_count": 76,
   "id": "70d1776a-13ff-485c-97b2-81e47ebe3cbe",
   "metadata": {},
   "outputs": [
    {
     "name": "stdout",
     "output_type": "stream",
     "text": [
      "{'nodes': [[1.12555, -1.84877, 96.2593, 163.948], [1.51451, -1.49654, 34.9717, 83.3572]], 'edges': [0.5247436083460189], 'edge_index': [[0], [1]], 'node_labels': [1, 1], 'jetmultiplicity': 5, 'inv_mass': 539.1108908891305, 'label': 1}\n"
     ]
    }
   ],
   "source": [
    "with open('signal_btagged.json', 'r') as file:\n",
    "    loaded_data = json.load(file)\n",
    "\n",
    "print(loaded_data[3])"
   ]
  },
  {
   "cell_type": "code",
   "execution_count": null,
   "id": "d9e42ccf-4c22-40b4-93f3-47f123427481",
   "metadata": {},
   "outputs": [],
   "source": []
  },
  {
   "cell_type": "code",
   "execution_count": null,
   "id": "36815a77-6900-434a-acd1-200e0a51cd1a",
   "metadata": {},
   "outputs": [],
   "source": []
  }
 ],
 "metadata": {
  "kernelspec": {
   "display_name": "Python 3",
   "language": "python",
   "name": "python3"
  },
  "language_info": {
   "codemirror_mode": {
    "name": "ipython",
    "version": 3
   },
   "file_extension": ".py",
   "mimetype": "text/x-python",
   "name": "python",
   "nbconvert_exporter": "python",
   "pygments_lexer": "ipython3",
   "version": "3.10.16"
  }
 },
 "nbformat": 4,
 "nbformat_minor": 5
}
