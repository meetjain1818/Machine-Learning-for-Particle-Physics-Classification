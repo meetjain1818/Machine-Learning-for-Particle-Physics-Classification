{
 "cells": [
  {
   "cell_type": "code",
   "execution_count": 30,
   "id": "fa2d7aad-f610-4348-ad7a-a8894edc6476",
   "metadata": {},
   "outputs": [],
   "source": [
    "import json\n",
    "import pandas as pd\n",
    "import numpy as np\n",
    "import matplotlib.pyplot as plt"
   ]
  },
  {
   "cell_type": "code",
   "execution_count": 130,
   "id": "099276d0-4efe-4cc2-9d70-0b9f8b729abf",
   "metadata": {},
   "outputs": [],
   "source": [
    "with open('signal_btagged.json', 'r') as file:\n",
    "    signal = json.load(file)\n",
    "\n",
    "with open('background_btagged.json', 'r') as file:\n",
    "    background = json.load(file)"
   ]
  },
  {
   "cell_type": "code",
   "execution_count": 131,
   "id": "95ff3cde-8a55-4de3-adbd-40fa983c6cf7",
   "metadata": {},
   "outputs": [
    {
     "data": {
      "text/plain": [
       "119966"
      ]
     },
     "execution_count": 131,
     "metadata": {},
     "output_type": "execute_result"
    }
   ],
   "source": [
    "len(signal)"
   ]
  },
  {
   "cell_type": "code",
   "execution_count": 132,
   "id": "30d6b58e-6451-48cc-8205-288474d29cf7",
   "metadata": {},
   "outputs": [
    {
     "data": {
      "text/plain": [
       "126444"
      ]
     },
     "execution_count": 132,
     "metadata": {},
     "output_type": "execute_result"
    }
   ],
   "source": [
    "len(background)"
   ]
  },
  {
   "cell_type": "code",
   "execution_count": 133,
   "id": "487f69df-42ac-4743-9d44-cff7e39db410",
   "metadata": {},
   "outputs": [
    {
     "data": {
      "text/plain": [
       "{'nodes': [[0.936348, -0.56809, 41.6913, 61.3426]],\n",
       " 'edges': [],\n",
       " 'edge_index': [],\n",
       " 'node_labels': [0],\n",
       " 'jetmultiplicity': 1,\n",
       " 'inv_mass': 64.13575059310897,\n",
       " 'label': 1}"
      ]
     },
     "execution_count": 133,
     "metadata": {},
     "output_type": "execute_result"
    }
   ],
   "source": [
    "signal[34]"
   ]
  },
  {
   "cell_type": "code",
   "execution_count": 134,
   "id": "81dcf653-1ac9-48ea-83bc-488db183eab1",
   "metadata": {},
   "outputs": [],
   "source": [
    "def find_node_count(x:list[dict]) -> list[dict]:\n",
    "    count = []\n",
    "    \n",
    "    for i, event in enumerate(x):\n",
    "        isophoton_count = event['node_labels'].count(0)\n",
    "        if (isophoton_count >= 1) & (len(event['node_labels']) >= 3):\n",
    "        # if (isophoton_count >= 2):\n",
    "        # if True:\n",
    "            count.append(len(event['node_labels']))\n",
    "    return np.array(count)"
   ]
  },
  {
   "cell_type": "code",
   "execution_count": 135,
   "id": "bff96e23-05bf-4fad-85f7-962c4172e3e0",
   "metadata": {},
   "outputs": [],
   "source": [
    "signal_node_count = find_node_count(signal)\n",
    "background_node_count = find_node_count(background)"
   ]
  },
  {
   "cell_type": "code",
   "execution_count": 136,
   "id": "678cc069-000a-4866-aa6f-b3bb0a48041a",
   "metadata": {},
   "outputs": [
    {
     "data": {
      "text/plain": [
       "1818"
      ]
     },
     "execution_count": 136,
     "metadata": {},
     "output_type": "execute_result"
    }
   ],
   "source": [
    "len(signal_node_count)"
   ]
  },
  {
   "cell_type": "code",
   "execution_count": 137,
   "id": "a482b916-260c-4220-88ed-a590588a6d07",
   "metadata": {},
   "outputs": [
    {
     "data": {
      "text/plain": [
       "2012"
      ]
     },
     "execution_count": 137,
     "metadata": {},
     "output_type": "execute_result"
    }
   ],
   "source": [
    "len(background_node_count)"
   ]
  },
  {
   "cell_type": "code",
   "execution_count": 1,
   "id": "551c9541-a570-4f09-9bf2-a62bc8f85cd6",
   "metadata": {},
   "outputs": [
    {
     "data": {
      "text/plain": [
       "3830"
      ]
     },
     "execution_count": 1,
     "metadata": {},
     "output_type": "execute_result"
    }
   ],
   "source": [
    "1818+2012"
   ]
  },
  {
   "cell_type": "code",
   "execution_count": 138,
   "id": "b6080bfb-6ce5-4382-be5e-e1befec6b637",
   "metadata": {},
   "outputs": [
    {
     "data": {
      "text/plain": [
       "0.029984956691488734"
      ]
     },
     "execution_count": 138,
     "metadata": {},
     "output_type": "execute_result"
    }
   ],
   "source": [
    "signal_node_count.var()"
   ]
  },
  {
   "cell_type": "code",
   "execution_count": 139,
   "id": "f9cc9c2a-4257-45cc-821d-c2fdaf9b8696",
   "metadata": {},
   "outputs": [
    {
     "data": {
      "text/plain": [
       "0.03265496484314787"
      ]
     },
     "execution_count": 139,
     "metadata": {},
     "output_type": "execute_result"
    }
   ],
   "source": [
    "background_node_count.var()"
   ]
  },
  {
   "cell_type": "code",
   "execution_count": 140,
   "id": "5878cd79-f437-430c-bdcd-13af987ac271",
   "metadata": {},
   "outputs": [
    {
     "data": {
      "image/png": "[encoded data removed]",
      "text/plain": [
       "<Figure size 640x480 with 1 Axes>"
      ]
     },
     "metadata": {},
     "output_type": "display_data"
    }
   ],
   "source": [
    "plt.hist(signal_node_count, histtype = 'step', bins = [0,1,2,3,4,5,6,7,8,9,10,11,12,13], label = 'Signal')\n",
    "plt.hist(background_node_count, histtype = 'step', bins = [0,1,2,3,4,5,6,7,8,9,10,11,12,13], label = 'Background')\n",
    "plt.legend()\n",
    "plt.show()"
   ]
  },
  {
   "cell_type": "code",
   "execution_count": 141,
   "id": "9e1cbf7c-940e-4654-84f6-25131852796c",
   "metadata": {},
   "outputs": [
    {
     "data": {
      "text/plain": [
       "13"
      ]
     },
     "execution_count": 141,
     "metadata": {},
     "output_type": "execute_result"
    }
   ],
   "source": [
    "np.sum((node_count > 5))"
   ]
  },
  {
   "cell_type": "code",
   "execution_count": 125,
   "id": "223724bc-9bd0-41c3-be54-22c624e13a8d",
   "metadata": {},
   "outputs": [],
   "source": [
    "A = np.array([[ 105.017     ,21.845      ,4.89128 ,-102.603  ],\n",
    " [  66.2581     ,3.77066  ,-22.1661   ,-62.3264 ]])"
   ]
  },
  {
   "cell_type": "code",
   "execution_count": 126,
   "id": "71c7d968-7367-40e1-bc46-3e871b959926",
   "metadata": {},
   "outputs": [
    {
     "data": {
      "text/plain": [
       "array([[ 105.017  ,   21.845  ,    4.89128, -102.603  ],\n",
       "       [  66.2581 ,    3.77066,  -22.1661 ,  -62.3264 ]])"
      ]
     },
     "execution_count": 126,
     "metadata": {},
     "output_type": "execute_result"
    }
   ],
   "source": [
    "A"
   ]
  },
  {
   "cell_type": "code",
   "execution_count": 127,
   "id": "bf7a925b-caa7-45f9-a2c0-8f20f2b18bd4",
   "metadata": {},
   "outputs": [],
   "source": [
    "B = (np.sum(A, axis = 0))**2"
   ]
  },
  {
   "cell_type": "code",
   "execution_count": 128,
   "id": "b91fba2a-d3f8-4732-a739-99bd996fd8ca",
   "metadata": {},
   "outputs": [
    {
     "data": {
      "text/plain": [
       "array([29335.15988001,   656.16203724,   298.41940603, 27201.70698436])"
      ]
     },
     "execution_count": 128,
     "metadata": {},
     "output_type": "execute_result"
    }
   ],
   "source": [
    "B"
   ]
  },
  {
   "cell_type": "code",
   "execution_count": 129,
   "id": "d9e32148-178a-4c45-91df-5270ca3bf435",
   "metadata": {},
   "outputs": [
    {
     "data": {
      "text/plain": [
       "34.334697499497636"
      ]
     },
     "execution_count": 129,
     "metadata": {},
     "output_type": "execute_result"
    }
   ],
   "source": [
    "np.sqrt(B[0] - np.sum(B[1:]))"
   ]
  },
  {
   "cell_type": "code",
   "execution_count": 119,
   "id": "49e19862-daab-496f-8082-5dd15211b509",
   "metadata": {},
   "outputs": [
    {
     "data": {
      "text/plain": [
       "19.729166226680743"
      ]
     },
     "execution_count": 119,
     "metadata": {},
     "output_type": "execute_result"
    }
   ],
   "source": [
    "np.sqrt(400-10.76)"
   ]
  },
  {
   "cell_type": "code",
   "execution_count": null,
   "id": "b6e1aa82-5978-487f-8cd1-5a7a2ca79a37",
   "metadata": {},
   "outputs": [],
   "source": []
  }
 ],
 "metadata": {
  "kernelspec": {
   "display_name": "Python 3",
   "language": "python",
   "name": "python3"
  },
  "language_info": {
   "codemirror_mode": {
    "name": "ipython",
    "version": 3
   },
   "file_extension": ".py",
   "mimetype": "text/x-python",
   "name": "python",
   "nbconvert_exporter": "python",
   "pygments_lexer": "ipython3",
   "version": "3.10.10"
  }
 },
 "nbformat": 4,
 "nbformat_minor": 5
}
