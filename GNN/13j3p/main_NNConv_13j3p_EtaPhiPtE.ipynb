{
 "cells": [
  {
   "cell_type": "code",
   "execution_count": 3,
   "id": "bd4d395f-6b15-4304-8ea0-64716048ec56",
   "metadata": {},
   "outputs": [],
   "source": [
    "import numpy as np\n",
    "import torch\n",
    "import matplotlib.pyplot as plt\n",
    "import torch_geometric\n",
    "from torch_geometric.loader import DataLoader\n",
    "import pandas as pd\n",
    "import random\n",
    "import os\n",
    "from torch_geometric.data import Data\n",
    "import networkx as nx\n",
    "from torch_geometric.utils import to_networkx\n",
    "import torch.nn.functional as F\n",
    "from torch_geometric.nn import global_mean_pool, NNConv\n",
    "from tqdm import tqdm\n",
    "import torch.optim as optim\n",
    "import json\n",
    "import pprint"
   ]
  },
  {
   "cell_type": "code",
   "execution_count": 4,
   "id": "dd6fe0fe-3aa3-46e3-b3f4-8d178b254439",
   "metadata": {},
   "outputs": [
    {
     "name": "stdout",
     "output_type": "stream",
     "text": [
      "Using device: cpu\n",
      "System CUDA Status:\n",
      "- PyTorch version: 2.2.0\n",
      "- CUDA Version: 12.1\n",
      "- CUDA available: False\n",
      "\n",
      "PyTorch Geometric Status:\n",
      "- PyG version: 2.6.1\n",
      "- torch_scatter: Installed\n"
     ]
    },
    {
     "ename": "OSError",
     "evalue": "/system/conda/miniconda3/envs/cloudspace/lib/python3.10/site-packages/libpyg.so: undefined symbol: _ZN5torch3jit17parseSchemaOrNameERKSsb",
     "output_type": "error",
     "traceback": [
      "\u001b[0;31m---------------------------------------------------------------------------\u001b[0m",
      "\u001b[0;31mOSError\u001b[0m                                   Traceback (most recent call last)",
      "Cell \u001b[0;32mIn[4], line 4\u001b[0m\n\u001b[1;32m      2\u001b[0m seed \u001b[38;5;241m=\u001b[39m \u001b[38;5;241m1234\u001b[39m\n\u001b[1;32m      3\u001b[0m BATCH_SIZE \u001b[38;5;241m=\u001b[39m \u001b[38;5;241m70\u001b[39m\n\u001b[0;32m----> 4\u001b[0m device \u001b[38;5;241m=\u001b[39m \u001b[43minit_setup\u001b[49m\u001b[43m(\u001b[49m\u001b[43mbatch_size\u001b[49m\u001b[43m \u001b[49m\u001b[38;5;241;43m=\u001b[39;49m\u001b[43m \u001b[49m\u001b[43mBATCH_SIZE\u001b[49m\u001b[43m,\u001b[49m\u001b[43m \u001b[49m\n\u001b[1;32m      5\u001b[0m \u001b[43m           \u001b[49m\u001b[43muse_cuda\u001b[49m\u001b[43m \u001b[49m\u001b[38;5;241;43m=\u001b[39;49m\u001b[43m \u001b[49m\u001b[38;5;28;43;01mTrue\u001b[39;49;00m\u001b[43m,\u001b[49m\u001b[43m \u001b[49m\n\u001b[1;32m      6\u001b[0m \u001b[43m           \u001b[49m\u001b[43mrandom_seed\u001b[49m\u001b[43m \u001b[49m\u001b[38;5;241;43m=\u001b[39;49m\u001b[43m \u001b[49m\u001b[43mseed\u001b[49m\u001b[43m)\u001b[49m\n",
      "File \u001b[0;32m~/GNN/13j3p/helper_function_module.py:101\u001b[0m, in \u001b[0;36minit_setup\u001b[0;34m(batch_size, use_cuda, random_seed)\u001b[0m\n\u001b[1;32m     99\u001b[0m     \u001b[38;5;28mprint\u001b[39m(\u001b[38;5;124mf\u001b[39m\u001b[38;5;124m\"\u001b[39m\u001b[38;5;124mGPU Name: \u001b[39m\u001b[38;5;132;01m{\u001b[39;00mtorch\u001b[38;5;241m.\u001b[39mcuda\u001b[38;5;241m.\u001b[39mget_device_name()\u001b[38;5;132;01m}\u001b[39;00m\u001b[38;5;124m\"\u001b[39m)\n\u001b[1;32m    100\u001b[0m     \u001b[38;5;28mprint\u001b[39m(\u001b[38;5;124mf\u001b[39m\u001b[38;5;124m\"\u001b[39m\u001b[38;5;124mGPU Memory Usage: \u001b[39m\u001b[38;5;132;01m{\u001b[39;00mtorch\u001b[38;5;241m.\u001b[39mcuda\u001b[38;5;241m.\u001b[39mmemory_allocated()\u001b[38;5;241m/\u001b[39m\u001b[38;5;241m1024\u001b[39m\u001b[38;5;241m*\u001b[39m\u001b[38;5;241m*\u001b[39m\u001b[38;5;241m2\u001b[39m\u001b[38;5;132;01m:\u001b[39;00m\u001b[38;5;124m.2f\u001b[39m\u001b[38;5;132;01m}\u001b[39;00m\u001b[38;5;124m MB\u001b[39m\u001b[38;5;124m\"\u001b[39m)\n\u001b[0;32m--> 101\u001b[0m \u001b[43mcheck_pyg_cuda_status\u001b[49m\u001b[43m(\u001b[49m\u001b[43m)\u001b[49m\n\u001b[1;32m    102\u001b[0m set_seed(random_seed)\n\u001b[1;32m    103\u001b[0m \u001b[38;5;28;01mreturn\u001b[39;00m device\n",
      "File \u001b[0;32m~/GNN/13j3p/helper_function_module.py:42\u001b[0m, in \u001b[0;36mcheck_pyg_cuda_status\u001b[0;34m()\u001b[0m\n\u001b[1;32m     39\u001b[0m     \u001b[38;5;28mprint\u001b[39m(\u001b[38;5;124m\"\u001b[39m\u001b[38;5;124m- torch_scatter: Not installed\u001b[39m\u001b[38;5;124m\"\u001b[39m)\n\u001b[1;32m     41\u001b[0m \u001b[38;5;28;01mtry\u001b[39;00m:\n\u001b[0;32m---> 42\u001b[0m     \u001b[38;5;28;01mimport\u001b[39;00m\u001b[38;5;250m \u001b[39m\u001b[38;5;21;01mtorch_sparse\u001b[39;00m\n\u001b[1;32m     43\u001b[0m     \u001b[38;5;28mprint\u001b[39m(\u001b[38;5;124m\"\u001b[39m\u001b[38;5;124m- torch_sparse: Installed\u001b[39m\u001b[38;5;124m\"\u001b[39m)\n\u001b[1;32m     44\u001b[0m \u001b[38;5;28;01mexcept\u001b[39;00m \u001b[38;5;167;01mImportError\u001b[39;00m:\n",
      "File \u001b[0;32m/home/zeus/miniconda3/envs/cloudspace/lib/python3.10/site-packages/torch_sparse/__init__.py:39\u001b[0m\n\u001b[1;32m     31\u001b[0m     \u001b[38;5;28;01mif\u001b[39;00m t_major \u001b[38;5;241m!=\u001b[39m major:\n\u001b[1;32m     32\u001b[0m         \u001b[38;5;28;01mraise\u001b[39;00m \u001b[38;5;167;01mRuntimeError\u001b[39;00m(\n\u001b[1;32m     33\u001b[0m             \u001b[38;5;124mf\u001b[39m\u001b[38;5;124m'\u001b[39m\u001b[38;5;124mDetected that PyTorch and torch_sparse were compiled with \u001b[39m\u001b[38;5;124m'\u001b[39m\n\u001b[1;32m     34\u001b[0m             \u001b[38;5;124mf\u001b[39m\u001b[38;5;124m'\u001b[39m\u001b[38;5;124mdifferent CUDA versions. PyTorch has CUDA version \u001b[39m\u001b[38;5;124m'\u001b[39m\n\u001b[1;32m     35\u001b[0m             \u001b[38;5;124mf\u001b[39m\u001b[38;5;124m'\u001b[39m\u001b[38;5;132;01m{\u001b[39;00mt_major\u001b[38;5;132;01m}\u001b[39;00m\u001b[38;5;124m.\u001b[39m\u001b[38;5;132;01m{\u001b[39;00mt_minor\u001b[38;5;132;01m}\u001b[39;00m\u001b[38;5;124m and torch_sparse has CUDA version \u001b[39m\u001b[38;5;124m'\u001b[39m\n\u001b[1;32m     36\u001b[0m             \u001b[38;5;124mf\u001b[39m\u001b[38;5;124m'\u001b[39m\u001b[38;5;132;01m{\u001b[39;00mmajor\u001b[38;5;132;01m}\u001b[39;00m\u001b[38;5;124m.\u001b[39m\u001b[38;5;132;01m{\u001b[39;00mminor\u001b[38;5;132;01m}\u001b[39;00m\u001b[38;5;124m. Please reinstall the torch_sparse that \u001b[39m\u001b[38;5;124m'\u001b[39m\n\u001b[1;32m     37\u001b[0m             \u001b[38;5;124mf\u001b[39m\u001b[38;5;124m'\u001b[39m\u001b[38;5;124mmatches your PyTorch install.\u001b[39m\u001b[38;5;124m'\u001b[39m)\n\u001b[0;32m---> 39\u001b[0m \u001b[38;5;28;01mfrom\u001b[39;00m\u001b[38;5;250m \u001b[39m\u001b[38;5;21;01m.\u001b[39;00m\u001b[38;5;21;01mstorage\u001b[39;00m\u001b[38;5;250m \u001b[39m\u001b[38;5;28;01mimport\u001b[39;00m SparseStorage  \u001b[38;5;66;03m# noqa\u001b[39;00m\n\u001b[1;32m     40\u001b[0m \u001b[38;5;28;01mfrom\u001b[39;00m\u001b[38;5;250m \u001b[39m\u001b[38;5;21;01m.\u001b[39;00m\u001b[38;5;21;01mtensor\u001b[39;00m\u001b[38;5;250m \u001b[39m\u001b[38;5;28;01mimport\u001b[39;00m SparseTensor  \u001b[38;5;66;03m# noqa\u001b[39;00m\n\u001b[1;32m     41\u001b[0m \u001b[38;5;28;01mfrom\u001b[39;00m\u001b[38;5;250m \u001b[39m\u001b[38;5;21;01m.\u001b[39;00m\u001b[38;5;21;01mtranspose\u001b[39;00m\u001b[38;5;250m \u001b[39m\u001b[38;5;28;01mimport\u001b[39;00m t  \u001b[38;5;66;03m# noqa\u001b[39;00m\n",
      "File \u001b[0;32m/home/zeus/miniconda3/envs/cloudspace/lib/python3.10/site-packages/torch_sparse/storage.py:7\u001b[0m\n\u001b[1;32m      4\u001b[0m \u001b[38;5;28;01mimport\u001b[39;00m\u001b[38;5;250m \u001b[39m\u001b[38;5;21;01mtorch\u001b[39;00m\n\u001b[1;32m      5\u001b[0m \u001b[38;5;28;01mfrom\u001b[39;00m\u001b[38;5;250m \u001b[39m\u001b[38;5;21;01mtorch_scatter\u001b[39;00m\u001b[38;5;250m \u001b[39m\u001b[38;5;28;01mimport\u001b[39;00m scatter_add, segment_csr\n\u001b[0;32m----> 7\u001b[0m \u001b[38;5;28;01mfrom\u001b[39;00m\u001b[38;5;250m \u001b[39m\u001b[38;5;21;01mtorch_sparse\u001b[39;00m\u001b[38;5;21;01m.\u001b[39;00m\u001b[38;5;21;01mutils\u001b[39;00m\u001b[38;5;250m \u001b[39m\u001b[38;5;28;01mimport\u001b[39;00m Final, index_sort\n\u001b[1;32m      9\u001b[0m layouts: Final[List[\u001b[38;5;28mstr\u001b[39m]] \u001b[38;5;241m=\u001b[39m [\u001b[38;5;124m'\u001b[39m\u001b[38;5;124mcoo\u001b[39m\u001b[38;5;124m'\u001b[39m, \u001b[38;5;124m'\u001b[39m\u001b[38;5;124mcsr\u001b[39m\u001b[38;5;124m'\u001b[39m, \u001b[38;5;124m'\u001b[39m\u001b[38;5;124mcsc\u001b[39m\u001b[38;5;124m'\u001b[39m]\n\u001b[1;32m     12\u001b[0m \u001b[38;5;28;01mdef\u001b[39;00m\u001b[38;5;250m \u001b[39m\u001b[38;5;21mget_layout\u001b[39m(layout: Optional[\u001b[38;5;28mstr\u001b[39m] \u001b[38;5;241m=\u001b[39m \u001b[38;5;28;01mNone\u001b[39;00m) \u001b[38;5;241m-\u001b[39m\u001b[38;5;241m>\u001b[39m \u001b[38;5;28mstr\u001b[39m:\n",
      "File \u001b[0;32m/home/zeus/miniconda3/envs/cloudspace/lib/python3.10/site-packages/torch_sparse/utils.py:5\u001b[0m\n\u001b[1;32m      1\u001b[0m \u001b[38;5;28;01mfrom\u001b[39;00m\u001b[38;5;250m \u001b[39m\u001b[38;5;21;01mtyping\u001b[39;00m\u001b[38;5;250m \u001b[39m\u001b[38;5;28;01mimport\u001b[39;00m Any, Optional, Tuple\n\u001b[1;32m      3\u001b[0m \u001b[38;5;28;01mimport\u001b[39;00m\u001b[38;5;250m \u001b[39m\u001b[38;5;21;01mtorch\u001b[39;00m\n\u001b[0;32m----> 5\u001b[0m \u001b[38;5;28;01mimport\u001b[39;00m\u001b[38;5;250m \u001b[39m\u001b[38;5;21;01mtorch_sparse\u001b[39;00m\u001b[38;5;21;01m.\u001b[39;00m\u001b[38;5;21;01mtyping\u001b[39;00m\n\u001b[1;32m      6\u001b[0m \u001b[38;5;28;01mfrom\u001b[39;00m\u001b[38;5;250m \u001b[39m\u001b[38;5;21;01mtorch_sparse\u001b[39;00m\u001b[38;5;21;01m.\u001b[39;00m\u001b[38;5;21;01mtyping\u001b[39;00m\u001b[38;5;250m \u001b[39m\u001b[38;5;28;01mimport\u001b[39;00m pyg_lib\n\u001b[1;32m      8\u001b[0m \u001b[38;5;28;01mtry\u001b[39;00m:\n",
      "File \u001b[0;32m/home/zeus/miniconda3/envs/cloudspace/lib/python3.10/site-packages/torch_sparse/typing.py:2\u001b[0m\n\u001b[1;32m      1\u001b[0m \u001b[38;5;28;01mtry\u001b[39;00m:\n\u001b[0;32m----> 2\u001b[0m     \u001b[38;5;28;01mimport\u001b[39;00m\u001b[38;5;250m \u001b[39m\u001b[38;5;21;01mpyg_lib\u001b[39;00m  \u001b[38;5;66;03m# noqa\u001b[39;00m\n\u001b[1;32m      3\u001b[0m     WITH_PYG_LIB \u001b[38;5;241m=\u001b[39m \u001b[38;5;28;01mTrue\u001b[39;00m\n\u001b[1;32m      4\u001b[0m     WITH_INDEX_SORT \u001b[38;5;241m=\u001b[39m \u001b[38;5;28mhasattr\u001b[39m(pyg_lib\u001b[38;5;241m.\u001b[39mops, \u001b[38;5;124m'\u001b[39m\u001b[38;5;124mindex_sort\u001b[39m\u001b[38;5;124m'\u001b[39m)\n",
      "File \u001b[0;32m/home/zeus/miniconda3/envs/cloudspace/lib/python3.10/site-packages/pyg_lib/__init__.py:34\u001b[0m\n\u001b[1;32m     30\u001b[0m     \u001b[38;5;28;01melse\u001b[39;00m:\n\u001b[1;32m     31\u001b[0m         torch\u001b[38;5;241m.\u001b[39mops\u001b[38;5;241m.\u001b[39mload_library(spec\u001b[38;5;241m.\u001b[39morigin)\n\u001b[0;32m---> 34\u001b[0m \u001b[43mload_library\u001b[49m\u001b[43m(\u001b[49m\u001b[38;5;124;43m'\u001b[39;49m\u001b[38;5;124;43mlibpyg\u001b[39;49m\u001b[38;5;124;43m'\u001b[39;49m\u001b[43m)\u001b[49m\n\u001b[1;32m     36\u001b[0m \u001b[38;5;28;01mimport\u001b[39;00m\u001b[38;5;250m \u001b[39m\u001b[38;5;21;01mpyg_lib\u001b[39;00m\u001b[38;5;21;01m.\u001b[39;00m\u001b[38;5;21;01mops\u001b[39;00m  \u001b[38;5;66;03m# noqa\u001b[39;00m\n\u001b[1;32m     37\u001b[0m \u001b[38;5;28;01mimport\u001b[39;00m\u001b[38;5;250m \u001b[39m\u001b[38;5;21;01mpyg_lib\u001b[39;00m\u001b[38;5;21;01m.\u001b[39;00m\u001b[38;5;21;01mpartition\u001b[39;00m  \u001b[38;5;66;03m# noqa\u001b[39;00m\n",
      "File \u001b[0;32m/home/zeus/miniconda3/envs/cloudspace/lib/python3.10/site-packages/pyg_lib/__init__.py:31\u001b[0m, in \u001b[0;36mload_library\u001b[0;34m(lib_name)\u001b[0m\n\u001b[1;32m     29\u001b[0m     warnings\u001b[38;5;241m.\u001b[39mwarn(\u001b[38;5;124mf\u001b[39m\u001b[38;5;124m\"\u001b[39m\u001b[38;5;124mCould not find shared library \u001b[39m\u001b[38;5;124m'\u001b[39m\u001b[38;5;132;01m{\u001b[39;00mlib_name\u001b[38;5;132;01m}\u001b[39;00m\u001b[38;5;124m'\u001b[39m\u001b[38;5;124m\"\u001b[39m)\n\u001b[1;32m     30\u001b[0m \u001b[38;5;28;01melse\u001b[39;00m:\n\u001b[0;32m---> 31\u001b[0m     \u001b[43mtorch\u001b[49m\u001b[38;5;241;43m.\u001b[39;49m\u001b[43mops\u001b[49m\u001b[38;5;241;43m.\u001b[39;49m\u001b[43mload_library\u001b[49m\u001b[43m(\u001b[49m\u001b[43mspec\u001b[49m\u001b[38;5;241;43m.\u001b[39;49m\u001b[43morigin\u001b[49m\u001b[43m)\u001b[49m\n",
      "File \u001b[0;32m/home/zeus/miniconda3/envs/cloudspace/lib/python3.10/site-packages/torch/_ops.py:933\u001b[0m, in \u001b[0;36m_Ops.load_library\u001b[0;34m(self, path)\u001b[0m\n\u001b[1;32m    928\u001b[0m path \u001b[38;5;241m=\u001b[39m _utils_internal\u001b[38;5;241m.\u001b[39mresolve_library_path(path)\n\u001b[1;32m    929\u001b[0m \u001b[38;5;28;01mwith\u001b[39;00m dl_open_guard():\n\u001b[1;32m    930\u001b[0m     \u001b[38;5;66;03m# Import the shared library into the process, thus running its\u001b[39;00m\n\u001b[1;32m    931\u001b[0m     \u001b[38;5;66;03m# static (global) initialization code in order to register custom\u001b[39;00m\n\u001b[1;32m    932\u001b[0m     \u001b[38;5;66;03m# operators with the JIT.\u001b[39;00m\n\u001b[0;32m--> 933\u001b[0m     \u001b[43mctypes\u001b[49m\u001b[38;5;241;43m.\u001b[39;49m\u001b[43mCDLL\u001b[49m\u001b[43m(\u001b[49m\u001b[43mpath\u001b[49m\u001b[43m)\u001b[49m\n\u001b[1;32m    934\u001b[0m \u001b[38;5;28mself\u001b[39m\u001b[38;5;241m.\u001b[39mloaded_libraries\u001b[38;5;241m.\u001b[39madd(path)\n",
      "File \u001b[0;32m/home/zeus/miniconda3/envs/cloudspace/lib/python3.10/ctypes/__init__.py:374\u001b[0m, in \u001b[0;36mCDLL.__init__\u001b[0;34m(self, name, mode, handle, use_errno, use_last_error, winmode)\u001b[0m\n\u001b[1;32m    371\u001b[0m \u001b[38;5;28mself\u001b[39m\u001b[38;5;241m.\u001b[39m_FuncPtr \u001b[38;5;241m=\u001b[39m _FuncPtr\n\u001b[1;32m    373\u001b[0m \u001b[38;5;28;01mif\u001b[39;00m handle \u001b[38;5;129;01mis\u001b[39;00m \u001b[38;5;28;01mNone\u001b[39;00m:\n\u001b[0;32m--> 374\u001b[0m     \u001b[38;5;28mself\u001b[39m\u001b[38;5;241m.\u001b[39m_handle \u001b[38;5;241m=\u001b[39m \u001b[43m_dlopen\u001b[49m\u001b[43m(\u001b[49m\u001b[38;5;28;43mself\u001b[39;49m\u001b[38;5;241;43m.\u001b[39;49m\u001b[43m_name\u001b[49m\u001b[43m,\u001b[49m\u001b[43m \u001b[49m\u001b[43mmode\u001b[49m\u001b[43m)\u001b[49m\n\u001b[1;32m    375\u001b[0m \u001b[38;5;28;01melse\u001b[39;00m:\n\u001b[1;32m    376\u001b[0m     \u001b[38;5;28mself\u001b[39m\u001b[38;5;241m.\u001b[39m_handle \u001b[38;5;241m=\u001b[39m handle\n",
      "\u001b[0;31mOSError\u001b[0m: /system/conda/miniconda3/envs/cloudspace/lib/python3.10/site-packages/libpyg.so: undefined symbol: _ZN5torch3jit17parseSchemaOrNameERKSsb"
     ]
    }
   ],
   "source": [
    "from helper_function_module import init_setup\n",
    "seed = 1234\n",
    "BATCH_SIZE = 70\n",
    "device = init_setup(batch_size = BATCH_SIZE, \n",
    "           use_cuda = True, \n",
    "           random_seed = seed)"
   ]
  },
  {
   "cell_type": "markdown",
   "id": "b2565f1d-0b84-454e-98a2-7abfda3e9873",
   "metadata": {},
   "source": [
    "# Importing the Main tabular data"
   ]
  },
  {
   "cell_type": "code",
   "execution_count": null,
   "id": "264f3914-d729-4a94-876e-28b304579cb9",
   "metadata": {},
   "outputs": [],
   "source": [
    "with open('json_data/signal_btag_label.json', 'r') as file:\n",
    "    signal = json.load(file)\n",
    "\n",
    "with open('json_data/background_btag_label.json', 'r') as file:\n",
    "    background = json.load(file)"
   ]
  },
  {
   "cell_type": "code",
   "execution_count": null,
   "id": "50bb1793-3339-4bf0-b5c9-2dd92c9ee57d",
   "metadata": {},
   "outputs": [],
   "source": [
    "pp = pprint.PrettyPrinter(indent=1)\n",
    "\n",
    "print(f\"Signal Event: {len(signal)}\")\n",
    "print(\"Example:\")\n",
    "pp.pprint(signal[np.random.randint(0, len(signal))])\n",
    "print(100*'~')\n",
    "\n",
    "print(f\"Background Event: {len(background)}\")\n",
    "print(\"Example:\")\n",
    "pp.pprint(background[np.random.randint(0, len(background))])"
   ]
  },
  {
   "cell_type": "markdown",
   "id": "b6c8654b-84c8-4308-977a-73eb55a8440c",
   "metadata": {},
   "source": [
    "# Converting Each Event into a PyG Graph Object"
   ]
  },
  {
   "cell_type": "code",
   "execution_count": null,
   "id": "9d7dbddd-f523-48a7-a3ef-ea12d2f9e2bc",
   "metadata": {},
   "outputs": [],
   "source": [
    "def convert_to_pyg_graph(graph):\n",
    "    \"\"\"\n",
    "    Convert the graph dictionary into a PyTorch Geometric Data object\n",
    "    and add graph-level features like jet_multiplicity, inv_mass, and the event label.\n",
    "\n",
    "    Parameters:\n",
    "    -----------\n",
    "    graph : dict\n",
    "        Dictionary containing 'nodes', 'edges', and 'edge_index', 'jet_multiplicity', 'inv_mass' for a single event.\n",
    "    label : int\n",
    "        The label of the event (1 for signal, 0 for background).\n",
    "\n",
    "    Returns:\n",
    "    --------\n",
    "    data : Data\n",
    "        PyTorch Geometric Data object containing the graph and additional features.\n",
    "    \"\"\"\n",
    "    # Extract node features, edge features, and edge index from the graph dictionary\n",
    "    event_num = torch.tensor(graph['eventno'], dtype=torch.long)\n",
    "    node_features = torch.tensor(graph['nodes'], dtype=torch.float)  # Shape: (3, num_features)\n",
    "    edge_index = torch.tensor(graph['edge_index'], dtype=torch.long)  # Shape: (2, num_edges)\n",
    "    edge_features = torch.tensor(graph['edges'], dtype=torch.float).view(-1,1)  # Shape: (num_edges, 1)\n",
    "    node_labels = torch.tensor(graph['node_labels'], dtype=torch.float).view(-1,1)\n",
    "    jet_btag_labels = torch.tensor(graph['jet_btag_label'], dtype=torch.float).view(-1,1)\n",
    "    \n",
    "    # Convert graph-level features (jet_multiplicity, inv_mass) and label to tensor\n",
    "    graph_level_features = torch.tensor([graph['jetmultiplicity'],\n",
    "                                         graph['inv_mass'],\n",
    "                                         np.array(graph['edges']).std(),\n",
    "                                        graph['node_labels'].count(0),\n",
    "                                        graph['jet_btag_label'].count(1)], dtype=torch.float).view(1, -1)\n",
    "    label_tensor = torch.tensor(graph['event_label'], dtype=torch.long)  # Event label (0 or 1)\n",
    "\n",
    "    # Create the PyTorch Geometric Data object\n",
    "    data = Data(\n",
    "        x=node_features,               # Node features (3, num_features)\n",
    "        edge_index=edge_index,         # Edge index (2, num_edges)\n",
    "        edge_attr=edge_features,       # Edge features (num_edges, 1)\n",
    "        y=label_tensor                 # Event label (0 or 1)\n",
    "    )\n",
    "\n",
    "    # Add custom graph-level features\n",
    "    data.eventno = event_num\n",
    "    data.jet_multiplicity = graph_level_features[0, 0]\n",
    "    data.inv_mass = graph_level_features[0, 1]\n",
    "    data.proximity_spread = graph_level_features[0, 2]\n",
    "    data.count_isophoton = graph_level_features[0, 3]\n",
    "    data.count_btag_jets = graph_level_features[0, 4]\n",
    "    data.node_label = node_labels \n",
    "    data.jet_btag_label = jet_btag_labels\n",
    "\n",
    "    return data\n",
    "\n",
    "def convert_all_to_pyg_graphs(graphs):\n",
    "    \"\"\"\n",
    "    Converts a list of event graphs to PyTorch Geometric-compatible Data objects.\n",
    "    Also adds the graph-level features 'jet_multiplicity', 'inv_mass' and event labels.\n",
    "\n",
    "    Parameters:\n",
    "    -----------\n",
    "    graphs : list of dicts\n",
    "        List containing dictionaries with node, edge information for each event.\n",
    "    dataframe : pd.DataFrame\n",
    "        DataFrame containing the event-level features like 'jetmultiplicity', 'invmass_4j1p', and 'label'.\n",
    "\n",
    "    Returns:\n",
    "    --------\n",
    "    pyg_graphs : list of Data\n",
    "        List of PyTorch Geometric Data objects with added graph-level features and labels.\n",
    "    \"\"\"\n",
    "    pyg_graphs = []\n",
    "    print('Initializing the process...')\n",
    "    with tqdm(total = len(graphs), desc = 'Progress', leave = True) as pbar:    \n",
    "        for i, graph in enumerate(graphs):\n",
    "            data = convert_to_pyg_graph(graph)\n",
    "            pyg_graphs.append(data)\n",
    "            pbar.update(1)\n",
    "    print('Process completely successfully :)')\n",
    "    return pyg_graphs"
   ]
  },
  {
   "cell_type": "code",
   "execution_count": null,
   "id": "60f3088d-4465-41af-9104-8b3258982c15",
   "metadata": {},
   "outputs": [],
   "source": [
    "signal_pyg_graphs = convert_all_to_pyg_graphs(signal)\n",
    "background_pyg_graphs = convert_all_to_pyg_graphs(background)"
   ]
  },
  {
   "cell_type": "code",
   "execution_count": null,
   "id": "ccabe211-d0c4-4e47-8a66-461acb044a36",
   "metadata": {},
   "outputs": [],
   "source": [
    "dataset = []\n",
    "for data in signal_pyg_graphs + background_pyg_graphs:\n",
    "    num_nodes = data.x.size()[0]\n",
    "    # Taking only those graph which have one isolated photon and  two btagged jets\n",
    "    if (num_nodes == 3) & (data.count_isophoton.item() == 1) & (data.count_btag_jets.item() == 2):\n",
    "        dataset.append(data)"
   ]
  },
  {
   "cell_type": "code",
   "execution_count": null,
   "id": "70811e95-7696-4157-9b26-b5f32410a306",
   "metadata": {},
   "outputs": [],
   "source": [
    "dataset = random.sample(dataset, len(dataset))\n",
    "print(f'Dataset contains {len(dataset)} samples')"
   ]
  },
  {
   "cell_type": "code",
   "execution_count": null,
   "id": "9323dda3-1189-4c01-adf0-342c92d7a8cd",
   "metadata": {},
   "outputs": [],
   "source": [
    "print(\"Example Graph Data Object:\")\n",
    "print(dataset[2000])"
   ]
  },
  {
   "cell_type": "code",
   "execution_count": null,
   "id": "be98fefc-1f29-4a56-8ff1-4c2ad0268ade",
   "metadata": {},
   "outputs": [],
   "source": [
    "print(dataset[2000].eventno)"
   ]
  },
  {
   "cell_type": "code",
   "execution_count": null,
   "id": "769bc432-478f-4354-b642-8b8ffaeceb9b",
   "metadata": {},
   "outputs": [],
   "source": [
    "dataset[2000].node_label"
   ]
  },
  {
   "cell_type": "code",
   "execution_count": null,
   "id": "77242525-755a-48e3-a859-4e081d8d6e4d",
   "metadata": {},
   "outputs": [],
   "source": [
    "dataset[2000].edge_attr"
   ]
  },
  {
   "cell_type": "markdown",
   "id": "ebfdbe2b-41cc-4d00-bd30-5a0c33afa636",
   "metadata": {},
   "source": [
    "# Train-Test Splits"
   ]
  },
  {
   "cell_type": "code",
   "execution_count": null,
   "id": "28616614-1e2f-438f-85cb-67662ecbf33b",
   "metadata": {},
   "outputs": [],
   "source": [
    "num_graphs = len(dataset)\n",
    "train_ratio, test_ratio = 0.7, 0.3\n",
    "train_size = int(train_ratio * num_graphs)\n",
    "test_size = num_graphs - train_size\n",
    "\n",
    "# Random split\n",
    "train_dataset, test_dataset = torch.utils.data.random_split(\n",
    "    dataset, [train_size, test_size], generator=torch.Generator().manual_seed(seed)\n",
    ")\n",
    "\n",
    "train_loader = DataLoader(train_dataset, batch_size=BATCH_SIZE, shuffle=True, pin_memory=True)\n",
    "test_loader = DataLoader(test_dataset, batch_size=BATCH_SIZE, shuffle=False, pin_memory=True)\n"
   ]
  },
  {
   "cell_type": "code",
   "execution_count": null,
   "id": "197f1c26-dd24-4368-9e4f-54f53faab1c8",
   "metadata": {},
   "outputs": [],
   "source": [
    "len(train_loader)"
   ]
  },
  {
   "cell_type": "markdown",
   "id": "4d5399e4-7f95-41e4-a630-4a225a988772",
   "metadata": {},
   "source": [
    "# Graph Visualization"
   ]
  },
  {
   "cell_type": "code",
   "execution_count": null,
   "id": "1f431bc7-1f40-428c-9221-b32e155b7f81",
   "metadata": {},
   "outputs": [],
   "source": [
    "from helper_function_module import visualize_graph\n",
    "visualize_graph(dataset[54], save_fig = False, save_fig_path = 'eventGraph.png')"
   ]
  },
  {
   "cell_type": "markdown",
   "id": "b92fb578-fe2f-4d2d-8223-a33108b08c9b",
   "metadata": {},
   "source": [
    "## Model 4 Best"
   ]
  },
  {
   "cell_type": "code",
   "execution_count": null,
   "id": "8e6c012f-c1e8-4ec5-bfda-1ae63af108ca",
   "metadata": {},
   "outputs": [],
   "source": [
    "class GCNClassifier(torch.nn.Module):\n",
    "    def __init__(self, num_node_features, num_edge_features, hidden_dim, num_graph_features,*, num_hidden_graph_features=0):\n",
    "        \"\"\"\n",
    "        GCN architecture for graph classification.\n",
    "\n",
    "        Parameters:\n",
    "        -----------\n",
    "        num_node_features : int\n",
    "            Number of features for each node.\n",
    "        hidden_dim : int\n",
    "            Dimension of the hidden layer embeddings.\n",
    "        num_graph_features : int\n",
    "            Number of additional graph-level features.\n",
    "        \"\"\"\n",
    "        super(GCNClassifier, self).__init__()\n",
    "\n",
    "        if num_hidden_graph_features != 0:\n",
    "            self.classify = torch.nn.Sequential(\n",
    "                torch.nn.Linear(hidden_dim + num_hidden_graph_features, 64),\n",
    "                torch.nn.ReLU(),\n",
    "                torch.nn.Dropout(p=0.5),\n",
    "                torch.nn.Linear(64, 1)\n",
    "            )\n",
    "\n",
    "            self.graph_features_nn = torch.nn.Sequential(\n",
    "                torch.nn.Linear(num_graph_features, 64),\n",
    "                torch.nn.ReLU(),\n",
    "                torch.nn.Dropout(p=0.5),\n",
    "                torch.nn.Linear(64, num_hidden_graph_features)\n",
    "            )\n",
    "        else:\n",
    "            self.classify = torch.nn.Sequential(\n",
    "                torch.nn.Linear(hidden_dim + num_graph_features, 64),\n",
    "                torch.nn.ReLU(),\n",
    "                torch.nn.Dropout(p=0.5),\n",
    "                torch.nn.Linear(64, 1)\n",
    "            )\n",
    "\n",
    "\n",
    "        ############### Model 4 - Best\n",
    "        self.lin0 = torch.nn.Linear(num_node_features, hidden_dim)\n",
    "        self.edge_nn = torch.nn.Sequential(\n",
    "            torch.nn.Linear(num_edge_features, 64),\n",
    "             torch.nn.ReLU(),\n",
    "            torch.nn.Dropout(p=0.5),\n",
    "            torch.nn.Linear(64, 128),\n",
    "             torch.nn.ReLU(),\n",
    "            torch.nn.Dropout(p=0.5),\n",
    "             torch.nn.Linear(128, hidden_dim * hidden_dim)\n",
    "        )\n",
    "        \n",
    "        self.conv1 = NNConv(hidden_dim, hidden_dim, nn = self.edge_nn, aggr='max')\n",
    "        # self.conv2 = GCNConv(hidden_dim, hidden_dim)\n",
    "        # self.conv3 = CGConv((hidden_dim, hidden_dim), aggr = 'max')\n",
    "        # self.conv4 = GMMConv(hidden_dim, hidden_dim, dim=1, kernel_size=5)\n",
    "        # self.conv5 = GatedGraphConv(hidden_dim, 5, aggr = 'max')\n",
    "        self.global_mean_pool_hook = global_mean_pool\n",
    "        \n",
    "\n",
    "    def forward(self, data):\n",
    "        \"\"\"\n",
    "        Forward pass of the GCN model.\n",
    "\n",
    "        Parameters:\n",
    "        -----------\n",
    "        data : Data\n",
    "            PyTorch Geometric Data object containing graph and its features.\n",
    "\n",
    "        Returns:\n",
    "        --------\n",
    "        out : torch.Tensor\n",
    "            Predicted probabilities for the graph labels.\n",
    "        \"\"\"\n",
    "        x, edge_index, edge_attr = data.x, data.edge_index, data.edge_attr\n",
    "        \n",
    "        # GCN layers\n",
    "        x = F.relu(self.lin0(x))\n",
    "        x = F.relu(self.conv1(x, edge_index, edge_attr))\n",
    "        # x = F.relu(self.conv2(x, edge_index, edge_attr))\n",
    "        # x = F.relu(self.conv3(x, edge_index, edge_attr))\n",
    "        # x = F.relu(self.conv4(x, edge_index, edge_attr))\n",
    "        # x = F.relu(self.conv5(x, edge_index, 1/edge_attr))\n",
    "        \n",
    "        x = self.global_mean_pool_hook(x, data.batch)  # Shape: (batch_size, hidden_dim)\n",
    "\n",
    "        graph_features = torch.cat([data.inv_mass.view(-1, 1)], dim=1)\n",
    "        x = torch.cat([x, graph_features], dim=1)\n",
    "        self.graph_embedding = x\n",
    "        # Fully connected layers\n",
    "        x = self.classify(x) \n",
    "\n",
    "        return torch.sigmoid(x)\n"
   ]
  },
  {
   "cell_type": "markdown",
   "id": "7dec198e-b862-4aa4-8a44-80f3331bcf56",
   "metadata": {},
   "source": [
    "## Network Training"
   ]
  },
  {
   "cell_type": "code",
   "execution_count": null,
   "id": "1330648f-dc45-4d62-831c-8a0ecc8c93ba",
   "metadata": {},
   "outputs": [],
   "source": [
    "from helper_function_module import train, test\n",
    "model = GCNClassifier(num_node_features=4,\n",
    "                      num_edge_features = 1,\n",
    "                      hidden_dim=10,\n",
    "                      num_graph_features=1,\n",
    "                      num_hidden_graph_features = 0).to(device)\n",
    "optimizer = optim.Adam(model.parameters(), lr=0.001, weight_decay=1e-4, amsgrad = False)\n",
    "criterion = torch.nn.BCELoss().to(device)\n",
    "\n",
    "EPOCHS = 250\n",
    "training_loss = []\n",
    "test_accuracy = []\n",
    "torch.cuda.empty_cache()\n",
    "\n",
    "with tqdm(total=EPOCHS, desc=\"Training Progress\", leave=True) as pbar:\n",
    "    for epoch in range(EPOCHS):\n",
    "        loss = train(model, train_loader, device, optimizer, criterion)\n",
    "        acc = test(model, test_loader, device, optimizer, criterion)\n",
    "        training_loss.append(loss)\n",
    "        test_accuracy.append(acc)\n",
    "\n",
    "        pbar.set_postfix({'Loss': f'{loss:.4f}', 'Accuracy': f'{acc:.4f}'})\n",
    "        pbar.update(1)"
   ]
  },
  {
   "cell_type": "code",
   "execution_count": null,
   "id": "3dea67e2-c77c-442a-9b61-af5f6c49bc5a",
   "metadata": {},
   "outputs": [],
   "source": [
    "plt.plot([epoch for epoch in range(EPOCHS)], training_loss, label = 'Training Loss')\n",
    "plt.plot([epoch for epoch in range(EPOCHS)], test_accuracy, color = 'g', label = 'Test Accuracy')\n",
    "plt.legend()\n",
    "plt.title('Training Loss and Testing Accuracy vs. Epochs')\n",
    "plt.xlabel('Epochs')\n",
    "# plt.ylim([0,2])\n",
    "plt.grid(which = 'both')\n",
    "# plt.savefig('NNConvTrainingLoss_TestAccuracy.png', dpi=300)\n",
    "plt.show()"
   ]
  },
  {
   "cell_type": "code",
   "execution_count": null,
   "id": "41ca7b9d-c48a-439d-badb-35d94d5f7924",
   "metadata": {},
   "outputs": [],
   "source": [
    "from helper_function_module import eval_model, get_labels_from_model\n",
    "y_true, y_pred_prob, y_pred_labels = get_labels_from_model(model, dataset)\n",
    "eval_model(y_true, y_pred_prob, y_pred_labels, save_fig = False, save_fig_path = 'NNConvMetricPlot.png')"
   ]
  },
  {
   "cell_type": "code",
   "execution_count": null,
   "id": "3676a744-e44c-4aa3-bafa-83d3d6b412b3",
   "metadata": {},
   "outputs": [],
   "source": [
    "from collections import Counter\n",
    "Counter(y_true)"
   ]
  },
  {
   "cell_type": "markdown",
   "id": "1e60e7c8-b6eb-487b-8096-49ea5283c308",
   "metadata": {},
   "source": [
    "# Testing the Model Performance on Test Data"
   ]
  },
  {
   "cell_type": "code",
   "execution_count": null,
   "id": "d0ac81b5-cbf8-444c-94bf-74acf52d8b36",
   "metadata": {},
   "outputs": [],
   "source": [
    "y_test_true, y_test_pred_prob, y_test_pred_labels = get_labels_from_model(model, test_dataset)\n",
    "eval_model(y_test_true, y_test_pred_prob, y_test_pred_labels, save_fig = False, save_fig_path = 'NNConvMetricPlot.png')"
   ]
  },
  {
   "cell_type": "code",
   "execution_count": null,
   "id": "15a41a56-cf12-4ea6-b0c0-f8055fadd5de",
   "metadata": {},
   "outputs": [],
   "source": [
    "# np.save('NNConv_main_model', np.vstack((y_true, y_pred_prob)))\n",
    "# torch.save(model, 'NNConv_main_model.pth')"
   ]
  },
  {
   "cell_type": "markdown",
   "id": "87c20d16-ceeb-4be9-ab09-d9418f595ca1",
   "metadata": {},
   "source": [
    "# Extracting Graph Embedding from the Model"
   ]
  },
  {
   "cell_type": "code",
   "execution_count": null,
   "id": "1d0432f4-b8a8-4d98-8510-4af5d7b0ae16",
   "metadata": {},
   "outputs": [],
   "source": [
    "from helper_function_module import get_graph_embeddings\n",
    "embedding_df = get_graph_embeddings(model, dataset)"
   ]
  },
  {
   "cell_type": "markdown",
   "id": "ff3d9acd-7b05-4016-8fbf-d8ffd9845046",
   "metadata": {},
   "source": [
    "## Classifying the Graph Embeddings Using a Random Forest Model from these graph embeddings"
   ]
  },
  {
   "cell_type": "code",
   "execution_count": null,
   "id": "d9e42ccf-4c22-40b4-93f3-47f123427481",
   "metadata": {},
   "outputs": [],
   "source": [
    "from sklearn.model_selection import train_test_split, GridSearchCV\n",
    "from sklearn.metrics import accuracy_score, confusion_matrix, roc_curve, auc\n",
    "from sklearn.ensemble import RandomForestClassifier"
   ]
  },
  {
   "cell_type": "code",
   "execution_count": null,
   "id": "04672bcc-0e8a-42df-ab74-c2bd5f4ed688",
   "metadata": {},
   "outputs": [],
   "source": [
    "X, y = embedding_df.iloc[:,:-2].values, embedding_df.iloc[:,-2].values.astype(int)\n",
    "X_train, X_test, y_train, y_test = train_test_split(X, y, test_size=0.2, random_state=seed)"
   ]
  },
  {
   "cell_type": "code",
   "execution_count": null,
   "id": "2956ef61-e8ad-4e50-ae62-9ca106626d12",
   "metadata": {},
   "outputs": [],
   "source": [
    "param_grid_forest = {\n",
    "    'n_estimators': [50, 100, 200],\n",
    "    'max_depth': [3, 5, 7],\n",
    "    'min_samples_split': [2, 5, 10]\n",
    "}\n",
    "grid_search_forest = GridSearchCV(RandomForestClassifier(random_state=seed),\n",
    "                          param_grid=param_grid_forest,\n",
    "                          cv=5,\n",
    "                          n_jobs=-1)\n",
    "grid_search_forest.fit(X_train, y_train)"
   ]
  },
  {
   "cell_type": "code",
   "execution_count": null,
   "id": "282bfe8b-25e2-43b1-aaa8-b7d2e3629def",
   "metadata": {},
   "outputs": [],
   "source": [
    "best_model = grid_search_forest.best_estimator_\n",
    "y_pred = best_model.predict(X_test)\n",
    "y_pred_prob = best_model.predict_proba(X_test)[:, 1]  # Get the probability of the positive class\n",
    "\n",
    "# Calculate accuracy\n",
    "accuracy = accuracy_score(y_test, y_pred)\n",
    "print(f'Best Model Test Accuracy: {accuracy:.2f}')\n",
    "print(f'Best Hyperparameters: {grid_search_forest.best_params_}')\n",
    "\n",
    "# Calculate ROC AUC\n",
    "fpr, tpr, _ = roc_curve(y_test, y_pred_prob)\n",
    "roc_auc = auc(fpr, tpr)\n",
    "print(f'ROC AUC: {roc_auc:.2f}')\n",
    "\n",
    "# Plot the ROC curve\n",
    "plt.figure(figsize=(6, 4))\n",
    "plt.plot(fpr, tpr, color='darkorange', lw=2, label='ROC curve (area = %0.2f)' % roc_auc)\n",
    "plt.plot([0, 1], [0, 1], color='navy', lw=2, linestyle='--')\n",
    "plt.xlim([0.0, 1.0])\n",
    "plt.ylim([0.0, 1.05])\n",
    "plt.xlabel('False Positive Rate')\n",
    "plt.ylabel('True Positive Rate')\n",
    "plt.title('Random Forest: ROC Curve')\n",
    "plt.legend(loc=\"lower right\")\n",
    "plt.show()"
   ]
  },
  {
   "cell_type": "markdown",
   "id": "ac2f9e5c-3929-4fd1-8aa3-939ee9ebcd45",
   "metadata": {},
   "source": [
    "## ANN Based Classifier"
   ]
  },
  {
   "cell_type": "code",
   "execution_count": null,
   "id": "69e8e295-8c1f-46ef-b4e2-169f8b326f59",
   "metadata": {},
   "outputs": [],
   "source": [
    "import tensorflow as tf\n",
    "from tensorflow.keras.models import Sequential\n",
    "from tensorflow.keras.layers import Dense, Dropout\n",
    "from sklearn.metrics import precision_score, recall_score, f1_score, roc_auc_score, roc_curve"
   ]
  },
  {
   "cell_type": "code",
   "execution_count": null,
   "id": "121772f8-65bb-4de9-a294-29cf5739e3ba",
   "metadata": {},
   "outputs": [],
   "source": [
    "input_size = X.shape[1]\n",
    "model_ANN = Sequential([\n",
    "    Input((input_size,)),\n",
    "    Dense(128, activation='relu'),\n",
    "    Dropout(0.5),\n",
    "    Dense(512, activation='relu'),\n",
    "    Dropout(0.5),\n",
    "    Dense(32, activation='relu'),\n",
    "    Dense(1, activation='sigmoid')  # Output layer for binary classification\n",
    "])\n",
    "\n",
    "# Compile the model\n",
    "model_ANN.compile(optimizer='adam', loss='binary_crossentropy', metrics=['accuracy', 'Precision', 'Recall', 'AUC'])\n",
    "\n",
    "# Train the model\n",
    "history = model_ANN.fit(X_train, y_train, epochs=40, batch_size=64, validation_split=0.2, verbose=1)"
   ]
  },
  {
   "cell_type": "code",
   "execution_count": null,
   "id": "d3d176f7-408c-4a4d-ba7e-d727f496655b",
   "metadata": {},
   "outputs": [],
   "source": [
    "# Plotting training history\n",
    "plt.figure(figsize=(9, 4))\n",
    "\n",
    "# Plot accuracy\n",
    "plt.subplot(1, 2, 1)\n",
    "plt.plot(history.history['accuracy'], label='Training Accuracy')\n",
    "plt.plot(history.history['val_accuracy'], label='Validation Accuracy')\n",
    "plt.xlabel('Epochs')\n",
    "plt.ylabel('Accuracy')\n",
    "plt.title('Model Accuracy')\n",
    "plt.grid(True)\n",
    "plt.legend()\n",
    "\n",
    "# Plot loss\n",
    "plt.subplot(1, 2, 2)\n",
    "plt.plot(history.history['loss'], label='Training Loss')\n",
    "plt.plot(history.history['val_loss'], label='Validation Loss')\n",
    "plt.xlabel('Epochs')\n",
    "plt.ylabel('Loss')\n",
    "plt.title('Model Loss')\n",
    "plt.legend()\n",
    "\n",
    "plt.tight_layout()\n",
    "plt.grid(True)\n",
    "plt.show()\n",
    "\n",
    "# Evaluate the model on the test set\n",
    "evaluation_results = model_ANN.evaluate(X_test, y_test)\n",
    "loss, accuracy, precision, recall, auc = evaluation_results\n",
    "print(f\"Test Loss: {loss:.4f}, Test Accuracy: {accuracy:.4f}, Precision: {precision:.4f}, Recall: {recall:.4f}, AUC: {auc:.4f}\")\n",
    "\n",
    "# Predict probabilities for the test set\n",
    "probability_scores = model_ANN.predict(X_test)\n",
    "print(\"Example probabilities:\", probability_scores[:5])\n",
    "\n",
    "# Additional evaluation metrics\n",
    "predictions = (probability_scores > 0.5).astype(int)\n",
    "precision = precision_score(y_test, predictions)\n",
    "recall = recall_score(y_test, predictions)\n",
    "f1 = f1_score(y_test, predictions)\n",
    "roc_auc = roc_auc_score(y_test, probability_scores)\n",
    "\n",
    "print(f\"Precision: {precision:.4f}, Recall: {recall:.4f}, F1 Score: {f1:.4f}, ROC AUC: {roc_auc:.4f}\")\n",
    "\n",
    "# ROC Curve\n",
    "fpr, tpr, thresholds = roc_curve(y_test, probability_scores)\n",
    "plt.figure()\n",
    "plt.plot(fpr, tpr, color='blue', lw=2, label=f'ROC curve (area = {roc_auc:.4f})')\n",
    "plt.plot([0, 1], [0, 1], color='gray', lw=2, linestyle='--')\n",
    "plt.xlabel('False Positive Rate')\n",
    "plt.ylabel('True Positive Rate')\n",
    "plt.title('Receiver Operating Characteristic (ROC) Curve')\n",
    "plt.legend(loc='lower right')\n",
    "plt.grid(True)\n",
    "plt.show()"
   ]
  },
  {
   "cell_type": "code",
   "execution_count": null,
   "id": "64c4feb2-5a40-4a53-9e71-cabeac801c81",
   "metadata": {},
   "outputs": [],
   "source": []
  }
 ],
 "metadata": {
  "kernelspec": {
   "display_name": "Python 3",
   "language": "python",
   "name": "python3"
  },
  "language_info": {
   "codemirror_mode": {
    "name": "ipython",
    "version": 3
   },
   "file_extension": ".py",
   "mimetype": "text/x-python",
   "name": "python",
   "nbconvert_exporter": "python",
   "pygments_lexer": "ipython3",
   "version": "3.10.16"
  }
 },
 "nbformat": 4,
 "nbformat_minor": 5
}
